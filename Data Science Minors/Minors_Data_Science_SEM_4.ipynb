{
  "cells": [
    {
      "cell_type": "markdown",
      "metadata": {
        "id": "mByyhHPycGOT"
      },
      "source": [
        "# Unit 1"
      ]
    },
    {
      "cell_type": "markdown",
      "metadata": {
        "id": "GsAYiMzJJ7_D"
      },
      "source": [
        "# 04-12-2024"
      ]
    },
    {
      "cell_type": "code",
      "execution_count": null,
      "metadata": {
        "id": "zHUXEfFtZ0eZ"
      },
      "outputs": [],
      "source": [
        "a = \"Hello!\"\n",
        "b = 'Hello!'"
      ]
    },
    {
      "cell_type": "markdown",
      "metadata": {
        "id": "mCiTFSS2bVC3"
      },
      "source": [
        "### Identifiers"
      ]
    },
    {
      "cell_type": "code",
      "execution_count": null,
      "metadata": {
        "id": "J1fxjIAabW7D"
      },
      "outputs": [],
      "source": [
        "abc = \"Hello\"\n",
        "_abc = \"Hello\"\n",
        "a2b = \"Hello\"\n",
        "ab_2d = \"Hello\""
      ]
    },
    {
      "cell_type": "markdown",
      "metadata": {
        "id": "Jf9-fPgVbs-v"
      },
      "source": [
        "## Keywords"
      ]
    },
    {
      "cell_type": "markdown",
      "metadata": {
        "id": "a6eK9KKAe5Le"
      },
      "source": [
        "### `and` Keyword"
      ]
    },
    {
      "cell_type": "code",
      "execution_count": 1,
      "metadata": {
        "id": "6Idvrd7tbroR",
        "colab": {
          "base_uri": "https://localhost:8080/"
        },
        "outputId": "a7214e7c-b357-4f14-a8a4-7ea74f17bba5"
      },
      "outputs": [
        {
          "output_type": "stream",
          "name": "stdout",
          "text": [
            "True\n"
          ]
        }
      ],
      "source": [
        "print( 10 > 3 and 5 < 10 )"
      ]
    },
    {
      "cell_type": "markdown",
      "metadata": {
        "id": "VrgX4Rn0fABW"
      },
      "source": [
        "### `as` & `import` Keyword\n"
      ]
    },
    {
      "cell_type": "code",
      "execution_count": 4,
      "metadata": {
        "id": "FhHAQpMofT2I",
        "colab": {
          "base_uri": "https://localhost:8080/"
        },
        "outputId": "0c338476-9b4d-481d-e717-42418bb7f574"
      },
      "outputs": [
        {
          "output_type": "stream",
          "name": "stdout",
          "text": [
            "January\n"
          ]
        }
      ],
      "source": [
        "import calendar as cal\n",
        "\n",
        "print(cal.month_name[1])"
      ]
    },
    {
      "cell_type": "markdown",
      "metadata": {
        "id": "s6vx-Za1KigL"
      },
      "source": [
        "# 05-12-2024"
      ]
    },
    {
      "cell_type": "markdown",
      "metadata": {
        "id": "0EliRvFFdjxv"
      },
      "source": [
        "### Loops"
      ]
    },
    {
      "cell_type": "code",
      "execution_count": 6,
      "metadata": {
        "id": "Bc0BDZwidlOP",
        "colab": {
          "base_uri": "https://localhost:8080/"
        },
        "outputId": "cd603c4a-ef16-41cd-9458-6c78bb4a6b20"
      },
      "outputs": [
        {
          "output_type": "stream",
          "name": "stdout",
          "text": [
            "0\n",
            "1\n",
            "2\n",
            "3\n",
            "4\n",
            "5\n",
            "6\n",
            "7\n",
            "8\n",
            "apple\n",
            "banana\n",
            "cherry\n"
          ]
        }
      ],
      "source": [
        "# for loop\n",
        "\n",
        "for i in range(9):\n",
        "  print(i)\n",
        "\n",
        "fruits = [\"apple\", \"banana\", \"cherry\"]\n",
        "for x in fruits:\n",
        "  print(x)"
      ]
    },
    {
      "cell_type": "markdown",
      "metadata": {
        "id": "srWz38qefuVu"
      },
      "source": [
        "`if` & `else` Keyword"
      ]
    },
    {
      "cell_type": "code",
      "execution_count": null,
      "metadata": {
        "id": "E-RWgJvTf0Uo",
        "colab": {
          "base_uri": "https://localhost:8080/"
        },
        "outputId": "87347b3e-6e4c-4cd6-8387-7c5411cadf16"
      },
      "outputs": [
        {
          "output_type": "stream",
          "name": "stdout",
          "text": [
            "x=5\n",
            "x!=10\n"
          ]
        }
      ],
      "source": [
        "x = 5\n",
        "if x == 5:\n",
        "    print(\"x=5\")\n",
        "\n",
        "if x == 10:\n",
        "    print(\"x=10\")\n",
        "else:\n",
        "    print(\"x!=10\")"
      ]
    },
    {
      "cell_type": "markdown",
      "metadata": {
        "id": "h_0LKfEckwno"
      },
      "source": [
        "### `def` Keyword"
      ]
    },
    {
      "cell_type": "code",
      "execution_count": null,
      "metadata": {
        "id": "z3c6gwixkCko",
        "colab": {
          "base_uri": "https://localhost:8080/"
        },
        "outputId": "f5a10cf4-cdab-44a2-c0e2-516489df94aa"
      },
      "outputs": [
        {
          "output_type": "stream",
          "name": "stdout",
          "text": [
            "My Function\n"
          ]
        }
      ],
      "source": [
        "def myFunc():\n",
        "  print(\"My Function\")\n",
        "\n",
        "\n",
        "myFunc()"
      ]
    },
    {
      "cell_type": "markdown",
      "metadata": {
        "id": "FZM9Qe9ak2t3"
      },
      "source": [
        "### `elif` Keyword"
      ]
    },
    {
      "cell_type": "code",
      "execution_count": null,
      "metadata": {
        "id": "bLu0Bvumk8N4",
        "colab": {
          "base_uri": "https://localhost:8080/"
        },
        "outputId": "8901bb8f-4d6f-4afa-aa71-a714fe80e4b2"
      },
      "outputs": [
        {
          "output_type": "stream",
          "name": "stdout",
          "text": [
            "x=5\n"
          ]
        }
      ],
      "source": [
        "x =5\n",
        "\n",
        "if x == 10:\n",
        "    print(\"x=10\")\n",
        "elif x == 5:\n",
        "    print(\"x=5\")"
      ]
    },
    {
      "cell_type": "markdown",
      "metadata": {
        "id": "HlVbQMevmuIf"
      },
      "source": [
        "## Numeric Literal"
      ]
    },
    {
      "cell_type": "code",
      "execution_count": 9,
      "metadata": {
        "id": "hIxLdNelmxlg",
        "colab": {
          "base_uri": "https://localhost:8080/"
        },
        "outputId": "ac928590-093a-4837-a046-3906e6d25e98"
      },
      "outputs": [
        {
          "output_type": "stream",
          "name": "stdout",
          "text": [
            "21 100 200 300\n",
            "10.5 150.0\n",
            "3.14j\n"
          ]
        }
      ],
      "source": [
        "a = 0b10101 # Binary Literals\n",
        "b = 100\n",
        "c = 0o310\n",
        "d = 0x12c\n",
        "\n",
        "float_1 = 10.5\n",
        "float_2 = 1.5e2\n",
        "\n",
        "x = 3.14j\n",
        "\n",
        "print(a, b, c, d)\n",
        "print(float_1, float_2)\n",
        "print(x)"
      ]
    },
    {
      "cell_type": "markdown",
      "metadata": {
        "id": "6N5RH9dNKqAb"
      },
      "source": [
        "# 07-12-2024"
      ]
    },
    {
      "cell_type": "markdown",
      "metadata": {
        "id": "ho-m8blEG4sa"
      },
      "source": [
        "## String Literal"
      ]
    },
    {
      "cell_type": "code",
      "execution_count": null,
      "metadata": {
        "colab": {
          "base_uri": "https://localhost:8080/"
        },
        "id": "dCiFJCGsG79W",
        "outputId": "6d8cc0f4-77f2-4162-eb91-a236c0ec0f17"
      },
      "outputs": [
        {
          "output_type": "stream",
          "name": "stdout",
          "text": [
            "this is python string\n",
            "this is python string\n",
            "c\n",
            "this is a multiline string with more than one line code.\n",
            "😀😆🤣\n",
            "raw \\n string\n"
          ]
        }
      ],
      "source": [
        "string = 'this is python string'\n",
        "strings = \"this is python string\"\n",
        "\n",
        "c = \"c\"\n",
        "\n",
        "multiline_str = \"\"\"this is a multiline string with more than one line code.\"\"\"\n",
        "\n",
        "uni_code = u\"\\U0001f600\\U0001F606\\U0001F923\"\n",
        "raw_str = r\"raw \\n string\"\n",
        "\n",
        "print(string)\n",
        "print(strings)\n",
        "print(c)\n",
        "print(multiline_str)\n",
        "print(uni_code)\n",
        "print(raw_str)"
      ]
    },
    {
      "cell_type": "markdown",
      "metadata": {
        "id": "SJk50uKtH1Fh"
      },
      "source": [
        "## Boolean Literal"
      ]
    },
    {
      "cell_type": "code",
      "execution_count": null,
      "metadata": {
        "colab": {
          "base_uri": "https://localhost:8080/"
        },
        "id": "hjB0SyhQIBj5",
        "outputId": "e2bb9693-6e0e-4716-dfd8-d7eb0dccdf96"
      },
      "outputs": [
        {
          "output_type": "stream",
          "name": "stdout",
          "text": [
            "a: 5\n",
            "b: 10\n"
          ]
        }
      ],
      "source": [
        "a = True + 4\n",
        "b = False + 10\n",
        "\n",
        "print(\"a:\", a)\n",
        "print(\"b:\", b)"
      ]
    },
    {
      "cell_type": "markdown",
      "metadata": {
        "id": "S7j3zvifIKIZ"
      },
      "source": [
        "## Special Literal"
      ]
    },
    {
      "cell_type": "code",
      "execution_count": null,
      "metadata": {
        "colab": {
          "base_uri": "https://localhost:8080/"
        },
        "id": "HYsH2Xt-IgHU",
        "outputId": "24771dfc-40ca-415c-cfce-907799c3e689"
      },
      "outputs": [
        {
          "output_type": "stream",
          "name": "stdout",
          "text": [
            "None\n"
          ]
        }
      ],
      "source": [
        "a = None\n",
        "print(a)"
      ]
    },
    {
      "cell_type": "markdown",
      "metadata": {
        "id": "1Y8dwNLWI256"
      },
      "source": [
        "## List Literal"
      ]
    },
    {
      "cell_type": "code",
      "execution_count": null,
      "metadata": {
        "colab": {
          "base_uri": "https://localhost:8080/"
        },
        "id": "9NsAi5g1I7sF",
        "outputId": "f4ef05b2-ce62-462a-b1e5-cfadac773343"
      },
      "outputs": [
        {
          "output_type": "stream",
          "name": "stdout",
          "text": [
            "[1, 2, 3, 4]\n",
            "['one', 'two', 'three', 'four']\n"
          ]
        }
      ],
      "source": [
        "number = [1, 2, 3, 4]\n",
        "name = [\"one\", \"two\", \"three\", \"four\"]\n",
        "\n",
        "print(number)\n",
        "print(name)"
      ]
    },
    {
      "cell_type": "markdown",
      "metadata": {
        "id": "XP1TGXobLG6Z"
      },
      "source": [
        "## Tuple Literal"
      ]
    },
    {
      "cell_type": "code",
      "execution_count": null,
      "metadata": {
        "colab": {
          "base_uri": "https://localhost:8080/"
        },
        "id": "HlV5PC4mLKKS",
        "outputId": "0f6762d3-46c7-4b25-fe61-7043ff9a304e"
      },
      "outputs": [
        {
          "output_type": "stream",
          "name": "stdout",
          "text": [
            "(2, 4, 6, 8)\n",
            "(1, 3, 5, 7)\n"
          ]
        }
      ],
      "source": [
        "even_numbers = (2, 4, 6, 8)\n",
        "odd_numbers = (1, 3, 5, 7)\n",
        "\n",
        "print(even_numbers)\n",
        "print(odd_numbers)"
      ]
    },
    {
      "cell_type": "markdown",
      "metadata": {
        "id": "vIQF1qlCLd7K"
      },
      "source": [
        "## Dictionary Literal"
      ]
    },
    {
      "cell_type": "code",
      "execution_count": null,
      "metadata": {
        "colab": {
          "base_uri": "https://localhost:8080/"
        },
        "id": "knGXIUJuLqs4",
        "outputId": "d6b4579f-1998-4af4-e0bc-55e47feafd40"
      },
      "outputs": [
        {
          "output_type": "stream",
          "name": "stdout",
          "text": [
            "{'a': 'apple', 'b': 'ball', 'c': 'cat'}\n"
          ]
        }
      ],
      "source": [
        "alphabets = {'a': 'apple', 'b': 'ball', 'c': 'cat'}\n",
        "print(alphabets)"
      ]
    },
    {
      "cell_type": "markdown",
      "metadata": {
        "id": "2Ho48mh7LNvT"
      },
      "source": [
        "## Set Literal"
      ]
    },
    {
      "cell_type": "code",
      "execution_count": null,
      "metadata": {
        "colab": {
          "base_uri": "https://localhost:8080/"
        },
        "id": "QemrzNnLLa6E",
        "outputId": "4a6fc095-66d8-47b3-8e0b-c473c7d6ebde"
      },
      "outputs": [
        {
          "output_type": "stream",
          "name": "stdout",
          "text": [
            "{'i', 'u', 'e', 'a', 'o'}\n",
            "{'b', 'g', 'c', 'd', 'f'}\n"
          ]
        }
      ],
      "source": [
        "vowel_letters = {'a', 'e', 'i', 'o', 'u'}\n",
        "consonant_letters = {'b', 'c', 'd', 'f', 'g'}\n",
        "\n",
        "print(vowel_letters)\n",
        "print(consonant_letters)"
      ]
    },
    {
      "cell_type": "markdown",
      "metadata": {
        "id": "ecxmuCpRM0IM"
      },
      "source": [
        "# 10-12-2024"
      ]
    },
    {
      "cell_type": "markdown",
      "metadata": {
        "id": "Y2PJnqZvOwlB"
      },
      "source": [
        "## Comparison Operators"
      ]
    },
    {
      "cell_type": "code",
      "execution_count": null,
      "metadata": {
        "colab": {
          "base_uri": "https://localhost:8080/"
        },
        "id": "jHwkj9vjOwsY",
        "outputId": "1a92ce0a-1882-41cf-e168-dbbe39eae676"
      },
      "outputs": [
        {
          "output_type": "stream",
          "name": "stdout",
          "text": [
            "False\n",
            "False\n",
            "True\n",
            "True\n",
            "True\n",
            "False\n",
            "False\n",
            "True\n",
            "True\n",
            "False\n",
            "True\n",
            "False\n",
            "True\n",
            "False\n"
          ]
        }
      ],
      "source": [
        "a = 71\n",
        "b = 12\n",
        "c = 69\n",
        "#Equality\n",
        "print(a == b)\n",
        "print(a == c)\n",
        "#Inequality\n",
        "print(a != b)\n",
        "print(a != c)\n",
        "#Greater than\n",
        "print(a > b)\n",
        "print(b > a)\n",
        "#Less than\n",
        "print(a < b)\n",
        "print(b < a)\n",
        "#Greater than equal to\n",
        "print(a >= b)\n",
        "print(b >= c)\n",
        "print(a >= c)\n",
        "#Less than equal to\n",
        "print(a <= b)\n",
        "print(b <= c)\n",
        "print(a <= c)"
      ]
    },
    {
      "cell_type": "markdown",
      "metadata": {
        "id": "PWwUivVxQs0l"
      },
      "source": [
        "## Variables"
      ]
    },
    {
      "cell_type": "code",
      "execution_count": null,
      "metadata": {
        "colab": {
          "base_uri": "https://localhost:8080/"
        },
        "id": "4JZt7pk-Qs7W",
        "outputId": "c9c0b332-3c9f-4afa-a439-7d4fd8421829"
      },
      "outputs": [
        {
          "output_type": "stream",
          "name": "stdout",
          "text": [
            "1 2 5\n",
            "6 7 8\n"
          ]
        }
      ],
      "source": [
        "geeks = 1\n",
        "Geeks = 2\n",
        "Ge_e_ks = 5\n",
        "_geeks = 6\n",
        "geeks_ = 7\n",
        "_GEEKS_ = 8\n",
        "print(geeks, Geeks, Ge_e_ks)\n",
        "print(_geeks, geeks_, _GEEKS_)"
      ]
    },
    {
      "cell_type": "markdown",
      "metadata": {
        "id": "NF5QnLHISbjZ"
      },
      "source": [
        "## Variable Assignment"
      ]
    },
    {
      "cell_type": "code",
      "execution_count": null,
      "metadata": {
        "colab": {
          "base_uri": "https://localhost:8080/"
        },
        "id": "dVBBIkRBSbu6",
        "outputId": "cc98b32e-ed13-4243-eab4-79842ecac8e1"
      },
      "outputs": [
        {
          "output_type": "stream",
          "name": "stdout",
          "text": [
            "19\n",
            "3114.75\n",
            "Kunal\n"
          ]
        }
      ],
      "source": [
        "age = 19\n",
        "salary = 3114.75\n",
        "name = \"Kunal\"\n",
        "print(age)\n",
        "print(salary)\n",
        "print(name)"
      ]
    },
    {
      "cell_type": "markdown",
      "metadata": {
        "id": "VftwAVZwSb5P"
      },
      "source": [
        "## Variable redeclaration & initialization"
      ]
    },
    {
      "cell_type": "code",
      "execution_count": null,
      "metadata": {
        "colab": {
          "base_uri": "https://localhost:8080/"
        },
        "id": "5XAcuQpsScFL",
        "outputId": "f2249cf9-83d7-47e0-d1e5-7cf0892017a2"
      },
      "outputs": [
        {
          "output_type": "stream",
          "name": "stdout",
          "text": [
            "Before declaring:  100\n",
            "After re - declaring:  120.3\n"
          ]
        }
      ],
      "source": [
        "number = 100\n",
        "print(\"Before declaring: \", number)\n",
        "number = 120.3\n",
        "print(\"After re - declaring: \", number)"
      ]
    },
    {
      "cell_type": "markdown",
      "metadata": {
        "id": "y87kN3o1St_-"
      },
      "source": [
        "## Same Value different variables"
      ]
    },
    {
      "cell_type": "code",
      "execution_count": null,
      "metadata": {
        "colab": {
          "base_uri": "https://localhost:8080/"
        },
        "id": "-3_lyW-XSuIs",
        "outputId": "9b110fc0-81ad-4187-ca36-ff0a096813bd"
      },
      "outputs": [
        {
          "output_type": "stream",
          "name": "stdout",
          "text": [
            "10\n",
            "10\n",
            "10\n"
          ]
        }
      ],
      "source": [
        "a = b = c = 10\n",
        "print(a)\n",
        "print(b)\n",
        "print(c)"
      ]
    },
    {
      "cell_type": "markdown",
      "metadata": {
        "id": "psgOoPkTS__Q"
      },
      "source": [
        "## Different value different variables"
      ]
    },
    {
      "cell_type": "code",
      "execution_count": null,
      "metadata": {
        "colab": {
          "base_uri": "https://localhost:8080/"
        },
        "id": "jI3QFDGcTAKx",
        "outputId": "537ca6d7-b93e-4661-ef25-ecb1361b4da0"
      },
      "outputs": [
        {
          "output_type": "stream",
          "name": "stdout",
          "text": [
            "10\n",
            "59.2\n",
            "Python\n"
          ]
        }
      ],
      "source": [
        "a, b, c, = 10, 59.2, \"Python\"\n",
        "print(a)\n",
        "print(b)\n",
        "print(c)"
      ]
    },
    {
      "cell_type": "markdown",
      "metadata": {
        "id": "EabGDBwzVeww"
      },
      "source": [
        "## Print method params"
      ]
    },
    {
      "cell_type": "code",
      "execution_count": null,
      "metadata": {
        "colab": {
          "base_uri": "https://localhost:8080/"
        },
        "id": "WLUo_0hLVe4N",
        "outputId": "28ca7559-fdcd-41bf-9a79-39e35dad3857"
      },
      "outputs": [
        {
          "output_type": "stream",
          "name": "stdout",
          "text": [
            "28\n",
            "7\n",
            "I am learning -  PYTHON\n",
            "This is python series number %d 10\n",
            "x^y\n",
            "x y#"
          ]
        }
      ],
      "source": [
        "varOne = 21\n",
        "varTwo = 7\n",
        "print(varOne + varTwo)\n",
        "\n",
        "print(2 + 5)\n",
        "\n",
        "myVar = \"PYTHON\"\n",
        "print(\"I am learning - \", myVar)\n",
        "\n",
        "myVar = 10\n",
        "print(\"This is python series number %d\", myVar)\n",
        "\n",
        "print('x', 'y', sep = '^')\n",
        "\n",
        "print('x', 'y', end = '#')"
      ]
    },
    {
      "cell_type": "markdown",
      "metadata": {
        "id": "hJnzjch6Vr8I"
      },
      "source": [
        "## Input method"
      ]
    },
    {
      "cell_type": "code",
      "execution_count": null,
      "metadata": {
        "colab": {
          "base_uri": "https://localhost:8080/"
        },
        "id": "N-5zYFoXVsGc",
        "outputId": "32aeae3d-968b-42ac-b9d0-5058492a03cd"
      },
      "outputs": [
        {
          "output_type": "stream",
          "name": "stdout",
          "text": [
            "Enter your first name: Kunal\n",
            "Hey! Kunal\n"
          ]
        }
      ],
      "source": [
        "name = input(\"Enter your first name: \")\n",
        "print(\"Hey!\", name)"
      ]
    },
    {
      "cell_type": "markdown",
      "metadata": {
        "id": "9vTJGD0qW4UF"
      },
      "source": [
        "## Multiple inputs at once"
      ]
    },
    {
      "cell_type": "code",
      "execution_count": null,
      "metadata": {
        "colab": {
          "base_uri": "https://localhost:8080/"
        },
        "id": "r64XcMtbW4aJ",
        "outputId": "7e42155c-9e2f-41cf-decc-bb804980125f"
      },
      "outputs": [
        {
          "output_type": "stream",
          "name": "stdout",
          "text": [
            "Enter values: 12 13 14\n",
            "12\n",
            "13\n",
            "14\n"
          ]
        }
      ],
      "source": [
        "x, y, z = input(\"Enter values: \").split()\n",
        "print(x)\n",
        "print(y)\n",
        "print(z)"
      ]
    },
    {
      "cell_type": "markdown",
      "metadata": {
        "id": "fjuTkQrMW9tX"
      },
      "source": [
        "## Take Username, Password and print."
      ]
    },
    {
      "cell_type": "code",
      "execution_count": null,
      "metadata": {
        "colab": {
          "base_uri": "https://localhost:8080/"
        },
        "id": "TBrFbHZhW96O",
        "outputId": "28b13447-ae5a-4ccd-de3d-8b77144d5947"
      },
      "outputs": [
        {
          "output_type": "stream",
          "name": "stdout",
          "text": [
            "Username: kunalshah017\n",
            "Password: Kunal123\n",
            "Username:  kunalshah017\n",
            "Password:  Kunal123\n"
          ]
        }
      ],
      "source": [
        "user = input(\"Username: \")\n",
        "pwd = input(\"Password: \")\n",
        "print(\"Username: \", user)\n",
        "print(\"Password: \", pwd)"
      ]
    },
    {
      "cell_type": "markdown",
      "metadata": {
        "id": "ZUGWLv5xXcnZ"
      },
      "source": [
        "## Take number and print square\n"
      ]
    },
    {
      "cell_type": "code",
      "execution_count": 10,
      "metadata": {
        "colab": {
          "base_uri": "https://localhost:8080/"
        },
        "id": "lm9oYePjXcye",
        "outputId": "cc357908-3249-494d-d989-e1e6c3d5d17d"
      },
      "outputs": [
        {
          "output_type": "stream",
          "name": "stdout",
          "text": [
            "Enter a number: 4\n",
            "Square of number: 16\n"
          ]
        }
      ],
      "source": [
        "number = int(input(\"Enter a number: \"))\n",
        "sq = number * number\n",
        "print(\"Square of number:\", sq)"
      ]
    },
    {
      "cell_type": "markdown",
      "metadata": {
        "id": "l1xXV0xZZKh1"
      },
      "source": [
        "## Datatypes with input"
      ]
    },
    {
      "cell_type": "code",
      "execution_count": null,
      "metadata": {
        "colab": {
          "base_uri": "https://localhost:8080/"
        },
        "id": "rwCsgb1CZKsR",
        "outputId": "8c8936a9-e5f9-4fe0-e8e8-a24a91db8b12"
      },
      "outputs": [
        {
          "output_type": "stream",
          "name": "stdout",
          "text": [
            "What are you doing? Python\n",
            "Python\n",
            "Which session is this? 1\n",
            "1\n",
            "What is today's temperature? 20.3\n",
            "20.3\n",
            "Enter a complex number: 3+4j\n",
            "(3+4j)\n"
          ]
        }
      ],
      "source": [
        "myStr = input(\"What are you doing? \")\n",
        "print(myStr)\n",
        "\n",
        "myInt = int(input(\"Which session is this? \"))\n",
        "print(myInt)\n",
        "\n",
        "myFloat = float(input(\"What is today's temperature? \"))\n",
        "print(myFloat)\n",
        "\n",
        "myComplex = complex(input(\"Enter a complex number: \"))\n",
        "print(myComplex)"
      ]
    },
    {
      "cell_type": "markdown",
      "metadata": {
        "id": "4fylCVdAMoQ7"
      },
      "source": [
        "# 11-12-2024"
      ]
    },
    {
      "cell_type": "markdown",
      "metadata": {
        "id": "GnLynTuNOQzo"
      },
      "source": [
        "## Arithmatic Operators"
      ]
    },
    {
      "cell_type": "code",
      "execution_count": null,
      "metadata": {
        "id": "PqonhPUgOlj6",
        "colab": {
          "base_uri": "https://localhost:8080/"
        },
        "outputId": "f08e031b-0dc4-4dbe-c462-bf10b72de548"
      },
      "outputs": [
        {
          "output_type": "stream",
          "name": "stdout",
          "text": [
            "7\n",
            "-1\n",
            "12\n",
            "0.75\n",
            "3\n",
            "0\n",
            "81\n"
          ]
        }
      ],
      "source": [
        "a = 3\n",
        "b = 4\n",
        "\n",
        "print(a + b)\n",
        "print(a - b)\n",
        "print(a * b)\n",
        "print(a / b)\n",
        "print(a % b)\n",
        "print(a // b)\n",
        "print(a ** b)"
      ]
    },
    {
      "cell_type": "markdown",
      "metadata": {
        "id": "0THuok2YOyfS"
      },
      "source": [
        "## Relational Operators"
      ]
    },
    {
      "cell_type": "code",
      "execution_count": null,
      "metadata": {
        "id": "qqXo8hEWO1Lz",
        "colab": {
          "base_uri": "https://localhost:8080/"
        },
        "outputId": "2a279958-1029-4ef2-83bd-169705747b37"
      },
      "outputs": [
        {
          "output_type": "stream",
          "name": "stdout",
          "text": [
            "False\n",
            "True\n",
            "False\n",
            "True\n",
            "False\n",
            "True\n"
          ]
        }
      ],
      "source": [
        "print(a == b)\n",
        "print(a != b)\n",
        "print(a > b)\n",
        "print(a < b)\n",
        "print(a >= b)\n",
        "print(a <= b)"
      ]
    },
    {
      "cell_type": "markdown",
      "metadata": {
        "id": "2QwWOMPzO8gT"
      },
      "source": [
        "## Strings as Arrays"
      ]
    },
    {
      "cell_type": "code",
      "execution_count": null,
      "metadata": {
        "id": "7AvZenDVZVmV",
        "colab": {
          "base_uri": "https://localhost:8080/"
        },
        "outputId": "92dfb9c4-71e1-4961-a107-c2e38d781335"
      },
      "outputs": [
        {
          "output_type": "stream",
          "name": "stdout",
          "text": [
            "e\n"
          ]
        }
      ],
      "source": [
        "a = \"Hello World!\"\n",
        "print(a[1])"
      ]
    },
    {
      "cell_type": "markdown",
      "metadata": {
        "id": "z0_NelOpa_cE"
      },
      "source": [
        "## Use `in` and `if` statements"
      ]
    },
    {
      "cell_type": "code",
      "execution_count": null,
      "metadata": {
        "id": "q0iwiCzKbExN",
        "colab": {
          "base_uri": "https://localhost:8080/"
        },
        "outputId": "ed6ebdd3-fdef-4cad-c25f-25ea770b4e82"
      },
      "outputs": [
        {
          "output_type": "stream",
          "name": "stdout",
          "text": [
            "True\n",
            "Yes, 'free' is present.\n",
            "No, 'expensive' is NOT present.\n"
          ]
        }
      ],
      "source": [
        "txt = \"The best things in life are free!\"\n",
        "print(\"free\" in txt)\n",
        "\n",
        "if \"free\" in txt:\n",
        "  print(\"Yes, 'free' is present.\")\n",
        "\n",
        "if \"expensive\" not in txt:\n",
        "  print(\"No, 'expensive' is NOT present.\")"
      ]
    },
    {
      "cell_type": "markdown",
      "metadata": {
        "id": "KpU4wNYScs1D"
      },
      "source": [
        "## Accessing String Elements"
      ]
    },
    {
      "cell_type": "code",
      "execution_count": null,
      "metadata": {
        "id": "cJCmbgCncrCz",
        "colab": {
          "base_uri": "https://localhost:8080/"
        },
        "outputId": "151ff5e8-9a48-44cd-b271-c7798227e40d"
      },
      "outputs": [
        {
          "output_type": "stream",
          "name": "stdout",
          "text": [
            "H\n",
            "ello\n",
            "Hello\n",
            "d\n"
          ]
        }
      ],
      "source": [
        "my_string = \"Hello World!\"\n",
        "print(my_string[0])\n",
        "\n",
        "print(my_string[1:5])\n",
        "print(my_string[:5])\n",
        "\n",
        "print(my_string[-2])"
      ]
    },
    {
      "cell_type": "markdown",
      "metadata": {
        "id": "xhhNt2WDf6Xb"
      },
      "source": [
        "## String Comparison"
      ]
    },
    {
      "cell_type": "code",
      "execution_count": null,
      "metadata": {
        "id": "xSWAwlA6f85_",
        "colab": {
          "base_uri": "https://localhost:8080/"
        },
        "outputId": "03c86913-0622-454b-e8d2-436ba5d46c99"
      },
      "outputs": [
        {
          "output_type": "stream",
          "name": "stdout",
          "text": [
            "False\n",
            "True\n",
            "True\n",
            "True\n"
          ]
        }
      ],
      "source": [
        "str1 = \"Hello\"\n",
        "str2 = \"World\"\n",
        "str3 = \"Hello\"\n",
        "\n",
        "print(str1 == str2)\n",
        "print(str1 == str3)\n",
        "\n",
        "print(str1 != str2)\n",
        "\n",
        "print(str1 < str2)"
      ]
    },
    {
      "cell_type": "markdown",
      "metadata": {
        "id": "pL-n4m8CLFH7"
      },
      "source": [
        "# 16-12-2024"
      ]
    },
    {
      "cell_type": "markdown",
      "metadata": {
        "id": "OAToCcKQJjZj"
      },
      "source": [
        "## `slice` function"
      ]
    },
    {
      "cell_type": "code",
      "execution_count": null,
      "metadata": {
        "id": "rXWTSuACJviI",
        "colab": {
          "base_uri": "https://localhost:8080/"
        },
        "outputId": "ab4bf2a3-b891-4109-f602-20d5c3a5fd6c"
      },
      "outputs": [
        {
          "output_type": "stream",
          "name": "stdout",
          "text": [
            "('a', 'b')\n",
            "('d', 'e')\n",
            "('a', 'd', 'g')\n"
          ]
        }
      ],
      "source": [
        "a = (\"a\", \"b\", \"c\", \"d\", \"e\", \"f\", \"g\", \"h\")\n",
        "x = slice(2)\n",
        "print(a[x])\n",
        "\n",
        "x = slice(3, 5)\n",
        "print(a[x])\n",
        "\n",
        "x = slice(0, 8, 3)\n",
        "print(a[x])"
      ]
    },
    {
      "cell_type": "markdown",
      "metadata": {
        "id": "ZtlpDVImLJ8S"
      },
      "source": [
        "## String Methods"
      ]
    },
    {
      "cell_type": "code",
      "execution_count": null,
      "metadata": {
        "id": "md_tCTLyLH57",
        "colab": {
          "base_uri": "https://localhost:8080/"
        },
        "outputId": "66625d30-d63f-4965-ff3e-69f1966a6d3a"
      },
      "outputs": [
        {
          "output_type": "stream",
          "name": "stdout",
          "text": [
            "Enter a string: Pruble Palace\n",
            "String Capitalized Pruble palace\n",
            "String Lowercase pruble palace\n",
            "String Uppercase PRUBLE PALACE\n",
            "String Titlecase Pruble Palace\n",
            "String Swapcase pRUBLE pALACE\n",
            "String Replace Case Pruble PAlAce\n"
          ]
        }
      ],
      "source": [
        "str = input(\"Enter a string: \")\n",
        "print(\"String Capitalized\", str.capitalize())\n",
        "print(\"String Lowercase\", str.lower())\n",
        "print(\"String Uppercase\", str.upper())\n",
        "print(\"String Titlecase\", str.title())\n",
        "print(\"String Swapcase\", str.swapcase())\n",
        "print(\"String Replace Case\", str.replace(\"a\", \"A\"))"
      ]
    },
    {
      "cell_type": "markdown",
      "metadata": {
        "id": "1tjNhZpZOCZC"
      },
      "source": [
        "## String Alignment"
      ]
    },
    {
      "cell_type": "code",
      "execution_count": null,
      "metadata": {
        "id": "p9HeoJRBOGdj",
        "colab": {
          "base_uri": "https://localhost:8080/"
        },
        "outputId": "859554b4-c0a1-44d9-8796-2a46dd5d2905"
      },
      "outputs": [
        {
          "output_type": "stream",
          "name": "stdout",
          "text": [
            "Enter a string: Hellow Mella\n",
            "    Hellow Mella    \n",
            "Hellow Mella        \n",
            "        Hellow Mella\n"
          ]
        }
      ],
      "source": [
        "a = input(\"Enter a string: \")\n",
        "print(a.center(20))\n",
        "print(a.ljust(20))\n",
        "print(a.rjust(20))"
      ]
    },
    {
      "cell_type": "markdown",
      "metadata": {
        "id": "wdqPVwJsO04a"
      },
      "source": [
        "## `strip` method"
      ]
    },
    {
      "cell_type": "code",
      "execution_count": null,
      "metadata": {
        "id": "YMsMTfBcO3Nr",
        "colab": {
          "base_uri": "https://localhost:8080/"
        },
        "outputId": "c4e2ff40-8a1f-4805-8be9-5fb8d8e3b416"
      },
      "outputs": [
        {
          "output_type": "stream",
          "name": "stdout",
          "text": [
            "Enter a string:     prick prock\n",
            "Left Strip prick prock\n",
            "Right Strip     prick prock\n",
            "Strip prick prock\n"
          ]
        }
      ],
      "source": [
        "a = input(\"Enter a string: \")\n",
        "print(\"Left Strip\", a.lstrip())\n",
        "print(\"Right Strip\", a.rstrip())\n",
        "print(\"Strip\", a.strip())"
      ]
    },
    {
      "cell_type": "markdown",
      "metadata": {
        "id": "dO59ji94Qymy"
      },
      "source": [
        "## String Checking"
      ]
    },
    {
      "cell_type": "code",
      "execution_count": null,
      "metadata": {
        "id": "wPIAsPpGSB8C",
        "colab": {
          "base_uri": "https://localhost:8080/"
        },
        "outputId": "7d59a374-b9dd-47c9-a2d5-c4404f92f8fa"
      },
      "outputs": [
        {
          "output_type": "stream",
          "name": "stdout",
          "text": [
            "Enter a string: I am learning python\n",
            "Is string ends with thon True\n",
            "Is string starts with Py False\n",
            "Find 16\n",
            "Count 1\n"
          ]
        }
      ],
      "source": [
        "a = input(\"Enter a string: \")\n",
        "print(\"Is string ends with thon\", a.endswith(\"thon\"))\n",
        "print(\"Is string starts with Py\", a.startswith(\"Py\"))\n",
        "print(\"Find\", a.find(\"thon\"))\n",
        "print(\"Count\", a.count(\"thon\"))"
      ]
    },
    {
      "cell_type": "markdown",
      "metadata": {
        "id": "qDkB16MbSwwi"
      },
      "source": [
        "`rsplit` method"
      ]
    },
    {
      "cell_type": "code",
      "execution_count": null,
      "metadata": {
        "id": "Jt7zVQhxSMkc",
        "colab": {
          "base_uri": "https://localhost:8080/"
        },
        "outputId": "c5238c52-545f-4e26-85c9-e8d2fe0ebb6c"
      },
      "outputs": [
        {
          "output_type": "stream",
          "name": "stdout",
          "text": [
            "['apple', 'banana', 'cherry']\n"
          ]
        }
      ],
      "source": [
        "txt = \"apple, banana, cherry\"\n",
        "\n",
        "x = txt.rsplit(\", \")\n",
        "\n",
        "print(x)"
      ]
    },
    {
      "cell_type": "markdown",
      "metadata": {
        "id": "f7FnCZ8-UU_J"
      },
      "source": [
        "# 17-12-2024"
      ]
    },
    {
      "cell_type": "markdown",
      "metadata": {
        "id": "4EScJSdCUeZB"
      },
      "source": [
        "## Index Method"
      ]
    },
    {
      "cell_type": "code",
      "execution_count": null,
      "metadata": {
        "id": "nl8wFXDQUZLS",
        "colab": {
          "base_uri": "https://localhost:8080/"
        },
        "outputId": "5c160a4f-bfc6-432c-a2e9-ef55264bada3"
      },
      "outputs": [
        {
          "output_type": "stream",
          "name": "stdout",
          "text": [
            "13\n"
          ]
        }
      ],
      "source": [
        "txt = \"Hello, welcome to my world\"\n",
        "s = txt.rindex(\"e\")\n",
        "print(s)"
      ]
    },
    {
      "cell_type": "markdown",
      "metadata": {
        "id": "g6vO0hOmXG6J"
      },
      "source": [
        "## Fill method"
      ]
    },
    {
      "cell_type": "code",
      "execution_count": null,
      "metadata": {
        "id": "tTCOpwNiXGcp",
        "colab": {
          "base_uri": "https://localhost:8080/"
        },
        "outputId": "2ce0d77e-575d-4bae-9440-3e74bb967b00"
      },
      "outputs": [
        {
          "output_type": "stream",
          "name": "stdout",
          "text": [
            "00000hello\n",
            "Welcome to the Console\n",
            "00010.0000\n"
          ]
        }
      ],
      "source": [
        "a = \"hello\"\n",
        "b = \"Welcome to the Console\"\n",
        "c = \"10.0000\"\n",
        "\n",
        "print(a.zfill(10))\n",
        "print(b.zfill(10))\n",
        "print(c.zfill(10))"
      ]
    },
    {
      "cell_type": "markdown",
      "metadata": {
        "id": "9Yj5GWDmYu6o"
      },
      "source": [
        "## `partition` method"
      ]
    },
    {
      "cell_type": "code",
      "execution_count": 14,
      "metadata": {
        "id": "Zp9NWjfLYyeB",
        "colab": {
          "base_uri": "https://localhost:8080/"
        },
        "outputId": "ad4ded51-f982-44d5-a456-a122321182de"
      },
      "outputs": [
        {
          "output_type": "stream",
          "name": "stdout",
          "text": [
            "('Welcome', ' to ', 'Utopia')\n"
          ]
        }
      ],
      "source": [
        "msg = \"Welcome to Utopia\"\n",
        "x = msg.partition(\" to \")\n",
        "print(x)"
      ]
    },
    {
      "cell_type": "markdown",
      "metadata": {
        "id": "MCjP8MHAZaQo"
      },
      "source": [
        "## `join` method"
      ]
    },
    {
      "cell_type": "code",
      "execution_count": null,
      "metadata": {
        "id": "s5VqRnoVZflh",
        "colab": {
          "base_uri": "https://localhost:8080/"
        },
        "outputId": "9ed7a121-a01e-4b35-c956-32a770fa8b19"
      },
      "outputs": [
        {
          "output_type": "stream",
          "name": "stdout",
          "text": [
            "Python-is-easy-to-learn\n"
          ]
        }
      ],
      "source": [
        "words = [\"Python\", \"is\", \"easy\", \"to\", \"learn\"]\n",
        "msg = \"-\".join(words)\n",
        "print(msg)"
      ]
    },
    {
      "cell_type": "markdown",
      "metadata": {
        "id": "Za8eFW3Pb3PQ"
      },
      "source": [
        "## Access List Elements"
      ]
    },
    {
      "cell_type": "code",
      "execution_count": null,
      "metadata": {
        "id": "X1nGM1cgbqKh",
        "colab": {
          "base_uri": "https://localhost:8080/"
        },
        "outputId": "859cf032-7fe5-4878-8295-4a6da23d5a45"
      },
      "outputs": [
        {
          "output_type": "stream",
          "name": "stdout",
          "text": [
            "banana\n"
          ]
        }
      ],
      "source": [
        "my_list = [\"apple\", \"banana\", \"cherry\"]\n",
        "print(my_list[1])"
      ]
    },
    {
      "cell_type": "markdown",
      "metadata": {
        "id": "eqww2Ld2c6oY"
      },
      "source": [
        "## Access List Elements by Negative Index"
      ]
    },
    {
      "cell_type": "code",
      "execution_count": null,
      "metadata": {
        "id": "uOfLuhNXcPrh",
        "colab": {
          "base_uri": "https://localhost:8080/"
        },
        "outputId": "c1982a63-4fca-4875-bb2b-65f6fa1845c7"
      },
      "outputs": [
        {
          "output_type": "stream",
          "name": "stdout",
          "text": [
            "cherry\n"
          ]
        }
      ],
      "source": [
        "list = [\"apple\", \"banana\", \"cherry\"]\n",
        "print(list[-1])"
      ]
    },
    {
      "cell_type": "markdown",
      "metadata": {
        "id": "V7CY8rupcOAS"
      },
      "source": [
        "# 18-12-2024"
      ]
    },
    {
      "cell_type": "markdown",
      "metadata": {
        "id": "rwGAWkjAdkMK"
      },
      "source": [
        "## Access List Elements by Index Range"
      ]
    },
    {
      "cell_type": "code",
      "execution_count": null,
      "metadata": {
        "id": "gEvFz8YUdpxY",
        "colab": {
          "base_uri": "https://localhost:8080/"
        },
        "outputId": "ecca0721-a1f2-4975-dfea-359c04737c2b"
      },
      "outputs": [
        {
          "output_type": "stream",
          "name": "stdout",
          "text": [
            "['cherry', 'mango', 'jackfruit']\n"
          ]
        }
      ],
      "source": [
        "list = [\"apple\", \"banana\", \"cherry\", \"mango\", \"jackfruit\"]\n",
        "print(list[2:5])"
      ]
    },
    {
      "cell_type": "markdown",
      "metadata": {
        "id": "1kgaEdytd_-I"
      },
      "source": [
        "## Check if item exists in list"
      ]
    },
    {
      "cell_type": "code",
      "execution_count": null,
      "metadata": {
        "id": "gokojfp6d_B6",
        "colab": {
          "base_uri": "https://localhost:8080/"
        },
        "outputId": "13dd0ed2-995c-409d-c264-a0d39592a093"
      },
      "outputs": [
        {
          "output_type": "stream",
          "name": "stdout",
          "text": [
            "Yes, 'apple' is in the fruits list\n",
            "No, 'mango' is not in the fruits list\n"
          ]
        }
      ],
      "source": [
        "list = [\"apple\", \"banana\", \"cherry\"]\n",
        "if \"apple\" in list:\n",
        "  print(\"Yes, 'apple' is in the fruits list\")\n",
        "\n",
        "if \"mango\" not in list:\n",
        "  print(\"No, 'mango' is not in the fruits list\")"
      ]
    },
    {
      "cell_type": "markdown",
      "metadata": {
        "id": "dfJ4p3qJe65Y"
      },
      "source": [
        "## Append list elements"
      ]
    },
    {
      "cell_type": "code",
      "execution_count": null,
      "metadata": {
        "id": "QpWZ5v4ce96A",
        "colab": {
          "base_uri": "https://localhost:8080/"
        },
        "outputId": "cc72b44a-f3ed-43e9-e1e6-f4434b80a232"
      },
      "outputs": [
        {
          "output_type": "stream",
          "name": "stdout",
          "text": [
            "['apple', 'banana', 'cherry', 'orange']\n"
          ]
        }
      ],
      "source": [
        "list = [\"apple\", \"banana\", \"cherry\"]\n",
        "list.append(\"orange\")\n",
        "print(list)"
      ]
    },
    {
      "cell_type": "markdown",
      "metadata": {
        "id": "83XhL4wfgQjP"
      },
      "source": [
        "## Insert elements in list"
      ]
    },
    {
      "cell_type": "code",
      "execution_count": null,
      "metadata": {
        "id": "y7WCtuJrgUfI",
        "colab": {
          "base_uri": "https://localhost:8080/"
        },
        "outputId": "09fab25b-f812-4574-86c5-ba25217b2a70"
      },
      "outputs": [
        {
          "output_type": "stream",
          "name": "stdout",
          "text": [
            "['apple', 'orange', 'banana', 'cherry']\n"
          ]
        }
      ],
      "source": [
        "list = [\"apple\", \"banana\", \"cherry\"]\n",
        "list.insert(1, \"orange\")\n",
        "print(list)"
      ]
    },
    {
      "cell_type": "markdown",
      "metadata": {
        "id": "0xK4Q44UhVA4"
      },
      "source": [
        "## Remove list elements"
      ]
    },
    {
      "cell_type": "code",
      "execution_count": null,
      "metadata": {
        "id": "M-tw_l17hYtQ",
        "colab": {
          "base_uri": "https://localhost:8080/"
        },
        "outputId": "ddc41aeb-b52a-4825-dd43-09b6f430b193"
      },
      "outputs": [
        {
          "output_type": "stream",
          "name": "stdout",
          "text": [
            "['apple', 'cherry']\n"
          ]
        }
      ],
      "source": [
        "list = [\"apple\", \"banana\", \"cherry\"]\n",
        "list.remove(\"banana\")\n",
        "print(list)"
      ]
    },
    {
      "cell_type": "markdown",
      "metadata": {
        "id": "gUkbgRwAh6c3"
      },
      "source": [
        "## Loop list"
      ]
    },
    {
      "cell_type": "code",
      "execution_count": null,
      "metadata": {
        "id": "d8KmhwoUh7_v",
        "colab": {
          "base_uri": "https://localhost:8080/"
        },
        "outputId": "c2a72991-ff1d-40b0-982d-0d22c07f70f5"
      },
      "outputs": [
        {
          "output_type": "stream",
          "name": "stdout",
          "text": [
            "apple\n",
            "banana\n",
            "cherry\n"
          ]
        }
      ],
      "source": [
        "list = [\"apple\", \"banana\", \"cherry\"]\n",
        "for x in list:\n",
        "  print(x)"
      ]
    },
    {
      "cell_type": "markdown",
      "metadata": {
        "id": "O9529Ydziccf"
      },
      "source": [
        "## Loop list with While Loop"
      ]
    },
    {
      "cell_type": "code",
      "execution_count": null,
      "metadata": {
        "id": "Ewkpc5HRid4X",
        "colab": {
          "base_uri": "https://localhost:8080/"
        },
        "outputId": "414f4168-dbcb-45da-9561-4786284e6369"
      },
      "outputs": [
        {
          "output_type": "stream",
          "name": "stdout",
          "text": [
            "apple\n",
            "banana\n",
            "cherry\n"
          ]
        }
      ],
      "source": [
        "list = [\"apple\", \"banana\", \"cherry\"]\n",
        "i = 0\n",
        "while i < len(list):\n",
        "  print(list[i])\n",
        "  i = i + 1"
      ]
    },
    {
      "cell_type": "markdown",
      "metadata": {
        "id": "e097B82OkkMH"
      },
      "source": [
        "## Sort list elements"
      ]
    },
    {
      "cell_type": "code",
      "execution_count": null,
      "metadata": {
        "id": "IEjzbX9Zkm0_",
        "colab": {
          "base_uri": "https://localhost:8080/"
        },
        "outputId": "41d1cd9a-7cc7-4c5b-98f6-442eca5be63c"
      },
      "outputs": [
        {
          "output_type": "stream",
          "name": "stdout",
          "text": [
            "['apple', 'banana', 'cherry', 'guava', 'jackfruit', 'mango', 'rasberry']\n",
            "[23, 50, 65, 82, 100]\n"
          ]
        }
      ],
      "source": [
        "list = [\"apple\", \"banana\", \"cherry\", \"mango\", \"jackfruit\",\"guava\", \"rasberry\"]\n",
        "list.sort()\n",
        "print(list)\n",
        "\n",
        "numerical_list = [100, 50, 65, 82, 23]\n",
        "numerical_list.sort()\n",
        "print(numerical_list)"
      ]
    },
    {
      "cell_type": "markdown",
      "metadata": {
        "id": "sNtjYmpRwuTX"
      },
      "source": [
        "# 02-01-2025"
      ]
    },
    {
      "cell_type": "markdown",
      "metadata": {
        "id": "2IrQaz_wxkZm"
      },
      "source": [
        "## Join two list"
      ]
    },
    {
      "cell_type": "code",
      "execution_count": null,
      "metadata": {
        "id": "niNicjkKxiEc",
        "colab": {
          "base_uri": "https://localhost:8080/"
        },
        "outputId": "639a9e3d-01a3-4770-c9f2-8b99a373fee7"
      },
      "outputs": [
        {
          "output_type": "stream",
          "name": "stdout",
          "text": [
            "['a', 'b', 'c', 1, 2, 3]\n"
          ]
        }
      ],
      "source": [
        "list1 = [\"a\", \"b\", \"c\"]\n",
        "list2 = [1, 2, 3]\n",
        "\n",
        "list3 = list1 + list2\n",
        "print(list3)"
      ]
    },
    {
      "cell_type": "markdown",
      "metadata": {
        "id": "FW21KjScVf1X"
      },
      "source": [
        "# 06-01-2025"
      ]
    },
    {
      "cell_type": "markdown",
      "metadata": {
        "id": "lXdrJHcaZG02"
      },
      "source": [
        "## Basic Window with Tkinter"
      ]
    },
    {
      "cell_type": "code",
      "execution_count": null,
      "metadata": {
        "id": "hIccSweMY4mI"
      },
      "outputs": [],
      "source": [
        "import tkinter as tk\n",
        "\n",
        "root = tk.Tk()\n",
        "\n",
        "root.title(\"Basic Window\")\n",
        "\n",
        "root.geometry(\"400x300\")\n",
        "\n",
        "root.mainloop()"
      ]
    },
    {
      "cell_type": "markdown",
      "metadata": {
        "id": "icoGYTABwDMb"
      },
      "source": [
        "![1.png](data:image/png;base64,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)"
      ]
    },
    {
      "cell_type": "markdown",
      "metadata": {
        "id": "P5tfaYikZKin"
      },
      "source": [
        "## Label in a window"
      ]
    },
    {
      "cell_type": "code",
      "execution_count": null,
      "metadata": {
        "id": "8xiq1KHKZFwf"
      },
      "outputs": [],
      "source": [
        "import tkinter as tk\n",
        "\n",
        "root = tk.Tk()\n",
        "root.title(\"Window with Label\")\n",
        "root.geometry(\"400x300\")\n",
        "\n",
        "label = tk.Label(root, text=\"Hello, World!\")\n",
        "label.pack()\n",
        "\n",
        "root.mainloop()\n"
      ]
    },
    {
      "cell_type": "markdown",
      "metadata": {
        "id": "q4yYRsrK3g0F"
      },
      "source": [
        "![image.png](data:image/png;base64,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)"
      ]
    },
    {
      "cell_type": "markdown",
      "metadata": {
        "id": "UGP3Vz7xZehu"
      },
      "source": [
        "## Button in a window"
      ]
    },
    {
      "cell_type": "code",
      "execution_count": null,
      "metadata": {
        "id": "3QNGFhWZVh3e"
      },
      "outputs": [],
      "source": [
        "from tkinter import *\n",
        "\n",
        "root = Tk()\n",
        "\n",
        "frame = Frame(root)\n",
        "\n",
        "frame.pack()\n",
        "\n",
        "button = Button(frame, text=\"Hello World\")\n",
        "\n",
        "button.pack()\n",
        "\n",
        "root.mainloop()"
      ]
    },
    {
      "cell_type": "markdown",
      "metadata": {
        "id": "7tvZ20Bu3elm"
      },
      "source": [
        "![image.png](data:image/png;base64,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)"
      ]
    },
    {
      "cell_type": "markdown",
      "metadata": {
        "id": "u8MUu5lJsna4"
      },
      "source": [
        "## Entry feilds in window"
      ]
    },
    {
      "cell_type": "code",
      "execution_count": null,
      "metadata": {
        "id": "ovZhYgEBsp5I"
      },
      "outputs": [],
      "source": [
        "import tkinter as tk\n",
        "\n",
        "master = tk.Tk()\n",
        "master.title(\"Name Entry\")\n",
        "\n",
        "tk.Label(master, text=\"First Name\").grid(row=0)\n",
        "tk.Label(master, text=\"Last Name\").grid(row=1)\n",
        "\n",
        "e1 = tk.Entry(master)\n",
        "e2 = tk.Entry(master)\n",
        "\n",
        "e1.grid(row=0, column=1)\n",
        "e2.grid(row=1, column=1)\n",
        "\n",
        "master.mainloop()\n"
      ]
    },
    {
      "cell_type": "markdown",
      "metadata": {
        "id": "N5nfzMew3XW9"
      },
      "source": [
        "![image.png](data:image/png;base64,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)"
      ]
    },
    {
      "cell_type": "markdown",
      "metadata": {
        "id": "qqlyCq06v1Ou"
      },
      "source": [
        "# 07-01-2025"
      ]
    },
    {
      "cell_type": "markdown",
      "metadata": {
        "id": "pUpGVbMasrS4"
      },
      "source": [
        "## Check button in window"
      ]
    },
    {
      "cell_type": "code",
      "execution_count": null,
      "metadata": {
        "id": "gptc_nVgtMYQ"
      },
      "outputs": [],
      "source": [
        "import tkinter as tk\n",
        "\n",
        "master = tk.Tk()\n",
        "master.title(\"Checkbutton Example\")\n",
        "\n",
        "checkbutton = tk.Checkbutton(master, text=\"Option 1\")\n",
        "checkbutton.pack()\n",
        "\n",
        "master.mainloop()\n"
      ]
    },
    {
      "cell_type": "markdown",
      "metadata": {
        "id": "D2AvaQlw1ckV"
      },
      "source": [
        "![image.png](data:image/png;base64,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)"
      ]
    },
    {
      "cell_type": "markdown",
      "metadata": {
        "id": "GWzv1usltlM4"
      },
      "source": [
        "## Radio button in window"
      ]
    },
    {
      "cell_type": "code",
      "execution_count": null,
      "metadata": {
        "id": "HrXbFNu8tNX_"
      },
      "outputs": [],
      "source": [
        "import tkinter as tk\n",
        "\n",
        "master = tk.Tk()\n",
        "master.title(\"Radiobutton Example\")\n",
        "\n",
        "selected_option = tk.StringVar()\n",
        "\n",
        "radio1 = tk.Radiobutton(master, text=\"Option 1\", variable=selected_option, value=\"Option 1\")\n",
        "radio2 = tk.Radiobutton(master, text=\"Option 2\", variable=selected_option, value=\"Option 2\")\n",
        "\n",
        "radio1.pack()\n",
        "radio2.pack()\n",
        "\n",
        "master.mainloop()\n"
      ]
    },
    {
      "cell_type": "markdown",
      "metadata": {
        "id": "j8IJPOoB1bHl"
      },
      "source": [
        "![image.png](data:image/png;base64,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)"
      ]
    },
    {
      "cell_type": "markdown",
      "metadata": {
        "id": "pUTX56dKtq8Q"
      },
      "source": [
        "## List Box in window"
      ]
    },
    {
      "cell_type": "code",
      "execution_count": null,
      "metadata": {
        "id": "Y7s2F2pZtzdS"
      },
      "outputs": [],
      "source": [
        "from tkinter import *\n",
        "root = Tk()\n",
        "lb = Listbox(root)\n",
        "lb.insert(1, 'Python')\n",
        "lb.insert(2, 'SQL')\n",
        "lb.insert(3, 'R')\n",
        "lb.pack()\n",
        "root.mainloop()"
      ]
    },
    {
      "cell_type": "markdown",
      "metadata": {
        "id": "aVpaftpb1RA6"
      },
      "source": [
        "![Screenshot 2025-01-06 190351.png](data:image/png;base64,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)"
      ]
    },
    {
      "cell_type": "markdown",
      "metadata": {
        "id": "IynwU8NTwiYY"
      },
      "source": [
        "## Scroll Bar in window"
      ]
    },
    {
      "cell_type": "code",
      "execution_count": null,
      "metadata": {
        "id": "3YRRpRftwyRX"
      },
      "outputs": [],
      "source": [
        "from tkinter import *\n",
        "root = Tk()\n",
        "scrollbar = Scrollbar(root)\n",
        "scrollbar.pack(side = RIGHT, fill = Y)\n",
        "mylist = Listbox(root, yscrollcommand = scrollbar.set)\n",
        "for line in range(21):\n",
        "    mylist.insert(END, 'This is line number '+str(line))\n",
        "mylist.pack(side = LEFT, fill = BOTH)\n",
        "scrollbar.config(command = mylist.yview)\n",
        "root.mainloop()"
      ]
    },
    {
      "cell_type": "markdown",
      "metadata": {
        "id": "7NlpapMe1N8N"
      },
      "source": [
        "![image.png](data:image/png;base64,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)"
      ]
    },
    {
      "cell_type": "markdown",
      "metadata": {
        "id": "dj89uTQmw3S2"
      },
      "source": [
        "## Menu in window"
      ]
    },
    {
      "cell_type": "code",
      "execution_count": null,
      "metadata": {
        "id": "dYjrzI_Aw3BW"
      },
      "outputs": [],
      "source": [
        "from tkinter import *\n",
        "root = Tk()\n",
        "menu = Menu(root)\n",
        "root.config(menu = menu)\n",
        "filemenu = Menu(menu)\n",
        "menu.add_cascade(label = 'File', menu = filemenu)\n",
        "filemenu.add_command(label = 'New')\n",
        "filemenu.add_command(label = 'Open')\n",
        "filemenu.add_separator()\n",
        "filemenu.add_command(label = 'Exit', command = root.quit)\n",
        "helpmenu = Menu(menu)\n",
        "menu.add_cascade(label = 'Help', menu = helpmenu)\n",
        "helpmenu.add_command(label = 'About')\n",
        "root.mainloop()"
      ]
    },
    {
      "cell_type": "markdown",
      "metadata": {
        "id": "CYXDo47Q1L0N"
      },
      "source": [
        "![image.png](data:image/png;base64,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)"
      ]
    },
    {
      "cell_type": "markdown",
      "metadata": {
        "id": "92IISk_Cw9V2"
      },
      "source": [
        "# 08-01-2025"
      ]
    },
    {
      "cell_type": "markdown",
      "metadata": {
        "id": "lIeFwqOsxBmm"
      },
      "source": [
        "## Combo box in window"
      ]
    },
    {
      "cell_type": "code",
      "execution_count": null,
      "metadata": {
        "id": "Z4GA0jNcxA2m"
      },
      "outputs": [],
      "source": [
        "import tkinter as tk\n",
        "from tkinter import ttk\n",
        "def on_select(event):\n",
        "    selected_item = combo_box.get()\n",
        "    label.config(text = 'Selected Item' +selected_item)\n",
        "root = tk.Tk()\n",
        "root.title(\"Combo Box Example\")\n",
        "label = tk.Label(root, text = \"Selected Item: \")\n",
        "label.pack(pady = 10)\n",
        "combo_box = ttk.Combobox(root, values = [\"Option 1\", \"Option 2\", \"Option 3\"])\n",
        "combo_box.pack(pady = 5)\n",
        "combo_box.set(\"Option 1\")\n",
        "combo_box.bind(\"<<ComboboxSelected>>\", on_select)\n",
        "root.mainloop()"
      ]
    },
    {
      "cell_type": "markdown",
      "metadata": {
        "id": "vwQjf5Su1E61"
      },
      "source": [
        "![image.png](data:image/png;base64,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)"
      ]
    },
    {
      "cell_type": "markdown",
      "metadata": {
        "id": "RwyDluyXxHd2"
      },
      "source": [
        "## Message Function"
      ]
    },
    {
      "cell_type": "code",
      "execution_count": null,
      "metadata": {
        "id": "9LIY6IRCxLC3"
      },
      "outputs": [],
      "source": [
        "from tkinter import *\n",
        "root = Tk()\n",
        "ourMessage = 'Python Programming in Data Science Minor'\n",
        "messageVar = Message(root, text = ourMessage)\n",
        "messageVar.config(bg = 'pink')\n",
        "messageVar.pack()\n",
        "root.mainloop()"
      ]
    },
    {
      "cell_type": "markdown",
      "metadata": {
        "id": "zsisvAn01Dxt"
      },
      "source": [
        "![image.png](data:image/png;base64,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)"
      ]
    },
    {
      "cell_type": "markdown",
      "metadata": {
        "id": "ot4nGTLxxOc2"
      },
      "source": [
        "## Text Function"
      ]
    },
    {
      "cell_type": "code",
      "execution_count": null,
      "metadata": {
        "id": "E7D6JqzExQev"
      },
      "outputs": [],
      "source": [
        "from tkinter import *\n",
        "root = Tk()\n",
        "t = Text(root, height = 2, width = 30)\n",
        "t.pack()\n",
        "t.insert(END, 'BEST WAY TO \\n LEARN PYTHON\\n')\n",
        "root.mainloop()"
      ]
    },
    {
      "cell_type": "markdown",
      "metadata": {
        "id": "PYURSbks1A1d"
      },
      "source": [
        "![image.png](data:image/png;base64,iVBORw0KGgoAAAANSUhEUgAAAV4AAAB6CAYAAAD3YTuOAAAAAXNSR0IArs4c6QAAAARnQU1BAACxjwv8YQUAAAAJcEhZcwAADsMAAA7DAcdvqGQAAB3FSURBVHhe7d13WFRn3v/xN8PQe+9NRIoIgqIiIDaMmphEY4mp627a5kk07Ulikt1sNpu99tlfdlM2ZbM+G/WXjZvElpjYothARERBEJDeERjK0Ic2PH+ABkbXWCcav6/rOv+c+3sfZrjgM2fuc859G7S1tQ0ghBBCbxS6O4QQQlxfErxCCKFnErxCCKFnErxCCKFnBtfq4tqJEyfYm5hIfmEhfr7+rHzqSaytrXTLhBDilndVZ7x9fX2oVCo+++wzvvzqC9oUtniNT6Cqooz+/j7dciGEEFcbvCqVisQDh2gYcMDEMxKt43hacKW3t4eBgWtyIi2EED87Vxy8dXV1ZOXkk1/TjnNIPE7Bs2k19KCqsQdTU1P6+vrQarW63YQQ4pZ3RcE7MDDA0aNHOZiWTdCMB+nu1XIkLYvC/CLo70GhUNDR0UF/f79uVyGEuOVdUfD29fXR3NxEY1MDHR0dbPj0E5o1RpgMtDFQk4JSqcTGxgalUqnb9bI9++yzPPvss7q7hRB6smbNGpycnLCysrro5uTkxJo1a3S731QCA4PYuHGT7u7zbNy4iZCQsbq7L9kV3dXw7bffUlTfjbFbKMaW9vz5maV4xK/CXNuEz0AuD9+3hMjISIyNjXW7XtSmTZv4/e9/T1ZW1rl9Z0P3nXfeGVYphNAXJycnnnvuOWJjY3WbRkhOTuavf/0rKpVKt+mmsXHjJp5auZIP3n+fJUsW6zbDJdb8mMs649VqtbS0tHD8+HGaOvrox5C9G9dgMyoWUxtXjBVaXB2sCQ8Px8jISLe7EOImpNFoiI2NJS4u7qJbbGwsGo1Gt/tNZcmSxXzw/vs8tXLlBc98r0XocrnB29fXR25uLr1KS4ytHKirKCJxy6e4RC7FxNQM44EurK2tMTMzw8DAQLf7RS1cuJAVK1ZQWlqKlZUVCxcu1C2BoTorKyuOHDmi2ySEEFftP4XvtQpdLjd4NRoN+/fvx3fi7fiMjaarswNjS0cMDBT0VCRj0FKIqampbrdLsnXrVtauXYufnx9tbW1s3bpVt4R3332XvXv30tbWRnR0tG6zEEJcE7rhey1Dl8sNXq1WS319Pd3d3Rz8Zi27t20m8hf/RGluS5+6gumTQ3nggQd0u10TmzZt4je/+Q3Z2dm6TUL8JHQvLv3YJm4uw8P3WoYulxu8DN1KNgBoOtro6uzEyMySrqI9eNkr8fH2ui5/YImJiaxYsYLs7Gx8fX11m4X4SbS1tV3WJsRZlx28CoUCf0clbjZDt4r196CtTSc6MoiQkBDd8msqPT1dd5cQQlwXw4cXLjTmezUuK3gHBgbo7u5Gqy6HThW9HU10VB5jtJsZ0ZMir9vZ6KxZs/j+++9ZsWIFmzZdmzcuhBD/ie6Yru6Y79W67ODt7e3ly81bSE5JQVN/mrajH7Js0R14e3vrll82Dw8PSktLdXcDEB0dzdq1a1mxYoXc0SCEuG50Q/esaxm+lxW8lpaWPP7445gbG9GkUuHh4cGSJYsJCwvD0tJSt/yyRUdH4+fn9x9vJ1u8eDFvvvkmc+bM4d1339VtFkJcB6ampiQnJ5OUlHTRLTk5+YrvarpR/KfQPetahe9lPbk2MDBAR0cHeXl5fPLJJ9TW1vLhhx/i4eFxTR4PFkLceNasWcMrr7zyow9HmJqa8sc//pFHH31Ut+mmERIyljfeeOOCoTvcxo2beO2118jPP63bdEkuK3jP6u7u5k9/+hM5OTl89dVXus1CCHFTGhgYuOyHv67EZQ01nKVUKvHw8MDPz0+3SQghblr6CF2u9IwXIDc3l+bmZmJiYnSbhBBCXMQVB68QQogrc0VDDUIIIa6cBK8QQuiZBK8QQuiZBK8QQuiZBK8QQuiZBK8QQuiZBK8QQuiZBK8QQuiZBK8QQuiZQUtLy3V/cq2mpoasrCzd3UIIcd00NjbS09Oju/uyjBo1ioiICDo7O3WbroqBWq2+7sFbWVnJ6dOniYqKwtDQULdZCCFuSBYWFlhbW9Pe3q7bdFX0FrxFRUUsWLBAglcIcVPp7++/5sErY7xCCKFnErxCCKFnErxCCKFnErxCCKFn+r+4VpPC9kOZpJ6uH1lk541/6ERmTI7A2wZas7/m+9R8siouMKht4YV74BR+vTBsaEcHtWW5ZKQcJSWvDgB7X18szL1wMXfjzgUhtGZvZfuRIvKqO0YcapAV9h7BTF26gDAbMLvo9b9OertKOPDRdrLV7TRjjaNPKNF3zsCnfCs7j5ZSXNeFqZMv3lPvYlGYmlMbEzlxuooaAIUJuMbywO3hBHrbAaDt6aAlawtbUiooU5ng4h/O1LsTCLOBwl3rOXqqiGJDb2zHzebJ6d6YGV30BdLfpaYlaytfpVRT3dSt2wzY4hE8gejbpzPOGhQGrdRnHeP4sSxSypoAcAmeyuSpEYT4umKh212IW8j1uLhm+PLLL/9Od+e11traSlNTE4GBgSjqM0ncvomtew6TcWaA/jYVDSoVVapaatq0dCncmOhvTWfhfvbu2MLX+9JILe3EUKNGpVKhqsolK19FocqBh+8aB0C36iS5x1PYczCXvOIyVCoVbRo1BafVVBYbcMftQdQn/pl/bM/kYG4DXXWF5B7cQFqtEc3NLVRlF1Ba0oR1wu0EW/1Y8Gro05Rx7IP32ZBWRnZtH5bWTnhFhGBXuZeDaSfY890xcnJbMYqZSZx3C0W7kziRlkJK9kl27yumsaGdgPAg3NycMDMEbW8X7fl72L1zOzuO1FA54M6EaZF4m0P5d++w8buDfF9ujPXocBKCnTBWXvyLSl97PfXf/4E/by8lp6wRdXkmp45sJ7XOnK6WBorTcqltV2AfM41QG1AXbudoYhL7juSTWVVDs0pFY0s9DX2mYGaPu4MFRro/RIhbxMDAwFXfD6xL/8HrFIKfST0+AYE4Lv6QD15YxvJ7lzEnWENdeREbDvXyyztCsPSdRKBVEzbufhjO+h0b3nqIebPv4t7bgvBzckDTYktCQiAATUc+I6ugmdaQVbz/5uPcu2wZMX62GHb009Zvy6yZo+ksPUy11z3Mvv95XlkShq9qA6b3fc2qp5/i7jG22PY0YTZlJkFWYHrR4DVBqXAizKuWYr97mbn0F6y+dzwOHc30e09j9h2xeHe6YdHiyp2vzsJH6UpQ3Gxmzx7NGHcnyhon8OzoI9T6TMTA3hNvCwMUSlMs/Kcxc7QhZqPCMA+M4Z5Qe8yV3dj0VNFkM5nAmCX8z/2hPxq6DJ1Bd5alUBm8iocefZon4u3w7D+J8sE9/GHVA8Ta9mFrpsA6IopAs3aO/OMF9le54ZCwit++8V88umwZPv0H2Z54muxaY8ZFBeKk1P0pQtwarkfw/vh/sR7ZWVkQ4OV2gZU+O4AU1v5+Cyey7Jm+cDm//e1tIypaaKeEOiqBXsB+9BTueWQ5r76agIGhEa7zf8/K5XewPNJ2RD+AwIQElv/2JZZ4gPWlnNopFODuBW1d0FRBSeq3/G5qPHGvfceB/AJwNsDOz5UowHioS0tFMZ3t9QT8YjFTZgVTVtdJcUXLyOOGLGOCRTdeuV/wwfFuOvvS+PduNb32PsxcNPghcymMrF3xWPIRv10eS0KglW4zkcuXs3zlr5jvoMaw+ku2lcwhYsoinl4wGtehmrA5r7Eyup8o7W62Z8J1H48S4hbykwVvVcZe/vXCXG6fN5e5c+ey7LF17Mw0YPLccSOCV513iD3/8xhz577IRxnFlPQZYGxqhqWlybka24jbmODvQ8iBd/nT3LksnjuXR1b/hY37C9FoBusUJlZYmJliZnT+W1aamGBmaYmpIehG/gUZGIChIdQ1QnkO7W3FFNrZE1JUw0B5OZVKULk7Y8TZ4zVRVQL1FY5MmWaLZezdOJa3QkkVgyOqQ5Rm+E0NI3CsPbVr/sYn/72W5oAogqMnE2J6GaecBgoMTW2wNDPGRHn+OzIyM8PMwhxDTTtnUvfS5uePka8PFibKc38QShNLQoLG4urmSWmNSucIQoircX4K6Ym5nQu+EfFMi48nPj6ehOlTCXdS0Jm1l5QGLW19g3VG1k64BEcxPT4MPyszzHUPBBg7BDI6bCZzZs8mJn7wmGNdNRSdTuXTHddhjggDA7C1x0YLhg011HR2Uew/h8CefJoK8ijX9NPl6vxDffUJShu6qDIew2RHI4wdwxljXE5XQyknqocfGMydAwgMHE2MSylbqt1xDQgk1NsR65Fl14S2v4/Ohlq01hZgbqbbjKWVHaZm1nR2aXSbhBBX4ScLXnvfccTev5qXXl7N6tWrWf3ir1gUZYth9nfsrxygdWhIxcIjmLA7n+Dl1St5/PaJBLnb6B4KMMfaezzh9/yKh1av5oXVq3lkcQTOvbUk7zhOHTCU49eGgQJs3HExBo2qjILGFszC5hHkXUNFcRGltV1gY3muvDk3ibzCVI6UnObYpi1s3bSH0yWHSC3MIym3ecShwR4XB1emTjIh33USrg52uJnqlFwjCqURFq6eKNRt0H7+3R6t6ga6OtRYXCCUhRBX7icL3vNYuODq4Uy4Zw81tTByLNsciGDRkwkER3nT06mhrUFNF6BFQ3tDI011zXR0/xCvNp4+BNk4EdTQSj5woZuqrpwCcMeBNs5UnSL/TDUL4sOYGm9BfW0d1eXNKA0NGRwZ1ZCXV0jRyT1k7vs7L774Ii+++CJ/35fJnpNFFObloRmq1DeluSWuUXOwryxEU1pCU3vPuQ+o7o4GTp4+TXWditFejjo9hRBX48YJ3uYSig4d5dv1BWi1F4+hogMn2PzGpxwGOjjJ9jf/xN9Wfcz3J4fdG9zUSIu9Ga3TI4keiu5rRwG4Aa2omx3RdMYwLdoQv1E+mNepsOvqxM3Zaegy3zFO1U5j8uJ17Dp+nOPntl2sWzyZabWnODZUqXdGtuC1jDtHfc+J1M387dsiaoc+BE5+/wfeTzEkXTGHBeGXOPYthLgk+n+AomAz7378KesSi2gz98PPZnDIlJ52sPbHM2oZLzxxB1ZZ77D2sy/5MrUetbEnIa6m5/7521VWWNhN5Pn9rxDDYb55dANHMyroi7WnOKdmsMjRk1FxCdw2/3YW+Q4NT5TsZuu2Hby3MYWWihM02U3GxTaG+cvv4N5fxxN07hVfmtT3HmbNnjrqx/yC9W8vxLblO9578F+Uu88g+rllzB/4nrdf/192HlPRYeZH5Py7WP7CCmY65bD79Y/4asthMroscIqaxyNvvMAc62zSt2xj86YDFKrPcLTZjlAPG6YueoK5C5dzx2jdV/AjTm/k4y/28O8dKajrymi2n4S3TSxLVi3kzoURjBoqaynbSdqOQ+xOLuCoqhVTwN4/hLD4eUyLnkSUrz3XabRDiBve9XiAQv/BW5dOYmoO6YXnXym3cA/Eb8JM5gdb0356FwdOFJFbdf7YIzhi7xrCrIej8aCKol15VFXX0WnfS0HB0FmvnTejI8YTHRWM+9luqmyOnzjJ3szhV7R8GBM1nskzg36ou0R1mV9zvLSbdptIls4cBVSTsTWHNkt33Cb64tWVw46tx6hq19CFNY4+wUycF0eIVRXZWw+SXXSGWswwtfQkauF8xppVUpaewbETpTQO+zlu4+IJmzCF8S7Ddl6KmjT2HT3FsYLhv+sAxs+eQOQEH5zO7WujIe8kWZm5HKsYHHN2HhNF5MRxBHg5XeNvC0LcXH4ewSvz8QohbiLXI3hvnDFeIYS4RUjwCiGEnknwCiGEnknwCiGEnknwCiGEnknwCiGEnknwCiGEnknwCiGEnt24D1CUJbJpT/q5NdQAcJvOvHlRRIe6cXbuL/WJf/NNUh4nyy9wg7OVHz5j41i1NBwoJW3DblLTCyljaIYx9xncf3sUE4KGpnDU9kHpXj7bdZyM4uHPjoFTQBRRMVOICvPDsqeL0r1/YeeJJpocowmPmcOdQcaoT3zBV4eKKTjTCbaeWI5fwHMJftiaXdpcuqe++QfJmacpGDE/ugveIVOYNDWCyaMG3+/nB8spU5nhETyRaYvnEWELuVs/IjmriCIjf+yDp/BLh1S+Sq6movFCUzra4zVuMtMWTCWCDDat309OdTOmY6KYED+PBPby3tdZVKjacQ6czIQ5y0jwA1BTezyFlCMZJJcM/n7cw2YQFx/FWD9XDJvKKd37HluyQBF4B1OjJxHr3EbDia/4dH8NDW294BqKX9Qsnp7ho/uihLgh3VoPUPR20t7SRFlOBif2fkNSST0Vje10dPehHVbWr2mjPu8QKUl7+fbY4HprKpUKVWUWx1OPsjux4OwB0bS1oK7OpyAzic8/T+Lo9m/JKa2k/tzUZQPQ20F97gGSkvax43g5KlU9KlUpxenbOJKWTFplJwxo6e1oouToHvZt2873KXnUDgzQo2mlpeYkqYeS2LUnm8aOnh+d8Ge47o4ScvYdInHTYU6pVNSpVKhU1RScSifzZAbFbVp6u1pQFyZz+OhxDuQ1oukf6lt2hLSkJPamldLQ1Ij65GZ2ppzkWH415XlppO/6lO0ZZyipUnEqKYXUA0fJax1goK+L+sydpB47TnpZO509WgZ62lEXHGL7/sPsyKykc2gGH9Wp7zhy8CCHM0ooG/o955/cw44DqSTl1tLR30d3az35B75h17bdJGWVUq/tp7+zmebKY+zbnUTSkULUZw8oxC1K/2uuKS4x6x0CGT81gal+DvgoO/F5cT0v3RXGRC8bflh7Asy9JhBgWouZ2yiMZ77C2t8sYdqU27hn9hh8nJzp77JnxowAwBGfibHETg9grKclp1TTeDrgBK1ewWjs/PC3VoCBITiGMMqwGCOPcdgmvMKaVx9i0aJ4Ajr3kVemJrMrjPnhTjiNvQ2Xthr6aito6FNgHDmB0KBYZoy3xtDAC2vrKbz3fBxmxpd4hg+4j7Olt8QaW6MoHvzyjzy9aBFLFk3ApTeDmso8yr3nMyUihlmjDTH2CsHSfyJzgx2wNOrErKOCRrtoxsYt4jd3etNbfYIzIU9y/y+eYEW0Fa69mSju28HrTy5lqm0/9lZG2EZOJcDVH8++NAwn3kfo7Ae4N8wMA9fxTHepJc9yMnZjZ/LfMxyhV83Bv79KSqMfnnP/i5defoSHFi3Esz+ZXfvyKWgwZlxsNOOi7sK5JoOWWhUdFtZYh08kMmwmcyKNaGgJYGJoLC89FKn71oW4Yf3s11y7eu1o+w+z5vXNnMx1ZtY9y3nttYSRFTUVtNaVMfpX9zJ5zjjq1D0UlKhH1Iw0OAVk4LSl+PiPh9qRy9L7+oKzrZp/vZNGe8uFvtZfLSd87a3wsoLKGtBqgbH3Mcm8HdfcjXx0XIOm/yj/2t7CgLMvM+4eg5GVK55LPua3y+OYE/jDhOxnTbjvPpavfIT5rmB4KfM99jRB5b/5umQ+k2IW8eR8fwbn6zFg/Nzf8eyULsb372X4Yh+hY0HbXsu2dddhBRAhbnI/m+Btyt7Dd68/yLTpL/D33ArKtAYYKpUYGQ0/42ympqKfigJXYmNNsIxZgGNdL0YFpZw/V9oQrRZq60j7IoOqom7cQkdOHqnwmoxHSDQLujdw4EwH1dc8exupLGmnpgQ8XAfX2UShxDc+kjFjHVB9/Ffef+qfdE6IZ1z0ZIKUCjAwwEBpgrHSEEPF+cmqUCpRGilHhG721nd46+E44uKGtic+Ia2gBQ8He3o72qhK2UNXoD+GXu4YGSrOTdGpMDQmMCgcJ1cfKs788KFkMGYeQb7uTOz8js3V0CKjC0Kc87MJXlMHb/ym3Mbie2IJtbXg/LV1gZqTVKmaKDQJYaqdAeZ2QYw2P4O2pZDU8pGlLYWpJK19nWeefZ5nXvmILXVW2I8L47ZQnSOb2uHo40tMlBVHvjlGYVkDnSMrLlMFZVkb+eCZZ3j+mWd45pl32ZBrQN/YOOLd4OxanWYOYwgaM4o4vzNsbg7Ae0wAIe62WOge7hI5+kcwac5iFi8e2maGEuLtgKmxEdr+PjRNDQxYmYPp8IGeQeYWNhibWKDpHvZ1zMIZrzFejPFSsHNtEpXNHdd4FRAhbl43ZfD2NldQX5DCkWroGDqTMncPZOy8Faxc+Wseu3sSgZ7nr83WnJ9KXs4BkotOcmD9/2fD+i0czdpHSkE2iVkjz3m1fd10d7TS3NxIVU0mpX0D4GCN1wXmxDWzd8ZnykxcapIoKT9DRatuxeXop6+3i3a1GrVajVqtxdJ/HMExUwixHj40YIeLvRMTIkwocIrEzdYK5/Mz8ZK5hU0n4f5VrFo1tC2NIczXHgBDI2OsPH1RNLRA2/nzIzc31dHV0YyVxciZe609/fAKGYtj4TayK1upP7+rELekmzJ4O6syKNj/T9ZnQVPX8BZzFIow7np0BqPDPdC0dtBUo6Id0NJJQVElpbnHqMnZyttvv83bb7/Nl0fzOFJYQ+mpU0N1g+yC45n91Dus/XQN7/8hgQiDYoqyMjjSOOIHDjJ2wMxjGg/PakDdWE1OWdtVnN35MXrCQ7y8bh3/XLeOdev+yOuP3MYMn/M/SPRFaW6NS9RcnGtyaC8pok6tObdUUWdLNcdzC6hpaGWM52BQn2PmjatfOI8nlJKTX0NJXddPs8SREDeYmzJ4L1VBYjpb3lrPEbR0ksHp+kgCE/7BjvR00s9tu/n8V3OYV51BKqAbqwqlCW6Rv+bhGfYYNGTx4YYcnYpBChNT3O5chlljJnVFhynVLbiZGduB13LuGrWDtMNb+WhnCYN3Vw+Quet3vJtqRqZyNvPCdDuCiaMznksewih3G5VnctBZzV6IW9KN+wBF9mf8v/U7+WJXBh0tjXQ7jcbReHCMs7+zCWNbF0JeOsCjHW+x8avNbDrWQLuRM/6OP3zf7mh0wMElmOfXj+fAy//gwJEqmgw9GDvjDh5+83kSXLI49NbH/Pvz/aS2GWE1Jo7H7vPk8K7tpGRWo7GPJDTuYda+koCLcTH7Nn3Ol9tyKfdYynOeG/hi1ymOnjHBOnwO8Q++xitzzOg7/CF/3tZInvEMdvzlrhFv6cccev9x/nfdbvaXK7AO9MKa0Sx69TnumDaW4OFDy6qDbPl0M19tPEBBWwNZrdYEulozdekzLFh8H3cGDNXlbOC9z3by2Y5U2hqrabEOw91qGve+sJRFSyfi01JD/Z63eOFvO0k7Y4Rv/EM88MtHeZj1PPaHz9lb0IVdxN3c88hzvDrHhfbqvaRtS+S7fVkcqm7GBHAJnUz0bQuYET2BUVRxev0jvLGhmJJeB9xj7+X25Y/x4nQl1V+/waptVnhFzOXdZ+KHvRkhbmzX4wGKGzd4a49zID2fU2VNui0AmNk64x+3lMC2RE6eLqeo9kKXtOyxc/IiJsGS3B2ZnFF30IUFNs5+jL8tngCrM5QmppGTX0UtxhgaOhIRYUN5eQ0qVQuY2GLiMp6lMwOwseynPj+TvFMlnDYIZppNBnnVGmpawcTOHdfxs5kVYIl5Sy7pxe2c6XNhQayf7gu6qNLkb8kuKqeiHcAQcCR01jRCRrmMHL/tKCE7LZuTOZUMvxHONSSGkLAIQs6uxl6XQfLx02QOPWU2yI/QuHDGhXtiq2mlvSCRXZkqVK092HkFM2b8ZCaSzqbkEuqaOzF3HY1PWCyzxlgC7TTln+JUTiFZNS1gYIDjqPGEjQ/Gz80eRWsdZ45v5FAxtGoG19DzDYtmhr85nElnb4EBJnbuxIV7DHs9QtzYbq3gFUKIG8D1CN6f9RivEELciCR4hRBCzyR4hRBCzyR4hRBCz/QSvFZWVvj4+GBgcP68AUIIcavRy10NSqUSU1NT3d1CCHHD02q1dHZe6HbVK6eX4BVCCPEDvQw1CCGE+IEErxBC6JkErxBC6JkErxBC6JkErxBC6JkErxBC6JkErxBC6JkErxBC6JkErxBC6JkErxBC6JkErxBC6JkErxBC6JkErxBC6JkErxBC6JkErxBC6JkErxBC6JkErxBC6JkErxBC6JkErxBC6JkErxBC6JkErxBC6JkErxBC6JkErxBC6JkErxBC6JkErxBC6JkErxBC6JkErxBC6JkErxBC6JkErxBC6JkErxBC6JkErxBC6JkErxBC6JkErxBC6JkErxBC6JkErxBC6JkErxBC6JkErxBC6JkErxBC6JkErxBC6JkErxBC6JkErxBC6Nn/ARQ07exua4e/AAAAAElFTkSuQmCC)"
      ]
    },
    {
      "cell_type": "markdown",
      "metadata": {
        "id": "w-Ri-OVMxU8H"
      },
      "source": [
        "## Canvas in a window"
      ]
    },
    {
      "cell_type": "code",
      "execution_count": null,
      "metadata": {
        "id": "84BXPfUcxSVx"
      },
      "outputs": [],
      "source": [
        "from tkinter import *\n",
        "root = Tk()\n",
        "w = Canvas(root, width = 40, height = 60)\n",
        "w.pack()\n",
        "canvas_height = 20\n",
        "canvas_width = 200\n",
        "y = int(canvas_height/2)\n",
        "w.create_line(0, y, canvas_width, y)\n",
        "root.mainloop()"
      ]
    },
    {
      "cell_type": "markdown",
      "metadata": {
        "id": "bonuhY3Q07Uu"
      },
      "source": [
        "![image.png](data:image/png;base64,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)"
      ]
    },
    {
      "cell_type": "markdown",
      "metadata": {
        "id": "3xENj_k0xaU-"
      },
      "source": [
        "## Colorful text in a window"
      ]
    },
    {
      "cell_type": "code",
      "execution_count": null,
      "metadata": {
        "id": "F5hcTgrfxdXP"
      },
      "outputs": [],
      "source": [
        "from tkinter import *\n",
        "root = Tk()\n",
        "root.title(\"Colorful Text\")\n",
        "label = Label(root, text = \"Hello World!\", fg = 'blue')\n",
        "label.pack()\n",
        "root.mainloop()"
      ]
    },
    {
      "cell_type": "markdown",
      "metadata": {
        "id": "Yaj-IilY04Vl"
      },
      "source": [
        "![image.png](data:image/png;base64,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)"
      ]
    },
    {
      "cell_type": "markdown",
      "metadata": {
        "id": "HVmKca_UxfKm"
      },
      "source": [
        "## Colorful buttons in a window"
      ]
    },
    {
      "cell_type": "code",
      "execution_count": null,
      "metadata": {
        "id": "eANNRfwIxjGQ"
      },
      "outputs": [],
      "source": [
        "from tkinter import *\n",
        "root = Tk()\n",
        "root.title(\"Colorful Button\")\n",
        "button = Button(root, text = \"Click Me\", activebackground = \"blue\",\n",
        "                activeforeground = \"white\")\n",
        "button.pack()\n",
        "root.mainloop()"
      ]
    },
    {
      "cell_type": "markdown",
      "metadata": {
        "id": "ih_gK1SS03N1"
      },
      "source": [
        "![image.png](data:image/png;base64,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)"
      ]
    },
    {
      "cell_type": "markdown",
      "metadata": {
        "id": "rZNCzpFTxlu-"
      },
      "source": [
        "# 09-01-2025"
      ]
    },
    {
      "cell_type": "markdown",
      "metadata": {
        "id": "MHs5iiYlyO2u"
      },
      "source": [
        "## Color Chooser"
      ]
    },
    {
      "cell_type": "code",
      "execution_count": null,
      "metadata": {
        "id": "okQICr3Ixo8G"
      },
      "outputs": [],
      "source": [
        "from tkinter import *\n",
        "from tkinter import colorchooser\n",
        "root = Tk()\n",
        "root.title(\"Color Chooser\")\n",
        "def choose_color():\n",
        "    color = colorchooser.askcolor(title = \"Choose Color:\")\n",
        "    print(\"Selected color: \", color[1])\n",
        "button = Button(root, text = \"Choose color\", command = choose_color)\n",
        "button.pack()\n",
        "root.mainloop()\n"
      ]
    },
    {
      "cell_type": "markdown",
      "metadata": {
        "id": "Bna8JFCKyJhG"
      },
      "source": [
        "![image.png](data:image/png;base64,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)"
      ]
    },
    {
      "cell_type": "markdown",
      "metadata": {
        "id": "WiSu10nm3BJ1"
      },
      "source": [
        "## Pack layout in a window"
      ]
    },
    {
      "cell_type": "code",
      "execution_count": null,
      "metadata": {
        "id": "bL52J57fyKj3"
      },
      "outputs": [],
      "source": [
        "from tkinter import *\n",
        "\n",
        "window = Tk()\n",
        "window.title(\"Pack\")\n",
        "window.geometry(\"300x300\")\n",
        "\n",
        "button1 = Button(window,text=\"Button 1\")\n",
        "button2 = Button(window,text=\"Button 2\")\n",
        "button3 = Button(window,text=\"Button 3\")\n",
        "\n",
        "button1.pack()\n",
        "button2.pack()\n",
        "button3.pack()\n",
        "\n",
        "window.mainloop()"
      ]
    },
    {
      "cell_type": "markdown",
      "metadata": {
        "id": "6r2nOO9HzPl-"
      },
      "source": [
        "![image.png](data:image/png;base64,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)"
      ]
    },
    {
      "cell_type": "markdown",
      "metadata": {
        "id": "xsvtMBJ-3GnF"
      },
      "source": [
        "## Grid layout in a window"
      ]
    },
    {
      "cell_type": "code",
      "execution_count": null,
      "metadata": {
        "id": "fNDMPlahzQT2"
      },
      "outputs": [],
      "source": [
        "from tkinter import *\n",
        "\n",
        "window = Tk()\n",
        "window.title(\"Grid\")\n",
        "window.geometry(\"300x300\")\n",
        "\n",
        "lable1 = Label(window,text=\"Lable 1\")\n",
        "lable2 = Label(window,text=\"Lable 2\")\n",
        "lable3 = Label(window,text=\"Lable 3\")\n",
        "\n",
        "lable1.grid(row = 0, column= 1)\n",
        "lable2.grid(row = 0, column= 2)\n",
        "lable3.grid(row = 2, column= 1)\n",
        "\n",
        "window.mainloop()"
      ]
    },
    {
      "cell_type": "markdown",
      "metadata": {
        "id": "6IUivM98z6yV"
      },
      "source": [
        "![image.png](data:image/png;base64,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)"
      ]
    },
    {
      "cell_type": "markdown",
      "metadata": {
        "id": "SiJGPBri3I6F"
      },
      "source": [
        "## Using place function"
      ]
    },
    {
      "cell_type": "code",
      "execution_count": null,
      "metadata": {
        "id": "oINN4Facz7KO"
      },
      "outputs": [],
      "source": [
        "from tkinter import *\n",
        "\n",
        "root = Tk()\n",
        "root.title(\"Place Example\")\n",
        "\n",
        "lable = Label(root, text=\"Hello World\")\n",
        "\n",
        "lable.place(x=50, y=50)\n",
        "root.mainloop()\n"
      ]
    },
    {
      "cell_type": "markdown",
      "metadata": {
        "id": "63NbFUa828t1"
      },
      "source": [
        "![image.png](data:image/png;base64,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)"
      ]
    },
    {
      "cell_type": "markdown",
      "metadata": {
        "id": "YUbQnLUhcAf8"
      },
      "source": [
        "# 13-01-2025"
      ]
    },
    {
      "cell_type": "markdown",
      "metadata": {
        "id": "uLpd_PERcfDj"
      },
      "source": [
        "## Length of given list `a = [1, 2, 3, 4, 5]`"
      ]
    },
    {
      "cell_type": "code",
      "execution_count": null,
      "metadata": {
        "id": "slb5ge0dcdvN"
      },
      "outputs": [],
      "source": [
        "a = [1, 2, 3, 4, 5]\n",
        "\n",
        "print(\"Length of list:\",len(a))"
      ]
    },
    {
      "cell_type": "markdown",
      "metadata": {
        "id": "VtpZ5Xtnc7EM"
      },
      "source": [
        "## 66,88 - Addition, Subtraction, Division, Remainder"
      ]
    },
    {
      "cell_type": "code",
      "execution_count": null,
      "metadata": {
        "id": "neGUYbhCc_xr"
      },
      "outputs": [],
      "source": [
        "a = 66\n",
        "b = 88\n",
        "sum = a + b\n",
        "difference = a - b\n",
        "quotient = a / b\n",
        "remainder = a % b\n",
        "print(\"The sum of\", a, \"and\", b, \"is\", sum)\n",
        "print(\"The difference of\", a, \"and\", b, \"is\", difference)\n",
        "print(\"The quotient of\", a, \"and\", b, \"is\", quotient)\n",
        "print(\"The remainder of\", a, \"and\", b, \"is\", remainder)"
      ]
    },
    {
      "cell_type": "markdown",
      "metadata": {
        "id": "JweJ4DjSdH4b"
      },
      "source": [
        "## Blank GUI"
      ]
    },
    {
      "cell_type": "code",
      "execution_count": null,
      "metadata": {
        "id": "hGoYRktsdV5s"
      },
      "outputs": [],
      "source": [
        "import tkinter\n",
        "m = tkinter.Tk()\n",
        "m.mainloop()"
      ]
    },
    {
      "cell_type": "markdown",
      "metadata": {
        "id": "WeVXncTOdY1U"
      },
      "source": [
        "![image.png](data:image/png;base64,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)"
      ]
    },
    {
      "cell_type": "markdown",
      "metadata": {
        "id": "KXI6Z1OrdfQD"
      },
      "source": [
        "## Print i as long as it is less than 6."
      ]
    },
    {
      "cell_type": "code",
      "execution_count": null,
      "metadata": {
        "id": "i1VQvexZdZNb"
      },
      "outputs": [],
      "source": [
        "for i in range (0, 7):\n",
        "    print(i)"
      ]
    },
    {
      "cell_type": "markdown",
      "metadata": {
        "id": "PkRuu0hVduQ7"
      },
      "source": [
        "# Unit 2"
      ]
    },
    {
      "cell_type": "markdown",
      "metadata": {
        "id": "3V_8RKL9dzqT"
      },
      "source": [
        "# 15-01-2025"
      ]
    },
    {
      "cell_type": "markdown",
      "metadata": {
        "id": "ln2Mx3lWd7DL"
      },
      "source": [
        "## Create an empty tuple"
      ]
    },
    {
      "cell_type": "code",
      "execution_count": null,
      "metadata": {
        "id": "c87SdCMDdwmr",
        "colab": {
          "base_uri": "https://localhost:8080/"
        },
        "outputId": "15919800-9516-4a49-a65b-8e2853baeef1"
      },
      "outputs": [
        {
          "output_type": "stream",
          "name": "stdout",
          "text": [
            "()\n"
          ]
        }
      ],
      "source": [
        "my_tuple = ()\n",
        "print(my_tuple)"
      ]
    },
    {
      "cell_type": "markdown",
      "metadata": {
        "id": "OP62w6cZeOaj"
      },
      "source": [
        "## Create a tuple with integer values"
      ]
    },
    {
      "cell_type": "code",
      "execution_count": null,
      "metadata": {
        "id": "jtHMxzxNeQbz",
        "colab": {
          "base_uri": "https://localhost:8080/"
        },
        "outputId": "a93e7b82-2d23-43fd-97ba-6f740f814392"
      },
      "outputs": [
        {
          "output_type": "stream",
          "name": "stdout",
          "text": [
            "(100, 35, 7, 21)\n"
          ]
        }
      ],
      "source": [
        "my_tuple = (100, 35, 7, 21)\n",
        "print(my_tuple)"
      ]
    },
    {
      "cell_type": "markdown",
      "metadata": {
        "id": "Ox-J4KYBeUCF"
      },
      "source": [
        "## Create a tuple with mixed values"
      ]
    },
    {
      "cell_type": "code",
      "execution_count": null,
      "metadata": {
        "id": "We9mFIQeeX1b",
        "colab": {
          "base_uri": "https://localhost:8080/"
        },
        "outputId": "0ee7c98e-d90c-47d5-ef2b-f492046ad1e4"
      },
      "outputs": [
        {
          "output_type": "stream",
          "name": "stdout",
          "text": [
            "(23.545, 'Kunal', 'A', 785)\n"
          ]
        }
      ],
      "source": [
        "my_tuple = (23.545, 'Kunal', 'A', 785)\n",
        "print(my_tuple)"
      ]
    },
    {
      "cell_type": "markdown",
      "metadata": {
        "id": "eIbJIi4SeaR7"
      },
      "source": [
        "## Create a nested tuple"
      ]
    },
    {
      "cell_type": "code",
      "execution_count": null,
      "metadata": {
        "id": "w5j00RzseZUD",
        "colab": {
          "base_uri": "https://localhost:8080/"
        },
        "outputId": "6cc25c4f-454f-4936-f8aa-50c6f1097585"
      },
      "outputs": [
        {
          "output_type": "stream",
          "name": "stdout",
          "text": [
            "('Python', [2, 4, 6], (1, 3, 5))\n"
          ]
        }
      ],
      "source": [
        "\n",
        "my_tuple = ('Python', [2, 4, 6], (1, 3, 5))\n",
        "print(my_tuple)"
      ]
    },
    {
      "cell_type": "markdown",
      "metadata": {
        "id": "4A2uEf_LfF9b"
      },
      "source": [
        "## Create a tuple without paretheses"
      ]
    },
    {
      "cell_type": "code",
      "execution_count": null,
      "metadata": {
        "id": "ogvhRxw-fIU8",
        "colab": {
          "base_uri": "https://localhost:8080/"
        },
        "outputId": "ef2f1fc3-4edf-460a-b768-b81076fc5881"
      },
      "outputs": [
        {
          "output_type": "stream",
          "name": "stdout",
          "text": [
            "(102, 1.2, 'Hello', True)\n",
            "102\n",
            "1.2\n",
            "Hello\n",
            "True\n"
          ]
        }
      ],
      "source": [
        "tuple1 = 102, 1.2, 'Hello', True\n",
        "print(tuple1)\n",
        "a, b, c, d = tuple1\n",
        "print(a)\n",
        "print(b)\n",
        "print(c)\n",
        "print(d)"
      ]
    },
    {
      "cell_type": "markdown",
      "metadata": {
        "id": "46B0wegzgqAy"
      },
      "source": [
        "## Show positive indexing"
      ]
    },
    {
      "cell_type": "code",
      "execution_count": null,
      "metadata": {
        "id": "DAcR7chRguzz",
        "colab": {
          "base_uri": "https://localhost:8080/"
        },
        "outputId": "51d75073-8714-4737-9edf-ea3e5af82554"
      },
      "outputs": [
        {
          "output_type": "stream",
          "name": "stdout",
          "text": [
            "Tuple: ('I', 'Love', 'To', 'Code', 'In', 'Python')\n",
            "Element at index 1: Love\n",
            "Element at index 5: Python\n"
          ]
        }
      ],
      "source": [
        "my_tuple = ('I', 'Love', 'To', 'Code', 'In', 'Python')\n",
        "print('Tuple:', my_tuple)\n",
        "print('Element at index 1:', my_tuple[1])\n",
        "print('Element at index 5:', my_tuple[5])"
      ]
    },
    {
      "cell_type": "markdown",
      "metadata": {
        "id": "9NHlciF5g0Wb"
      },
      "source": [
        "## Show negative indexing"
      ]
    },
    {
      "cell_type": "code",
      "execution_count": null,
      "metadata": {
        "id": "Gj1ZSHYUg6HS",
        "colab": {
          "base_uri": "https://localhost:8080/"
        },
        "outputId": "c84e137e-feac-4bef-c2fc-f346b667bd9e"
      },
      "outputs": [
        {
          "output_type": "stream",
          "name": "stdout",
          "text": [
            "Tuple: ('I', 'Love', 'To', 'Code', 'In', 'Python')\n",
            "Element at index -1: Python\n",
            "Element at index -5: Love\n"
          ]
        }
      ],
      "source": [
        "my_tuple = ('I', 'Love', 'To', 'Code', 'In', 'Python')\n",
        "print('Tuple:', my_tuple)\n",
        "print('Element at index -1:', my_tuple[-1])\n",
        "print('Element at index -5:', my_tuple[-5])"
      ]
    },
    {
      "cell_type": "markdown",
      "metadata": {
        "id": "cVb9Jm4rhHNj"
      },
      "source": [
        "## Show slicing"
      ]
    },
    {
      "cell_type": "code",
      "execution_count": null,
      "metadata": {
        "id": "fxQGyOakhEWs",
        "colab": {
          "base_uri": "https://localhost:8080/"
        },
        "outputId": "99bee260-7279-47c6-8eca-9d23b28f20ac"
      },
      "outputs": [
        {
          "output_type": "stream",
          "name": "stdout",
          "text": [
            "('r', 'o', 'g', 'r', 'a')\n",
            "('a', 'm', 'm', 'i', 'n', 'g')\n",
            "('p', 'r', 'o', 'g')\n",
            "('p', 'r', 'o', 'g', 'r', 'a', 'm', 'm', 'i', 'n', 'g')\n"
          ]
        }
      ],
      "source": [
        "my_tuple = ('p', 'r', 'o', 'g', 'r', 'a', 'm', 'm', 'i', 'n', 'g')\n",
        "print(my_tuple[1:6])\n",
        "print(my_tuple[5:])\n",
        "print(my_tuple[:4])\n",
        "print(my_tuple[:])"
      ]
    },
    {
      "cell_type": "markdown",
      "metadata": {
        "id": "mhqO7AmChNET"
      },
      "source": [
        "## Change one value in a tuple"
      ]
    },
    {
      "cell_type": "code",
      "execution_count": null,
      "metadata": {
        "id": "_1LutFbdhPJy",
        "colab": {
          "base_uri": "https://localhost:8080/",
          "height": 211
        },
        "outputId": "cd905277-e939-4b23-aa37-602e87c33380"
      },
      "outputs": [
        {
          "output_type": "error",
          "ename": "TypeError",
          "evalue": "'tuple' object does not support item assignment",
          "traceback": [
            "\u001b[0;31m---------------------------------------------------------------------------\u001b[0m",
            "\u001b[0;31mTypeError\u001b[0m                                 Traceback (most recent call last)",
            "\u001b[0;32m<ipython-input-67-df08484fd6f3>\u001b[0m in \u001b[0;36m<cell line: 0>\u001b[0;34m()\u001b[0m\n\u001b[1;32m      2\u001b[0m \u001b[0;34m\u001b[0m\u001b[0m\n\u001b[1;32m      3\u001b[0m \u001b[0;31m# TypeError: 'tuple' object does not support item assignment\u001b[0m\u001b[0;34m\u001b[0m\u001b[0;34m\u001b[0m\u001b[0m\n\u001b[0;32m----> 4\u001b[0;31m \u001b[0mmy_tuple\u001b[0m\u001b[0;34m[\u001b[0m\u001b[0;36m2\u001b[0m\u001b[0;34m]\u001b[0m \u001b[0;34m=\u001b[0m \u001b[0;36m30\u001b[0m\u001b[0;34m\u001b[0m\u001b[0;34m\u001b[0m\u001b[0m\n\u001b[0m\u001b[1;32m      5\u001b[0m \u001b[0;34m\u001b[0m\u001b[0m\n\u001b[1;32m      6\u001b[0m \u001b[0mprint\u001b[0m\u001b[0;34m(\u001b[0m\u001b[0mmy_tuple\u001b[0m\u001b[0;34m)\u001b[0m\u001b[0;34m\u001b[0m\u001b[0;34m\u001b[0m\u001b[0m\n",
            "\u001b[0;31mTypeError\u001b[0m: 'tuple' object does not support item assignment"
          ]
        }
      ],
      "source": [
        "my_tuple = (10, 20, 35, 40, 50)\n",
        "\n",
        "# TypeError: 'tuple' object does not support item assignment\n",
        "my_tuple[2] = 30\n",
        "\n",
        "print(my_tuple)"
      ]
    },
    {
      "cell_type": "markdown",
      "metadata": {
        "id": "Lifd4ubaha8r"
      },
      "source": [
        "## Change whole tuple"
      ]
    },
    {
      "cell_type": "code",
      "execution_count": null,
      "metadata": {
        "id": "0ev2AW0BhcYL",
        "colab": {
          "base_uri": "https://localhost:8080/"
        },
        "outputId": "59aefb51-1fb4-44c6-8dca-3eaa30761040"
      },
      "outputs": [
        {
          "output_type": "stream",
          "name": "stdout",
          "text": [
            "Original Tuple: (10, 20, 35, 40, 50)\n",
            "New Tuple: ('A', 'B', 'C', 'D')\n"
          ]
        }
      ],
      "source": [
        "my_tuple = (10, 20, 35, 40, 50)\n",
        "print('Original Tuple:', my_tuple)\n",
        "my_tuple = ('A', 'B', 'C', 'D')\n",
        "print('New Tuple:', my_tuple)"
      ]
    },
    {
      "cell_type": "markdown",
      "metadata": {
        "id": "yB7xDlBFhpPr"
      },
      "source": [
        "# 16-01-2025"
      ]
    },
    {
      "cell_type": "markdown",
      "metadata": {
        "id": "DvAlTTFYh0Dq"
      },
      "source": [
        "## Program to show 2 methods of tuples"
      ]
    },
    {
      "cell_type": "code",
      "execution_count": null,
      "metadata": {
        "id": "-RuoX4AOhgVC",
        "colab": {
          "base_uri": "https://localhost:8080/"
        },
        "outputId": "13f4284f-5fc8-433a-eba4-45dcc86d0ff9"
      },
      "outputs": [
        {
          "output_type": "stream",
          "name": "stdout",
          "text": [
            "('p', 'r', 'o', 'g', 'r', 'a', 'm', 'm', 'i', 'n', 'g')\n",
            "Count of letter g: 2\n",
            "Index of letter a: 5\n"
          ]
        }
      ],
      "source": [
        "my_tuple = ('p', 'r', 'o', 'g', 'r', 'a', 'm', 'm', 'i', 'n', 'g')\n",
        "print(my_tuple)\n",
        "print('Count of letter g:', my_tuple.count('g'))\n",
        "print('Index of letter a:', my_tuple.index('a'))"
      ]
    },
    {
      "cell_type": "markdown",
      "metadata": {
        "id": "12_-b_yXhxfS"
      },
      "source": [
        "## Program to show max and min functions"
      ]
    },
    {
      "cell_type": "code",
      "execution_count": null,
      "metadata": {
        "id": "T08EiSogiTgi",
        "colab": {
          "base_uri": "https://localhost:8080/"
        },
        "outputId": "1b1859f9-1f3f-487d-ab25-5a86dcd678f8"
      },
      "outputs": [
        {
          "output_type": "stream",
          "name": "stdout",
          "text": [
            "Tuples are not same\n",
            "Max value in tup1 is: G\n",
            "Min value in tup2 is: A\n"
          ]
        }
      ],
      "source": [
        "tup1 = ('A', 'E', 'G', 'B')\n",
        "tup2 = ('A', 'Z', 'E', 'L')\n",
        "if tup1 != tup2:\n",
        "  print('Tuples are not same')\n",
        "else:\n",
        "  print('Tuples are same')\n",
        "print('Max value in tup1 is:', max(tup1))\n",
        "print('Min value in tup2 is:', min(tup2))"
      ]
    },
    {
      "cell_type": "markdown",
      "metadata": {
        "id": "x_hdEcn_ialD"
      },
      "source": [
        "## Program to show traversing"
      ]
    },
    {
      "cell_type": "code",
      "execution_count": null,
      "metadata": {
        "id": "KjwyU-I5iWz5",
        "colab": {
          "base_uri": "https://localhost:8080/"
        },
        "outputId": "f07a7e7c-3de3-4d82-eaae-16317c0ee4bb"
      },
      "outputs": [
        {
          "output_type": "stream",
          "name": "stdout",
          "text": [
            "1 2 3 4 5 "
          ]
        }
      ],
      "source": [
        "t = (1, 2, 3, 4, 5)\n",
        "for x in t:\n",
        "    print(x, end = \" \")"
      ]
    },
    {
      "cell_type": "markdown",
      "metadata": {
        "id": "i_FRUgSUifnL"
      },
      "source": [
        "## Program to show concatenation"
      ]
    },
    {
      "cell_type": "code",
      "execution_count": null,
      "metadata": {
        "id": "739Ds-g2id16",
        "colab": {
          "base_uri": "https://localhost:8080/"
        },
        "outputId": "c74b111f-4823-4624-8055-3c29a963b383"
      },
      "outputs": [
        {
          "output_type": "stream",
          "name": "stdout",
          "text": [
            "(0, 1, 2, 3, 'Python', 'Programming')\n"
          ]
        }
      ],
      "source": [
        "t1 = (0, 1, 2, 3)\n",
        "t2 = ('Python', 'Programming')\n",
        "print(t1 + t2)"
      ]
    },
    {
      "cell_type": "markdown",
      "metadata": {
        "id": "FqaF0FsqilAS"
      },
      "source": [
        "## Program to show repetition"
      ]
    },
    {
      "cell_type": "code",
      "execution_count": null,
      "metadata": {
        "id": "3aroupHQijOc",
        "colab": {
          "base_uri": "https://localhost:8080/"
        },
        "outputId": "4f6d8618-fdcd-4689-c1f8-815280728a0d"
      },
      "outputs": [
        {
          "output_type": "stream",
          "name": "stdout",
          "text": [
            "Python Python Python \n"
          ]
        }
      ],
      "source": [
        "t = ('Python ') * 3\n",
        "print(t)"
      ]
    },
    {
      "cell_type": "markdown",
      "metadata": {
        "id": "2uK3m-iYipjS"
      },
      "source": [
        "## Program to show slicing"
      ]
    },
    {
      "cell_type": "code",
      "execution_count": null,
      "metadata": {
        "id": "GOosPyzzioWL",
        "colab": {
          "base_uri": "https://localhost:8080/"
        },
        "outputId": "df153e45-e519-4a86-cc5b-f93a36986be5"
      },
      "outputs": [
        {
          "output_type": "stream",
          "name": "stdout",
          "text": [
            "(1, 2, 3)\n",
            "(3, 2, 1, 0)\n",
            "(2, 3)\n"
          ]
        }
      ],
      "source": [
        "t = (0, 1, 2, 3)\n",
        "print(t[1:])\n",
        "print(t[::-1])\n",
        "print(t[2:4])"
      ]
    },
    {
      "cell_type": "markdown",
      "metadata": {
        "id": "ws7xLwdwtFH9"
      },
      "source": [
        "## Convert a tuple to a string"
      ]
    },
    {
      "cell_type": "code",
      "execution_count": null,
      "metadata": {
        "id": "Dv1WlbPFtHnN"
      },
      "outputs": [],
      "source": [
        "tup = (1, 2, 3)\n",
        "string = str(tup)\n",
        "print(string)"
      ]
    },
    {
      "cell_type": "markdown",
      "metadata": {
        "id": "_U0r5HaRthuO"
      },
      "source": [
        "## Program to find the index of an element"
      ]
    },
    {
      "cell_type": "code",
      "execution_count": null,
      "metadata": {
        "id": "hkB9TjWZtaZE",
        "colab": {
          "base_uri": "https://localhost:8080/"
        },
        "outputId": "3d4574a9-2845-4fe3-d84c-a23ef6f532d4"
      },
      "outputs": [
        {
          "output_type": "stream",
          "name": "stdout",
          "text": [
            "2\n"
          ]
        }
      ],
      "source": [
        "tup = (10, 20, 30, 40, 50)\n",
        "index = tup.index(30)\n",
        "print(index)"
      ]
    },
    {
      "cell_type": "markdown",
      "metadata": {
        "id": "11oNRtj1tygt"
      },
      "source": [
        "## Program to create a dictionary"
      ]
    },
    {
      "cell_type": "code",
      "execution_count": null,
      "metadata": {
        "id": "6GTIMlYQtxs2",
        "colab": {
          "base_uri": "https://localhost:8080/"
        },
        "outputId": "5a947da0-fadd-490b-dfdc-b10445b0dfdd"
      },
      "outputs": [
        {
          "output_type": "stream",
          "name": "stdout",
          "text": [
            "{'name': 'Kunal', 'age': 20, 'city': 'Mumbai'}\n"
          ]
        }
      ],
      "source": [
        "my_dict = {\"name\" : \"Kunal\", \"age\" : 20, \"city\" : \"Mumbai\"}\n",
        "print(my_dict)"
      ]
    },
    {
      "cell_type": "markdown",
      "metadata": {
        "id": "YTmrocV4t4yz"
      },
      "source": [
        "# 20-01-2025"
      ]
    },
    {
      "cell_type": "markdown",
      "metadata": {
        "id": "QdoUDgCtuA_9"
      },
      "source": [
        "## Program to show working of `clear()`"
      ]
    },
    {
      "cell_type": "code",
      "execution_count": null,
      "metadata": {
        "id": "itiyQVVit3CN",
        "colab": {
          "base_uri": "https://localhost:8080/"
        },
        "outputId": "f84bbdbd-3e5c-422f-99c4-c7f37a0697de"
      },
      "outputs": [
        {
          "output_type": "stream",
          "name": "stdout",
          "text": [
            "{}\n"
          ]
        }
      ],
      "source": [
        "my_dict = {'name': 'Kunal', 'age': 20}\n",
        "my_dict.clear()\n",
        "print(my_dict)"
      ]
    },
    {
      "cell_type": "markdown",
      "metadata": {
        "id": "V7BekczRuNz9"
      },
      "source": [
        "## Program to show working of `get()`"
      ]
    },
    {
      "cell_type": "code",
      "execution_count": null,
      "metadata": {
        "id": "PDFrVC26uG67",
        "colab": {
          "base_uri": "https://localhost:8080/"
        },
        "outputId": "c8526f3c-54a1-4c56-94e2-a0487a4c86df"
      },
      "outputs": [
        {
          "output_type": "stream",
          "name": "stdout",
          "text": [
            "Kunal\n",
            "Not Found\n"
          ]
        }
      ],
      "source": [
        "my_dict = {'name': 'Kunal', 'age': 20}\n",
        "print(my_dict.get('name'))\n",
        "print(my_dict.get('address', 'Not Found'))"
      ]
    },
    {
      "cell_type": "markdown",
      "metadata": {
        "id": "e6kSxLNMuT7T"
      },
      "source": [
        "## Program to show working of `keys()`"
      ]
    },
    {
      "cell_type": "code",
      "execution_count": null,
      "metadata": {
        "id": "lw_zSmI0uTXE",
        "colab": {
          "base_uri": "https://localhost:8080/"
        },
        "outputId": "054d7b49-9b66-4885-b776-750ebfe372d5"
      },
      "outputs": [
        {
          "output_type": "stream",
          "name": "stdout",
          "text": [
            "dict_keys(['name', 'age'])\n"
          ]
        }
      ],
      "source": [
        "my_dict = {'name': 'Kunal', 'age': 20}\n",
        "print(my_dict.keys())"
      ]
    },
    {
      "cell_type": "markdown",
      "metadata": {
        "id": "SH4F1fDQukje"
      },
      "source": [
        "## Program to show working of `values()`"
      ]
    },
    {
      "cell_type": "code",
      "execution_count": null,
      "metadata": {
        "id": "2O-d1Z3-ufcF",
        "colab": {
          "base_uri": "https://localhost:8080/"
        },
        "outputId": "b112edf5-1e5b-4083-c63d-c81b91a13b1d"
      },
      "outputs": [
        {
          "output_type": "stream",
          "name": "stdout",
          "text": [
            "dict_values(['Kunal', 20])\n"
          ]
        }
      ],
      "source": [
        "my_dict = {'name': 'Kunal', 'age': 20}\n",
        "print(my_dict.values())"
      ]
    },
    {
      "cell_type": "markdown",
      "metadata": {
        "id": "tg2ipHg3upQu"
      },
      "source": [
        "## Program to show working of `items()`"
      ]
    },
    {
      "cell_type": "code",
      "execution_count": null,
      "metadata": {
        "id": "pN9NqkheunJ-",
        "colab": {
          "base_uri": "https://localhost:8080/"
        },
        "outputId": "129794a3-8663-4a25-f5a2-9f6c9cf36ed3"
      },
      "outputs": [
        {
          "output_type": "stream",
          "name": "stdout",
          "text": [
            "dict_items([('name', 'Kunal'), ('age', 20)])\n"
          ]
        }
      ],
      "source": [
        "my_dict = {'name': 'Kunal', 'age': 20}\n",
        "print(my_dict.items())"
      ]
    },
    {
      "cell_type": "markdown",
      "metadata": {
        "id": "v45JGe1ruy6b"
      },
      "source": [
        "## Program to show working of `update()`"
      ]
    },
    {
      "cell_type": "code",
      "execution_count": null,
      "metadata": {
        "id": "p4iErxN_uyLT",
        "colab": {
          "base_uri": "https://localhost:8080/"
        },
        "outputId": "c9894fe9-de8a-4140-c7ca-89e8b13cb46f"
      },
      "outputs": [
        {
          "output_type": "stream",
          "name": "stdout",
          "text": [
            "{'name': 'Kunal', 'age': 20, 'city': 'Mumbai'}\n"
          ]
        }
      ],
      "source": [
        "my_dict = {'name': 'Kunal', 'age': 20}\n",
        "my_dict.update({'city': 'Mumbai'})\n",
        "print(my_dict)"
      ]
    },
    {
      "cell_type": "markdown",
      "metadata": {
        "id": "ovoqHxvdu_hh"
      },
      "source": [
        "## Program to show working of `pop()`"
      ]
    },
    {
      "cell_type": "code",
      "execution_count": null,
      "metadata": {
        "id": "HKs5_oyvu9dl",
        "colab": {
          "base_uri": "https://localhost:8080/"
        },
        "outputId": "95807410-831b-43a8-9107-e2d87ae5ad92"
      },
      "outputs": [
        {
          "output_type": "stream",
          "name": "stdout",
          "text": [
            "20\n"
          ]
        }
      ],
      "source": [
        "my_dict = {'name': 'Kunal', 'age': 20, 'city': 'Mumbai'}\n",
        "age = my_dict.pop('age')\n",
        "print(age)"
      ]
    },
    {
      "cell_type": "markdown",
      "metadata": {
        "id": "gXGiCgY7vXDc"
      },
      "source": [
        "## Program to convert list to dictionary"
      ]
    },
    {
      "cell_type": "code",
      "execution_count": null,
      "metadata": {
        "id": "Z7uttPlqvWQh",
        "colab": {
          "base_uri": "https://localhost:8080/"
        },
        "outputId": "13e916ec-7eca-41ee-9a90-268dd15bdea3"
      },
      "outputs": [
        {
          "output_type": "stream",
          "name": "stdout",
          "text": [
            "{'key1': 'value1', 'key2': 'value2'}\n"
          ]
        }
      ],
      "source": [
        "items = [(\"key1\", \"value1\"), (\"key2\", \"value2\")]\n",
        "dictionary = dict(items)\n",
        "print(dictionary)"
      ]
    },
    {
      "cell_type": "markdown",
      "metadata": {
        "id": "DKIjIKNivhZ5"
      },
      "source": [
        "## Program to use `zip()` and convert two parallel lists to dictionary"
      ]
    },
    {
      "cell_type": "code",
      "execution_count": null,
      "metadata": {
        "id": "y4rFq9CQvlLw",
        "colab": {
          "base_uri": "https://localhost:8080/"
        },
        "outputId": "a77dabb2-fc3c-47c1-f86d-dded6e01bd55"
      },
      "outputs": [
        {
          "output_type": "stream",
          "name": "stdout",
          "text": [
            "{'id': 12, 'name': 'Kunal', 'age': 20}\n"
          ]
        }
      ],
      "source": [
        "keys = [\"id\", \"name\", \"age\"]\n",
        "values = [12, \"Kunal\", 20]\n",
        "dictionary = dict(zip(keys, values))\n",
        "print(dictionary)"
      ]
    },
    {
      "cell_type": "markdown",
      "metadata": {
        "id": "82GcVqrPv2gF"
      },
      "source": [
        "## Program to create dictionary values from a common value"
      ]
    },
    {
      "cell_type": "code",
      "execution_count": null,
      "metadata": {
        "id": "rvynhl2_v0H1",
        "colab": {
          "base_uri": "https://localhost:8080/"
        },
        "outputId": "a7df87c8-12e9-4cac-b261-d490246ea6bc"
      },
      "outputs": [
        {
          "output_type": "stream",
          "name": "stdout",
          "text": [
            "{'Apple': 0, 'Banana': 0, 'Cherry': 0, 'Dragon Fruit': 0}\n"
          ]
        }
      ],
      "source": [
        "keys = [\"Apple\", \"Banana\", \"Cherry\", \"Dragon Fruit\"]\n",
        "default_value = 0\n",
        "fruit_dict = dict.fromkeys(keys, default_value)\n",
        "print(fruit_dict)"
      ]
    },
    {
      "cell_type": "markdown",
      "metadata": {
        "id": "usv2IR9zwAxG"
      },
      "source": [
        "# 21-01-2025"
      ]
    },
    {
      "cell_type": "markdown",
      "metadata": {
        "id": "Z_lr-MoSwIN8"
      },
      "source": [
        "## Program to make matrix in dictionary"
      ]
    },
    {
      "cell_type": "code",
      "execution_count": null,
      "metadata": {
        "id": "vFFXL-1pv7OV",
        "colab": {
          "base_uri": "https://localhost:8080/"
        },
        "outputId": "aed0d6ff-437c-48d5-97c4-8a7744b055ab"
      },
      "outputs": [
        {
          "output_type": "stream",
          "name": "stdout",
          "text": [
            "The list :\n",
            "[[2, 4, 3], [4, 1, 3], [2, 1, 3, 4]]\n",
            "The result is :\n",
            "[['Python', 'learn', 'to'], ['learn', 'fun', 'to'], ['Python', 'fun', 'to', 'learn']]\n"
          ]
        }
      ],
      "source": [
        "my_list = [[2, 4, 3], [4, 1, 3], [2, 1, 3, 4]]\n",
        "print (\"The list :\")\n",
        "print (my_list)\n",
        "map_dict = {2: \"Python\", 1: \"fun\", 3: \"to\", 4: \"learn\"}\n",
        "my_result = []\n",
        "for index in my_list:\n",
        "  temp = []\n",
        "  for element in index:\n",
        "    temp.append (map_dict[element])\n",
        "  my_result.append(temp)\n",
        "print(\"The result is :\")\n",
        "print(my_result)"
      ]
    },
    {
      "cell_type": "markdown",
      "metadata": {
        "id": "kBblnSo5wTE5"
      },
      "source": [
        "## Program to merge dictionaries using for loop"
      ]
    },
    {
      "cell_type": "code",
      "execution_count": null,
      "metadata": {
        "id": "GBUYyjRUwN0F",
        "colab": {
          "base_uri": "https://localhost:8080/"
        },
        "outputId": "d2e37d3e-ab8b-4fec-e475-7fcc38263a28"
      },
      "outputs": [
        {
          "output_type": "stream",
          "name": "stdout",
          "text": [
            "Updated Dictionary: {'name': 'Kunal', 'age': 20, 'city': 'Mumbai', 'country': 'India', 'language': 'Python', 'level': 'Advance'}\n"
          ]
        }
      ],
      "source": [
        "target_dict = {}\n",
        "dict_list = [\n",
        "    {\"name\" : \"Kunal\", \"age\" :  20},\n",
        "    {\"city\" : \"Mumbai\", \"country\" : \"India\"},\n",
        "    {\"language\" : \"Python\", \"level\" : \"Advance\"}]\n",
        "for dictionary in dict_list:\n",
        "  target_dict.update(dictionary)\n",
        "print(\"Updated Dictionary:\", target_dict)"
      ]
    },
    {
      "cell_type": "markdown",
      "metadata": {
        "id": "lwuavsCywZCk"
      },
      "source": [
        "## Program to merge dictionaries"
      ]
    },
    {
      "cell_type": "code",
      "execution_count": null,
      "metadata": {
        "id": "PsbOKC4SwYg9",
        "colab": {
          "base_uri": "https://localhost:8080/"
        },
        "outputId": "f9c642dc-6c92-426e-86d0-edce839eeae2"
      },
      "outputs": [
        {
          "output_type": "stream",
          "name": "stdout",
          "text": [
            "Updated Dictionary:  {'name': 'Kunal', 'age': 20, 'city': 'Mumbai', 'country': 'India', 'language': 'Python', 'level': 'Advance'}\n"
          ]
        }
      ],
      "source": [
        "dict_list = [\n",
        "  {\"name\": \"Kunal\", \"age\": 20},\n",
        "  {\"city\": \"Mumbai\", \"country\": \"India\"},\n",
        "  {\"language\": \"Python\", \"level\": \"Advance\"}]\n",
        "updated_dict = {key: value for dictionary in dict_list for key, value in dictionary.items()}\n",
        "print (\"Updated Dictionary: \", updated_dict)"
      ]
    },
    {
      "cell_type": "markdown",
      "metadata": {
        "id": "rLWRW3IDwp1d"
      },
      "source": [
        "# 22-01-2025"
      ]
    },
    {
      "cell_type": "markdown",
      "metadata": {
        "id": "plUqgiuDwjIE"
      },
      "source": [
        "## Program to create a frozenset from list"
      ]
    },
    {
      "cell_type": "code",
      "execution_count": null,
      "metadata": {
        "id": "JJgKFVSmwgYO",
        "colab": {
          "base_uri": "https://localhost:8080/"
        },
        "outputId": "538e2479-9d18-4b79-9abc-eac0fb3065dc"
      },
      "outputs": [
        {
          "output_type": "stream",
          "name": "stdout",
          "text": [
            "frozenset({'cherry', 'banana', 'apple'})\n"
          ]
        }
      ],
      "source": [
        "mylist = ['apple', 'banana', 'cherry']\n",
        "x = frozenset(mylist)\n",
        "print(x)"
      ]
    },
    {
      "cell_type": "markdown",
      "metadata": {
        "id": "Zy2xPMNxwwFk"
      },
      "source": [
        "## Program to create frozenset from tuple"
      ]
    },
    {
      "cell_type": "code",
      "execution_count": null,
      "metadata": {
        "id": "m-92V3ExwtRs",
        "colab": {
          "base_uri": "https://localhost:8080/"
        },
        "outputId": "db9158fb-4c10-4725-d97c-af50975b3a63"
      },
      "outputs": [
        {
          "output_type": "stream",
          "name": "stdout",
          "text": [
            "The frozen set is: frozenset({'u', 'e', 'a', 'i', 'o'})\n",
            "The empty frozen set is: frozenset()\n",
            "The new frozen set is: frozenset({'u', 'v', 'e', 'a', 'i', 'o'})\n"
          ]
        }
      ],
      "source": [
        "vowels = ('a', 'e', 'i', 'o', 'u')\n",
        "fset = frozenset(vowels)\n",
        "print ('The frozen set is:', fset)\n",
        "print('The empty frozen set is:', frozenset())\n",
        "new_fSet = frozenset (vowels + ('v',))\n",
        "print('The new frozen set is:', new_fSet)"
      ]
    },
    {
      "cell_type": "markdown",
      "metadata": {
        "id": "m8GmACvWw44M"
      },
      "source": [
        "## Program to create frozenset from dictionary"
      ]
    },
    {
      "cell_type": "code",
      "execution_count": null,
      "metadata": {
        "id": "xKjbRv_Lw0Kd",
        "colab": {
          "base_uri": "https://localhost:8080/"
        },
        "outputId": "61578ab6-6546-4bc7-a524-cf7e7aae259a"
      },
      "outputs": [
        {
          "output_type": "stream",
          "name": "stdout",
          "text": [
            "The frozen set is:  frozenset({'Name', 'Age', 'Gender'})\n"
          ]
        }
      ],
      "source": [
        "person = {\"Name\" : \"Kunal\", \"Age\" : 20, \"Gender\" : \"male\"}\n",
        "fset = frozenset(person)\n",
        "print('The frozen set is: ',fset)"
      ]
    },
    {
      "cell_type": "markdown",
      "metadata": {
        "id": "F1ZBINoGxNyF"
      },
      "source": [
        "## Program to perform frozenset operations"
      ]
    },
    {
      "cell_type": "code",
      "execution_count": null,
      "metadata": {
        "id": "gW-Vq0kBw-It",
        "colab": {
          "base_uri": "https://localhost:8080/"
        },
        "outputId": "cbd9a78b-c69b-4dcc-b1f7-3e094783705c"
      },
      "outputs": [
        {
          "output_type": "stream",
          "name": "stdout",
          "text": [
            "frozenset({1, 2, 3, 4})\n",
            "frozenset({1, 2, 3, 4, 5, 6})\n",
            "frozenset({3, 4})\n",
            "frozenset({1, 2})\n",
            "frozenset({1, 2, 5, 6})\n"
          ]
        }
      ],
      "source": [
        "A = frozenset ([1, 2, 3, 4])\n",
        "B = frozenset ([3, 4, 5, 6])\n",
        "C = A.copy()\n",
        "print(C)\n",
        "print(A.union(B))\n",
        "print(A.intersection(B))\n",
        "print(A.difference(B))\n",
        "print(A.symmetric_difference(B))"
      ]
    },
    {
      "cell_type": "markdown",
      "metadata": {
        "id": "J_3H5kBzw2Bx"
      },
      "source": [
        "# 23-01-2025"
      ]
    },
    {
      "cell_type": "markdown",
      "metadata": {
        "id": "WboIjckTw9eY"
      },
      "source": [
        "## Program to perform frozenset methods"
      ]
    },
    {
      "cell_type": "code",
      "execution_count": null,
      "metadata": {
        "id": "0pAa_-ECxTGk",
        "colab": {
          "base_uri": "https://localhost:8080/"
        },
        "outputId": "2f2faabe-b0f8-40e0-a2c5-285c8778acdb"
      },
      "outputs": [
        {
          "output_type": "stream",
          "name": "stdout",
          "text": [
            "True\n",
            "True\n",
            "True\n"
          ]
        }
      ],
      "source": [
        "A = frozenset ([1, 2, 3, 4])\n",
        "B = frozenset ([3, 4, 5, 6])\n",
        "C = frozenset ([5, 6])\n",
        "print(A.isdisjoint(C))\n",
        "print(C.issubset(B))\n",
        "print(B.issuperset(C))"
      ]
    },
    {
      "cell_type": "markdown",
      "metadata": {
        "id": "eXTCMsdhxeyn"
      },
      "source": [
        "## Program to create sets"
      ]
    },
    {
      "cell_type": "code",
      "execution_count": null,
      "metadata": {
        "id": "vndyYBGmxgUm",
        "colab": {
          "base_uri": "https://localhost:8080/"
        },
        "outputId": "fc39334c-c21f-4d3b-c7f9-8e6d647698f2"
      },
      "outputs": [
        {
          "output_type": "stream",
          "name": "stdout",
          "text": [
            "set()\n",
            "{'h', 't', 'P', 'y', 'n', 'o'}\n",
            "{'u', 'e', 'a', 'i', 'o'}\n",
            "{'u', 'e', 'a', 'i', 'o'}\n",
            "{0, 1, 2, 3, 4}\n"
          ]
        }
      ],
      "source": [
        "print(set())\n",
        "print(set('Python'))\n",
        "print(set(('a', 'e', 'e', 'i', 'o', 'u')))\n",
        "print(set(['a', 'e', 'i', 'o', 'u']))\n",
        "print(set(range(5)))"
      ]
    },
    {
      "cell_type": "markdown",
      "metadata": {
        "id": "WMXgm0izxinG"
      },
      "source": [
        "# 29-01-2025"
      ]
    },
    {
      "cell_type": "markdown",
      "metadata": {
        "id": "2umcrKJmxoFB"
      },
      "source": [
        "## Program to remove duplicates from sets using list"
      ]
    },
    {
      "cell_type": "code",
      "execution_count": null,
      "metadata": {
        "id": "iI_XsxccxlqA",
        "colab": {
          "base_uri": "https://localhost:8080/"
        },
        "outputId": "2b84defa-3939-472b-8bcc-3f1a2274b16c"
      },
      "outputs": [
        {
          "output_type": "stream",
          "name": "stdout",
          "text": [
            "{1, 2, 3, 4, 5}\n"
          ]
        }
      ],
      "source": [
        "my_list = [1, 2, 3, 2, 1, 4, 5, 4]\n",
        "my_set = set(my_list)\n",
        "print(my_set)"
      ]
    },
    {
      "cell_type": "markdown",
      "metadata": {
        "id": "xY7-4RE_xu9Z"
      },
      "source": [
        "## Program to create dictionary from frozenset"
      ]
    },
    {
      "cell_type": "code",
      "execution_count": null,
      "metadata": {
        "id": "bCVK1DeDxxW4",
        "colab": {
          "base_uri": "https://localhost:8080/"
        },
        "outputId": "461f8d14-eac7-436a-cf89-2778334cd17c"
      },
      "outputs": [
        {
          "output_type": "stream",
          "name": "stdout",
          "text": [
            "{frozenset({1, 2}): 'value'}\n"
          ]
        }
      ],
      "source": [
        "my_dict = {frozenset ({1, 2}): 'value'}\n",
        "print(my_dict)"
      ]
    },
    {
      "cell_type": "markdown",
      "metadata": {
        "id": "bVw0kIzyxz8l"
      },
      "source": [
        "## Hashing Keys in a dictionary"
      ]
    },
    {
      "cell_type": "code",
      "execution_count": null,
      "metadata": {
        "id": "VPUUr0Rpx8nm",
        "colab": {
          "base_uri": "https://localhost:8080/"
        },
        "outputId": "246dfe4b-587f-4254-9330-d7f8b0bcea01"
      },
      "outputs": [
        {
          "output_type": "stream",
          "name": "stdout",
          "text": [
            "{frozenset({1, 2}): 'value'}\n"
          ]
        }
      ],
      "source": [
        "my_dict = {frozenset({1,2}):'value'}\n",
        "print(my_dict)"
      ]
    },
    {
      "cell_type": "markdown",
      "metadata": {
        "id": "1YaskDe8z1CF"
      },
      "source": [
        "# 04-02-2025"
      ]
    },
    {
      "cell_type": "markdown",
      "metadata": {
        "id": "QA-KXzKCz_ld"
      },
      "source": [
        "##  Program to check if a number is positive"
      ]
    },
    {
      "cell_type": "code",
      "execution_count": null,
      "metadata": {
        "id": "xfGwSJW7z43W",
        "colab": {
          "base_uri": "https://localhost:8080/"
        },
        "outputId": "f52b0623-5d8f-4bb2-fe93-91a4cd77d28e"
      },
      "outputs": [
        {
          "output_type": "stream",
          "name": "stdout",
          "text": [
            "25 is a positive number\n"
          ]
        }
      ],
      "source": [
        "num = 25\n",
        "if num > 0:\n",
        "  print(num, \"is a positive number\")"
      ]
    },
    {
      "cell_type": "markdown",
      "metadata": {
        "id": "KX1t0Jbm0tbd"
      },
      "source": [
        "## Program to check if a number is negative"
      ]
    },
    {
      "cell_type": "code",
      "execution_count": null,
      "metadata": {
        "id": "53zSI7RR0ppO",
        "colab": {
          "base_uri": "https://localhost:8080/"
        },
        "outputId": "282ae62d-1c3e-49e5-d2d9-dde806d26240"
      },
      "outputs": [
        {
          "output_type": "stream",
          "name": "stdout",
          "text": [
            "-25 is a negative number\n"
          ]
        }
      ],
      "source": [
        "num = -25\n",
        "if num < 0:\n",
        "  print(num, \"is a negative number\")"
      ]
    },
    {
      "cell_type": "markdown",
      "metadata": {
        "id": "wyo_GX5O01FG"
      },
      "source": [
        "## Program to check if a item is present in list"
      ]
    },
    {
      "cell_type": "code",
      "execution_count": null,
      "metadata": {
        "id": "YhQIcaNV0z4-",
        "colab": {
          "base_uri": "https://localhost:8080/"
        },
        "outputId": "e8914f3a-a51c-44ed-fca4-9dacb29375ec"
      },
      "outputs": [
        {
          "output_type": "stream",
          "name": "stdout",
          "text": [
            "Banana\n"
          ]
        }
      ],
      "source": [
        "fruits = [\"apple\", \"banana\", \"mango\"]\n",
        "if \"banana\" in fruits:\n",
        "  print(\"Banana\")"
      ]
    },
    {
      "cell_type": "markdown",
      "metadata": {
        "id": "Vy3frPna1JXG"
      },
      "source": [
        "## Program to check eligibility to vote"
      ]
    },
    {
      "cell_type": "code",
      "execution_count": null,
      "metadata": {
        "id": "Hu-eIQNF1BRv",
        "colab": {
          "base_uri": "https://localhost:8080/"
        },
        "outputId": "46c684e9-3cab-408d-f8c5-468f5b63fb55"
      },
      "outputs": [
        {
          "output_type": "stream",
          "name": "stdout",
          "text": [
            "You are eligible to vote\n"
          ]
        }
      ],
      "source": [
        "age = 20\n",
        "if age >= 18:\n",
        "  print(\"You are eligible to vote\")"
      ]
    },
    {
      "cell_type": "markdown",
      "metadata": {
        "id": "CVBDaIhB1Q-t"
      },
      "source": [
        "## Program to check divisibilty by 2"
      ]
    },
    {
      "cell_type": "code",
      "execution_count": null,
      "metadata": {
        "id": "OVGd2lBZ1POW",
        "colab": {
          "base_uri": "https://localhost:8080/"
        },
        "outputId": "8b2207fd-60e2-411f-95d7-0f6aab8c265a"
      },
      "outputs": [
        {
          "output_type": "stream",
          "name": "stdout",
          "text": [
            "16 is divisible by 2\n"
          ]
        }
      ],
      "source": [
        "number = 16\n",
        "if number % 2 == 0:\n",
        "  print(number, \"is divisible by 2\")\n",
        "else:\n",
        "  print(number, \"is not divisible by 2\")"
      ]
    },
    {
      "cell_type": "markdown",
      "metadata": {
        "id": "ytHC-1fV1Wkl"
      },
      "source": [
        "## Program to check if number is positive or negative"
      ]
    },
    {
      "cell_type": "code",
      "execution_count": null,
      "metadata": {
        "id": "syvoEn4s1Tyl",
        "colab": {
          "base_uri": "https://localhost:8080/"
        },
        "outputId": "22573e67-c734-4b7c-dbff-c5e1dfd3e6dc"
      },
      "outputs": [
        {
          "output_type": "stream",
          "name": "stdout",
          "text": [
            "-10 is negative\n"
          ]
        }
      ],
      "source": [
        "num = -10\n",
        "if num > 0:\n",
        "  print(num, \"is positive\")\n",
        "else:\n",
        "  print(num, \"is negative\")"
      ]
    },
    {
      "cell_type": "markdown",
      "metadata": {
        "id": "WzgZOOcw1js8"
      },
      "source": [
        "## Program to check if number is even or odd"
      ]
    },
    {
      "cell_type": "code",
      "execution_count": null,
      "metadata": {
        "id": "KGiXDS6s1i2O",
        "colab": {
          "base_uri": "https://localhost:8080/"
        },
        "outputId": "97b96b21-77f0-4789-a9ae-5044448a4ef2"
      },
      "outputs": [
        {
          "output_type": "stream",
          "name": "stdout",
          "text": [
            "20 is even\n"
          ]
        }
      ],
      "source": [
        "number = 20\n",
        "if number % 2 == 0:\n",
        "  print(number, \"is even\")\n",
        "else:\n",
        "  print(number, \"is odd\")"
      ]
    },
    {
      "cell_type": "markdown",
      "metadata": {
        "id": "Zt6iNyq81ojm"
      },
      "source": [
        "## Program to print grade on marks"
      ]
    },
    {
      "cell_type": "code",
      "execution_count": null,
      "metadata": {
        "id": "O5STjRen1oDk",
        "colab": {
          "base_uri": "https://localhost:8080/"
        },
        "outputId": "16b73460-984a-4674-9fab-08cdfc3bfa3c"
      },
      "outputs": [
        {
          "output_type": "stream",
          "name": "stdout",
          "text": [
            "Grade A\n"
          ]
        }
      ],
      "source": [
        "marks = 85\n",
        "if marks >= 90:\n",
        "  print(\"Grade O\")\n",
        "elif marks >= 80:\n",
        "  print(\"Grade A\")\n",
        "elif marks >= 70:\n",
        "  print(\"Grade B\")\n",
        "elif marks >= 60:\n",
        "  print(\"Grade C\")\n",
        "elif marks >= 50:\n",
        "  print(\"Grade D\")\n",
        "elif marks >= 40:\n",
        "  print(\"Grade E\")\n",
        "else:\n",
        "  print(\"Grade F\")"
      ]
    },
    {
      "cell_type": "markdown",
      "metadata": {
        "id": "um3EepNg1uJd"
      },
      "source": [
        "## Program to display discount on total price"
      ]
    },
    {
      "cell_type": "code",
      "execution_count": null,
      "metadata": {
        "id": "xbFEky2Z1tie",
        "colab": {
          "base_uri": "https://localhost:8080/"
        },
        "outputId": "378084cf-2254-49c0-c6bb-c7761e19d155"
      },
      "outputs": [
        {
          "output_type": "stream",
          "name": "stdout",
          "text": [
            "No discount\n"
          ]
        }
      ],
      "source": [
        "total_price = 30\n",
        "\n",
        "if total_price < 50:\n",
        "  print(\"No discount\")\n",
        "elif total_price < 100:\n",
        "  print(\"Discount is 10%\")\n",
        "elif total_price < 200:\n",
        "  print(\"Discount is 20%\")\n",
        "else:\n",
        "  print(\"Discount is 30%\")"
      ]
    },
    {
      "cell_type": "markdown",
      "metadata": {
        "id": "YXGZO6LX2MqM"
      },
      "source": [
        "# 05-02-2025"
      ]
    },
    {
      "cell_type": "markdown",
      "metadata": {
        "id": "NkW4tPKe2GNe"
      },
      "source": [
        "## Program to check if a number is divisible by 2 and 3"
      ]
    },
    {
      "cell_type": "code",
      "execution_count": null,
      "metadata": {
        "id": "qYU1AyRP2JK9",
        "colab": {
          "base_uri": "https://localhost:8080/"
        },
        "outputId": "30068871-e82a-434e-bc11-31d4dcc02b75"
      },
      "outputs": [
        {
          "output_type": "stream",
          "name": "stdout",
          "text": [
            "12 is not divisible by 2 and 3\n"
          ]
        }
      ],
      "source": [
        "num = 12\n",
        "if num % 2 == 0:\n",
        "  if num % 3 == 0:\n",
        "    print(num, \"is not divisible by 2 and 3\")\n",
        "  else:\n",
        "    print(num, \"is not divisible by 2 and 3\")\n",
        "else:\n",
        "  print(num, \"is not divisible by 2\")"
      ]
    },
    {
      "cell_type": "markdown",
      "metadata": {
        "id": "afpq5I1z2Zel"
      },
      "source": [
        "## Program to check if sides form a triangle"
      ]
    },
    {
      "cell_type": "code",
      "execution_count": null,
      "metadata": {
        "id": "ju_PaxZW2a1F",
        "colab": {
          "base_uri": "https://localhost:8080/"
        },
        "outputId": "28d05169-d1b9-476b-8866-810eea6ec714"
      },
      "outputs": [
        {
          "output_type": "stream",
          "name": "stdout",
          "text": [
            "The sides form a triangle\n",
            "It is a scalene triangle\n"
          ]
        }
      ],
      "source": [
        "a, b, c = 3, 4, 5\n",
        "if a + b > c and b + c > a and c + a > b:\n",
        "  print(\"The sides form a triangle\")\n",
        "  if a == b == c:\n",
        "    print(\"It is an equilateral triangle\")\n",
        "  elif a == b or b == c or c == a:\n",
        "    print(\"It is an isosceles triangle\")\n",
        "  else:\n",
        "    print(\"It is a scalene triangle\")\n",
        "else:\n",
        "  print(\"The sides do not form a triangle\")"
      ]
    },
    {
      "cell_type": "markdown",
      "metadata": {
        "id": "h_kAStfv2dkE"
      },
      "source": [
        "## Program to print 1 - 5 in loop"
      ]
    },
    {
      "cell_type": "code",
      "execution_count": null,
      "metadata": {
        "id": "9yYSgesX2cqn",
        "colab": {
          "base_uri": "https://localhost:8080/"
        },
        "outputId": "250d9e4c-d4a9-4c82-9046-4dbfed243244"
      },
      "outputs": [
        {
          "output_type": "stream",
          "name": "stdout",
          "text": [
            "1\n",
            "2\n",
            "3\n",
            "4\n",
            "5\n"
          ]
        }
      ],
      "source": [
        "for i in range(1, 6):\n",
        "  print(i)"
      ]
    },
    {
      "cell_type": "markdown",
      "metadata": {
        "id": "QqdZLMG82lhF"
      },
      "source": [
        "## Program to print fruits in list line by line"
      ]
    },
    {
      "cell_type": "code",
      "execution_count": null,
      "metadata": {
        "id": "nI2-DalC2kvV",
        "colab": {
          "base_uri": "https://localhost:8080/"
        },
        "outputId": "a953b7ee-9eca-47d4-f955-1b936d3a3e83"
      },
      "outputs": [
        {
          "output_type": "stream",
          "name": "stdout",
          "text": [
            "apple\n",
            "banana\n",
            "cherry\n"
          ]
        }
      ],
      "source": [
        "fruits = [\"apple\", \"banana\", \"cherry\"]\n",
        "for fruit in fruits:\n",
        "  print(fruit)"
      ]
    },
    {
      "cell_type": "markdown",
      "metadata": {
        "id": "qxtHka3r2r8k"
      },
      "source": [
        "## Program to print 1"
      ]
    },
    {
      "cell_type": "code",
      "execution_count": null,
      "metadata": {
        "id": "cAECNb512p7G",
        "colab": {
          "base_uri": "https://localhost:8080/"
        },
        "outputId": "b7c83a27-414f-4dac-ddc5-7cfe7561f301"
      },
      "outputs": [
        {
          "output_type": "stream",
          "name": "stdout",
          "text": [
            "1\n",
            "2\n",
            "3\n",
            "Loop completed!\n"
          ]
        }
      ],
      "source": [
        "for num in range(1, 4):\n",
        "  print(num)\n",
        "else:\n",
        "  print(\"Loop completed!\")"
      ]
    },
    {
      "cell_type": "markdown",
      "metadata": {
        "id": "xCptw5wC2vkt"
      },
      "source": [
        "## Sum with while loop"
      ]
    },
    {
      "cell_type": "code",
      "execution_count": null,
      "metadata": {
        "id": "f19qBjME2vY2",
        "colab": {
          "base_uri": "https://localhost:8080/"
        },
        "outputId": "642f865c-08bb-4b67-a211-5a9ebe518671"
      },
      "outputs": [
        {
          "output_type": "stream",
          "name": "stdout",
          "text": [
            "sum is 15\n"
          ]
        }
      ],
      "source": [
        "sum = 0\n",
        "i=1\n",
        "while i <= 5:\n",
        "  sum+=i\n",
        "  i+=1\n",
        "\n",
        "print(\"sum is\",sum)"
      ]
    },
    {
      "cell_type": "markdown",
      "metadata": {
        "id": "jfw025Lk3j0F"
      },
      "source": [
        "## Program to keep check of count with while loop"
      ]
    },
    {
      "cell_type": "code",
      "execution_count": null,
      "metadata": {
        "id": "G91LjcgX3j-c",
        "colab": {
          "base_uri": "https://localhost:8080/"
        },
        "outputId": "e811d075-f8e8-43d5-c8d1-c7ececb431aa"
      },
      "outputs": [
        {
          "output_type": "stream",
          "name": "stdout",
          "text": [
            "0 is less than 7\n",
            "1 is less than 7\n",
            "2 is less than 7\n",
            "3 is less than 7\n",
            "4 is less than 7\n",
            "5 is less than 7\n",
            "6 is less than 7\n",
            "7 is not less than 7\n"
          ]
        }
      ],
      "source": [
        "count = 0\n",
        "while count<7:\n",
        "  print(count,\"is less than 7\")\n",
        "  count=count+1\n",
        "else:\n",
        "  print(count,\"is not less than 7\")"
      ]
    },
    {
      "cell_type": "markdown",
      "metadata": {
        "id": "d0ZqPV_C6yVW"
      },
      "source": [
        "## Nested for loop"
      ]
    },
    {
      "cell_type": "code",
      "execution_count": null,
      "metadata": {
        "id": "t0LwUfrX60kO",
        "colab": {
          "base_uri": "https://localhost:8080/"
        },
        "outputId": "0c888a42-6152-4d22-b9e6-9c8254cd7582"
      },
      "outputs": [
        {
          "output_type": "stream",
          "name": "stdout",
          "text": [
            "1 1\n",
            "1 2\n",
            "1 3\n",
            "2 1\n",
            "2 2\n",
            "2 3\n",
            "3 1\n",
            "3 2\n",
            "3 3\n"
          ]
        }
      ],
      "source": [
        "for i in range(1,4):\n",
        "  for j in range(1,4):\n",
        "    print(i,j)"
      ]
    },
    {
      "cell_type": "markdown",
      "metadata": {
        "id": "0sgyKWcSsnDg"
      },
      "source": [
        "# 11-02-2025"
      ]
    },
    {
      "cell_type": "markdown",
      "metadata": {
        "id": "s3k5Bk_ws6GO"
      },
      "source": [
        "## Function to calculate factorial of number"
      ]
    },
    {
      "cell_type": "code",
      "execution_count": null,
      "metadata": {
        "id": "8p_nH8j_tEO_",
        "colab": {
          "base_uri": "https://localhost:8080/"
        },
        "outputId": "0a6a6d19-1f4c-4749-c8e5-be29b12252f8"
      },
      "outputs": [
        {
          "output_type": "stream",
          "name": "stdout",
          "text": [
            "120\n"
          ]
        }
      ],
      "source": [
        "def fact(n):\n",
        "  if n == 0:\n",
        "    return 1\n",
        "  else:\n",
        "    return n * fact(n-1)\n",
        "\n",
        "print(fact(5))"
      ]
    },
    {
      "cell_type": "markdown",
      "metadata": {
        "id": "KOIvH3hjtPh_"
      },
      "source": [
        "## Function to reverse a string"
      ]
    },
    {
      "cell_type": "code",
      "execution_count": null,
      "metadata": {
        "id": "SZe5dioEtjXW",
        "colab": {
          "base_uri": "https://localhost:8080/"
        },
        "outputId": "4e688f12-1395-46d1-f819-9534f06fee01"
      },
      "outputs": [
        {
          "output_type": "stream",
          "name": "stdout",
          "text": [
            "olleH\n"
          ]
        }
      ],
      "source": [
        "def string_reverse(a):\n",
        "  print(a[::-1])\n",
        "\n",
        "string_reverse(\"Hello\")"
      ]
    },
    {
      "cell_type": "markdown",
      "metadata": {
        "id": "mPCzLq4UumzG"
      },
      "source": [
        "## Fuction to find 2nd largest number in list"
      ]
    },
    {
      "cell_type": "code",
      "execution_count": null,
      "metadata": {
        "id": "xxhGFrZMu28v",
        "colab": {
          "base_uri": "https://localhost:8080/"
        },
        "outputId": "03f7345a-823e-43fa-a774-f2a8c55958c3"
      },
      "outputs": [
        {
          "output_type": "stream",
          "name": "stdout",
          "text": [
            "5\n"
          ]
        }
      ],
      "source": [
        "def second_largest(list):\n",
        "  largest = max(list)\n",
        "  for i in list:\n",
        "    if i != largest:\n",
        "      return max(list)\n",
        "\n",
        "print(second_largest([1, 2, 3, 4, 5]))"
      ]
    },
    {
      "cell_type": "markdown",
      "metadata": {
        "id": "KSbUieWRvrqG"
      },
      "source": [
        "## Function to check if number is prime"
      ]
    },
    {
      "cell_type": "code",
      "execution_count": null,
      "metadata": {
        "id": "wW-vUFyyvqlm",
        "colab": {
          "base_uri": "https://localhost:8080/"
        },
        "outputId": "f9e16425-1c81-457a-f95e-b9b85aaf8dd2"
      },
      "outputs": [
        {
          "output_type": "stream",
          "name": "stdout",
          "text": [
            "True\n"
          ]
        }
      ],
      "source": [
        "def is_prime(num):\n",
        "  for i in range(2,num-1):\n",
        "    if(num%i==0):\n",
        "      return False\n",
        "  return True\n",
        "\n",
        "print(is_prime(13))"
      ]
    },
    {
      "cell_type": "markdown",
      "metadata": {
        "id": "nMXp0wMQwGm2"
      },
      "source": [
        "## Function to find out Greatest Common Divisors"
      ]
    },
    {
      "cell_type": "code",
      "execution_count": null,
      "metadata": {
        "id": "ROIlfu38wGEX",
        "colab": {
          "base_uri": "https://localhost:8080/"
        },
        "outputId": "7fb10856-b289-4404-8a46-13c1869c5eeb"
      },
      "outputs": [
        {
          "output_type": "stream",
          "name": "stdout",
          "text": [
            "Common Divisors:  {2, 3, 6}\n",
            "36\n"
          ]
        }
      ],
      "source": [
        "def gcd(num1, num2):\n",
        "    divi1 = []\n",
        "    divi2 = []\n",
        "    for i in range(2, num1+1):\n",
        "        if num1 % i == 0:\n",
        "            divi1.append(i)\n",
        "    for j in range(2, num2+1):\n",
        "        if num2 % j == 0:\n",
        "            divi2.append(j)\n",
        "\n",
        "    common_divi = set(divi1) & set(divi2)\n",
        "    print(\"Common Divisors: \", common_divi)\n",
        "\n",
        "    gcd = 1\n",
        "    for i in common_divi:\n",
        "        gcd = gcd * i\n",
        "    return gcd\n",
        "\n",
        "print(gcd(12, 18))"
      ]
    },
    {
      "cell_type": "markdown",
      "metadata": {
        "id": "2GFBjCRh1Qqu"
      },
      "source": [
        "## Function to print hello"
      ]
    },
    {
      "cell_type": "code",
      "execution_count": null,
      "metadata": {
        "id": "7tdbw99W1S2Q",
        "colab": {
          "base_uri": "https://localhost:8080/"
        },
        "outputId": "2c13841c-e6e4-4ab9-c155-643e2bb1f233"
      },
      "outputs": [
        {
          "output_type": "stream",
          "name": "stdout",
          "text": [
            "Hello, Welcome to Python Functions\n"
          ]
        }
      ],
      "source": [
        "def hello():\n",
        "  print(\"Hello, Welcome to Python Functions\")\n",
        "hello()"
      ]
    },
    {
      "cell_type": "markdown",
      "metadata": {
        "id": "OPWWcRC21X3l"
      },
      "source": [
        "## Function to check if number is even or odd"
      ]
    },
    {
      "cell_type": "code",
      "execution_count": null,
      "metadata": {
        "id": "6BX0tcEx1bl-",
        "colab": {
          "base_uri": "https://localhost:8080/"
        },
        "outputId": "b3428830-4194-4ff6-ae7d-902239ceeb6b"
      },
      "outputs": [
        {
          "output_type": "stream",
          "name": "stdout",
          "text": [
            "Even\n"
          ]
        }
      ],
      "source": [
        "def check_even_odd(num):\n",
        "  if num % 2 == 0:\n",
        "    return \"Even\"\n",
        "  else:\n",
        "    return \"Odd\"\n",
        "print(check_even_odd(12))"
      ]
    },
    {
      "cell_type": "markdown",
      "metadata": {
        "id": "-wHggGPH1f9b"
      },
      "source": [
        "## Function to find square of a number"
      ]
    },
    {
      "cell_type": "code",
      "execution_count": null,
      "metadata": {
        "id": "2PCBZoSH1hec",
        "colab": {
          "base_uri": "https://localhost:8080/"
        },
        "outputId": "9acc687b-7c98-409e-fefe-bae8d4b089c6"
      },
      "outputs": [
        {
          "output_type": "stream",
          "name": "stdout",
          "text": [
            "16\n"
          ]
        }
      ],
      "source": [
        "def square(num):\n",
        "  return num * num\n",
        "result = square(4)\n",
        "print(result)"
      ]
    },
    {
      "cell_type": "markdown",
      "metadata": {
        "id": "CVw37Nby1oOj"
      },
      "source": [
        "## Function to add numbers"
      ]
    },
    {
      "cell_type": "code",
      "execution_count": null,
      "metadata": {
        "id": "zG3yOnkR1p1i",
        "colab": {
          "base_uri": "https://localhost:8080/"
        },
        "outputId": "deb46ae4-2d07-4b51-8ab2-3775c960235f"
      },
      "outputs": [
        {
          "output_type": "stream",
          "name": "stdout",
          "text": [
            "22\n"
          ]
        }
      ],
      "source": [
        "def add_numbers(*numbers):\n",
        "    return sum(numbers)\n",
        "\n",
        "print(add_numbers(10, 12))\n"
      ]
    },
    {
      "cell_type": "markdown",
      "metadata": {
        "id": "dxRlAnV31s27"
      },
      "source": [
        "## Function to multiply numbers"
      ]
    },
    {
      "cell_type": "code",
      "execution_count": null,
      "metadata": {
        "id": "U3hAWC8C1wmT",
        "colab": {
          "base_uri": "https://localhost:8080/"
        },
        "outputId": "6fd67508-28bd-4cd8-f4b0-4470f152217f"
      },
      "outputs": [
        {
          "output_type": "stream",
          "name": "stdout",
          "text": [
            "120\n"
          ]
        }
      ],
      "source": [
        "def multiply(*numbers):\n",
        "  result = 1\n",
        "  for num in numbers:\n",
        "    result *= num\n",
        "  return result\n",
        "print(multiply(10, 12))"
      ]
    },
    {
      "cell_type": "markdown",
      "metadata": {
        "id": "eqsiWtCQ34-V"
      },
      "source": [
        "# 12-02-2025"
      ]
    },
    {
      "cell_type": "markdown",
      "metadata": {
        "id": "OGWw0UsC228f"
      },
      "source": [
        "## Function to print key value pairs"
      ]
    },
    {
      "cell_type": "code",
      "execution_count": null,
      "metadata": {
        "id": "lcJf8juJ23Lh",
        "colab": {
          "base_uri": "https://localhost:8080/"
        },
        "outputId": "f2365d26-e715-4e41-e1ae-93ec963f37cc"
      },
      "outputs": [
        {
          "output_type": "stream",
          "name": "stdout",
          "text": [
            "{'name': 'Alice', 'age': 25, 'city': 'New York'}\n"
          ]
        }
      ],
      "source": [
        "def display_info( ** info):\n",
        "  print(info)\n",
        "\n",
        "display_info(name=\"Alice\", age=25, city=\"New York\")"
      ]
    },
    {
      "cell_type": "markdown",
      "metadata": {
        "id": "8qD8G1J61y6c"
      },
      "source": [
        "## Function to print key value pairs differently"
      ]
    },
    {
      "cell_type": "code",
      "execution_count": null,
      "metadata": {
        "id": "NLnGhoDZ2JrW",
        "colab": {
          "base_uri": "https://localhost:8080/"
        },
        "outputId": "32b7c6de-a081-44ed-d9a2-6637c1f506d1"
      },
      "outputs": [
        {
          "output_type": "stream",
          "name": "stdout",
          "text": [
            "name: Alice\n",
            "age: 25\n",
            "city: New York\n"
          ]
        }
      ],
      "source": [
        "def display_info( ** info):\n",
        "  for key, value in info.items():\n",
        "    print(f\"{key}: {value}\")\n",
        "\n",
        "display_info(name=\"Alice\", age=25, city=\"New York\")"
      ]
    },
    {
      "cell_type": "markdown",
      "metadata": {
        "id": "pl3CFC923cKA"
      },
      "source": [
        "## Lamda function"
      ]
    },
    {
      "cell_type": "code",
      "execution_count": null,
      "metadata": {
        "id": "YkNHVoUZ3eHQ",
        "colab": {
          "base_uri": "https://localhost:8080/"
        },
        "outputId": "44396a20-d93f-4b22-dd07-7b5bfbceba4e"
      },
      "outputs": [
        {
          "output_type": "stream",
          "name": "stdout",
          "text": [
            "16\n"
          ]
        }
      ],
      "source": [
        "Square = lambda x:x*x\n",
        "\n",
        "print(Square(4))"
      ]
    },
    {
      "cell_type": "markdown",
      "metadata": {
        "id": "wjq83zuB5dzW"
      },
      "source": [
        "## Print out appropriate message depending on number entered by user"
      ]
    },
    {
      "cell_type": "code",
      "execution_count": null,
      "metadata": {
        "id": "drxRGgcN58Ay",
        "colab": {
          "base_uri": "https://localhost:8080/"
        },
        "outputId": "ffd2ff22-5c35-4725-9f67-f7dcbfb801e8"
      },
      "outputs": [
        {
          "output_type": "stream",
          "name": "stdout",
          "text": [
            "Enter a number: 4\n",
            "It is an even number\n"
          ]
        }
      ],
      "source": [
        "num = int(input(\"Enter a number: \"))\n",
        "mod = num % 2\n",
        "if mod > 0:\n",
        "  print(\"It is an odd number\")\n",
        "else:\n",
        "  print(\"It is an even number\")"
      ]
    },
    {
      "cell_type": "markdown",
      "metadata": {
        "id": "1XLPVQO98prP"
      },
      "source": [
        "## Program to asks user to enter their age, print message addressed to them telling them when they'll turn 100 years old"
      ]
    },
    {
      "cell_type": "code",
      "execution_count": null,
      "metadata": {
        "id": "IjyevBhr9HHz",
        "colab": {
          "base_uri": "https://localhost:8080/"
        },
        "outputId": "a4277fd8-3032-464f-fe29-ac1c4f96d50f"
      },
      "outputs": [
        {
          "output_type": "stream",
          "name": "stdout",
          "text": [
            "Enter your name: Kunal\n",
            "Enter your age: 19\n",
            "Kunal, you will turn 100 years old in the year 2106\n"
          ]
        }
      ],
      "source": [
        "from datetime import datetime\n",
        "name = input(\"Enter your name: \")\n",
        "age = int(input(\"Enter your age: \"))\n",
        "year = datetime.now().year\n",
        "yearsToTurn100 = 100 - age + year\n",
        "print(f\"{name}, you will turn 100 years old in the year {yearsToTurn100}\")\n"
      ]
    },
    {
      "cell_type": "markdown",
      "metadata": {
        "id": "nJfvUF0wmw7v"
      },
      "source": [
        "# 17-02-2025"
      ]
    },
    {
      "cell_type": "markdown",
      "metadata": {
        "id": "qTI4FGBBm1E1"
      },
      "source": [
        "## Class in python"
      ]
    },
    {
      "cell_type": "code",
      "execution_count": null,
      "metadata": {
        "id": "i3WCKSjVm0GH",
        "colab": {
          "base_uri": "https://localhost:8080/"
        },
        "outputId": "5307dbab-e91d-408e-deeb-580f94660bc4"
      },
      "outputs": [
        {
          "output_type": "stream",
          "name": "stdout",
          "text": [
            "5\n"
          ]
        }
      ],
      "source": [
        "class MyClass:\n",
        "  x = 5\n",
        "\n",
        "obj = MyClass()\n",
        "print(obj.x)"
      ]
    },
    {
      "cell_type": "markdown",
      "metadata": {
        "id": "ety1L0u2m-8L"
      },
      "source": [
        "## `__init__` function in python"
      ]
    },
    {
      "cell_type": "code",
      "execution_count": null,
      "metadata": {
        "id": "GEv_am_Tm_hT",
        "colab": {
          "base_uri": "https://localhost:8080/"
        },
        "outputId": "53b8d746-f88b-41cb-fd74-b83001506b3c"
      },
      "outputs": [
        {
          "output_type": "stream",
          "name": "stdout",
          "text": [
            "Kunal\n"
          ]
        }
      ],
      "source": [
        "class MyName:\n",
        "  def __init__(self, name):\n",
        "    self.name = name\n",
        "\n",
        "obj = MyName(\"Kunal\")\n",
        "print(obj.name)"
      ]
    },
    {
      "cell_type": "markdown",
      "metadata": {
        "id": "maJNBXboqAQ7"
      },
      "source": [
        "## Car class and display method"
      ]
    },
    {
      "cell_type": "code",
      "execution_count": null,
      "metadata": {
        "id": "hyh2BHeaqOyk",
        "colab": {
          "base_uri": "https://localhost:8080/"
        },
        "outputId": "5e157069-0e4f-47e7-eee5-895d9780f10c"
      },
      "outputs": [
        {
          "output_type": "stream",
          "name": "stdout",
          "text": [
            "Ford Mustang 1964\n"
          ]
        }
      ],
      "source": [
        "class Car:\n",
        "  def __init__(self, brand, model, year):\n",
        "    self.brand = \"Ford\"\n",
        "    self.model = \"Mustang\"\n",
        "    self.year = 1964\n",
        "  def display(self):\n",
        "    print(self.brand, self.model, self.year)\n",
        "\n",
        "obj = Car(\"Ford\", \"Mustang\", 1964)\n",
        "obj.display()"
      ]
    },
    {
      "cell_type": "markdown",
      "metadata": {
        "id": "aZIo_SDdsyMU"
      },
      "source": [
        "## Class Rectangle with method display area & perimeter"
      ]
    },
    {
      "cell_type": "code",
      "execution_count": null,
      "metadata": {
        "id": "alutxPPFtx9B",
        "colab": {
          "base_uri": "https://localhost:8080/"
        },
        "outputId": "2cb7a17d-6927-4dd6-f196-af839ded24a9"
      },
      "outputs": [
        {
          "output_type": "stream",
          "name": "stdout",
          "text": [
            "Area: 50\n",
            "Perimeter: 30\n"
          ]
        }
      ],
      "source": [
        "class Rectangle:\n",
        "  def __init__(self, length, width):\n",
        "    self.length = length\n",
        "    self.width = width\n",
        "  def area(self):\n",
        "    return self.length * self.width\n",
        "  def perimeter(self):\n",
        "    return 2* (self.length + self.width)\n",
        "rect1 = Rectangle(10, 5)\n",
        "print(\"Area:\", rect1.area())\n",
        "print(\"Perimeter:\", rect1.perimeter())"
      ]
    },
    {
      "cell_type": "markdown",
      "source": [
        "# 18-02-2025"
      ],
      "metadata": {
        "id": "MFDW7Z1jv7gP"
      }
    },
    {
      "cell_type": "markdown",
      "source": [
        "## Program to create multiple objects of a single class"
      ],
      "metadata": {
        "id": "YWStkQIzwALu"
      }
    },
    {
      "cell_type": "code",
      "source": [
        "class Employee:\n",
        "  employee_id = 0\n",
        "employeel = Employee ()\n",
        "employee2 = Employee ()\n",
        "employeel.employeeID= 1001\n",
        "print (f\"Employee ID: {employeel.employeeID}\")\n",
        "employee2.employeeID= 1002\n",
        "print (f\"Employee ID: {employee2.employeeID}\")"
      ],
      "metadata": {
        "colab": {
          "base_uri": "https://localhost:8080/"
        },
        "id": "MxuuLkK5v6wd",
        "outputId": "57c52a15-ce27-45a5-f2e6-87853b005f25"
      },
      "execution_count": null,
      "outputs": [
        {
          "output_type": "stream",
          "name": "stdout",
          "text": [
            "Employee ID: 1001\n",
            "Employee ID: 1002\n"
          ]
        }
      ]
    },
    {
      "cell_type": "markdown",
      "source": [
        "## Program to create multiple objects of a single class and init constructor"
      ],
      "metadata": {
        "id": "F2U3LzJ-wKAM"
      }
    },
    {
      "cell_type": "code",
      "source": [
        "class Dog:\n",
        "  def __init__(self, name, age):\n",
        "    self.name = name\n",
        "    self.age = age\n",
        "  def bark (self):\n",
        "    print (f\"{self.name} says woof!\")\n",
        "dog1 = Dog (\"Buddy\", 3)\n",
        "dog2 = Dog (\"Max\", 5)\n",
        "print (dog1.name)\n",
        "print (dog2.age)\n",
        "dog1.age = 4\n",
        "print(dog1.age)\n",
        "dog1.bark()\n",
        "dog2.bark ()"
      ],
      "metadata": {
        "colab": {
          "base_uri": "https://localhost:8080/"
        },
        "id": "HDQWK4VZwEGq",
        "outputId": "39e40fae-95d1-46f6-c8c1-db4ad8b3b2ff"
      },
      "execution_count": null,
      "outputs": [
        {
          "output_type": "stream",
          "name": "stdout",
          "text": [
            "Buddy\n",
            "5\n",
            "4\n",
            "Buddy says woof!\n",
            "Max says woof!\n"
          ]
        }
      ]
    },
    {
      "cell_type": "markdown",
      "source": [
        "## Program to create multiple objects of a single class, init constructor, and list"
      ],
      "metadata": {
        "id": "VBP72oouwPxM"
      }
    },
    {
      "cell_type": "code",
      "source": [
        "class Car:\n",
        "  def __init__(self, make, model, year):\n",
        "    self.make = make\n",
        "    self.model = model\n",
        "    self. year = year\n",
        "  def display_info(self):\n",
        "    print (f\" {self.year} {self.make} {self.model}\")\n",
        "car1 = Car (\"Toyota\", \"Camry\", 2020)\n",
        "car2 = Car (\"Honda\", \"Accord\", 2018)\n",
        "car3 = Car (\"Ford\", \"Mustang\", 2021)\n",
        "cars = [car1, car2, car3]\n",
        "for car in cars:\n",
        "  car.display_info()"
      ],
      "metadata": {
        "colab": {
          "base_uri": "https://localhost:8080/"
        },
        "id": "MnMyOoE5wPCI",
        "outputId": "bd7927eb-719b-4c54-f907-b464fb713c47"
      },
      "execution_count": null,
      "outputs": [
        {
          "output_type": "stream",
          "name": "stdout",
          "text": [
            " 2020 Toyota Camry\n",
            " 2018 Honda Accord\n",
            " 2021 Ford Mustang\n"
          ]
        }
      ]
    },
    {
      "cell_type": "markdown",
      "source": [
        "## Demonstrating constructors"
      ],
      "metadata": {
        "id": "ZOkl0bFSw72m"
      }
    },
    {
      "cell_type": "code",
      "source": [
        "class Dog:\n",
        "  def __init__(self, name, age):\n",
        "    self.name = name\n",
        "    self.age = age\n",
        "\n",
        "  def bark (self) :\n",
        "    print (f\"{self.name} says woof!\")\n",
        "\n",
        "  def get_age (self) :\n",
        "    return self.age\n",
        "\n",
        "  def set_age (self, age) :\n",
        "    self.age = age\n",
        "\n",
        "# Creating an object\n",
        "dog1 = Dog(\"Buddy\", 3)\n",
        "\n",
        "# Calling instance methods\n",
        "dog1.bark ()\n",
        "print (dog1.get_age ())\n",
        "\n",
        "# Modifying an attribute using a method\n",
        "dog1.set_age (4)\n",
        "print (dog1.get_age () )"
      ],
      "metadata": {
        "colab": {
          "base_uri": "https://localhost:8080/"
        },
        "id": "rfS_nbkCw64O",
        "outputId": "e82a1f2c-9a4f-4caf-ba45-eab24b53cc7b"
      },
      "execution_count": null,
      "outputs": [
        {
          "output_type": "stream",
          "name": "stdout",
          "text": [
            "Buddy says woof!\n",
            "3\n",
            "4\n"
          ]
        }
      ]
    },
    {
      "cell_type": "markdown",
      "source": [
        "# 20-02-2025"
      ],
      "metadata": {
        "id": "WWZGygmvG0eO"
      }
    },
    {
      "cell_type": "markdown",
      "source": [
        "## Program to show working of abstract data type"
      ],
      "metadata": {
        "id": "C6M4s7EJG6g-"
      }
    },
    {
      "cell_type": "code",
      "source": [
        "class MySet:\n",
        "  def __init__(self):\n",
        "    self.items = []\n",
        "  def add(self, item):\n",
        "    if item not in self.items:\n",
        "      self.items.append(item)\n",
        "  def remove(self, item):\n",
        "    if item in self.items:\n",
        "      self.items.remove(item)\n",
        "  def display(self):\n",
        "    return self.items\n",
        "my_set = MySet()\n",
        "my_set.add(5)\n",
        "my_set.add(10)\n",
        "my_set.add(15)\n",
        "print(my_set.display())\n",
        "my_set.remove(10)\n",
        "print(my_set.display())"
      ],
      "metadata": {
        "colab": {
          "base_uri": "https://localhost:8080/"
        },
        "id": "tcZF0yGlG3nW",
        "outputId": "4516ada2-d8b1-4ec5-e5ce-af01bb24fcac"
      },
      "execution_count": null,
      "outputs": [
        {
          "output_type": "stream",
          "name": "stdout",
          "text": [
            "[5, 10, 15]\n",
            "[5, 15]\n"
          ]
        }
      ]
    },
    {
      "cell_type": "markdown",
      "source": [
        "## Program to show working of encapsulation"
      ],
      "metadata": {
        "id": "JKMEslvXHCqu"
      }
    },
    {
      "cell_type": "code",
      "source": [
        "class BankAccount:\n",
        "    def __init__(self, balance):\n",
        "        self.__balance = balance\n",
        "    def deposit(self, amount):\n",
        "        if amount > 0:\n",
        "            self.__balance += amount\n",
        "            return f\"Deposited ${amount}. New Balance: ${self.__balance}\"\n",
        "        return \"Deposit amount must be positive.\"\n",
        "    def withdraw(self, amount):\n",
        "        if 0 < amount <= self.__balance:\n",
        "            self.__balance -= amount\n",
        "            return f\"Withdrew ${amount}. Remaining Balance: ${self.__balance}\"\n",
        "        return \"Insufficient funds or invalid amount.\"\n",
        "    def get_balance(self):\n",
        "        return f\"Current Balance: ${self.__balance}\"\n",
        "account = BankAccount(1000)\n",
        "print(account.deposit(500))\n",
        "print(account.withdraw(300))\n",
        "print(account.get_balance())"
      ],
      "metadata": {
        "colab": {
          "base_uri": "https://localhost:8080/"
        },
        "id": "qTgOEVExHAdD",
        "outputId": "363cee4c-eae6-403f-a111-1c8d7ce08b5d"
      },
      "execution_count": null,
      "outputs": [
        {
          "output_type": "stream",
          "name": "stdout",
          "text": [
            "Deposited $500. New Balance: $1500\n",
            "Withdrew $300. Remaining Balance: $1200\n",
            "Current Balance: $1200\n"
          ]
        }
      ]
    },
    {
      "cell_type": "code",
      "source": [
        "class Student:\n",
        "    def __init__(self, name, age):\n",
        "        self.__name = name\n",
        "        self.__age = age\n",
        "    def get_name(self):\n",
        "        return self.__name\n",
        "    def set_age(self, age):\n",
        "        if age > 0:\n",
        "            self.__age = age\n",
        "        else:\n",
        "            print(\"Age must be positive!\")\n",
        "    def get_age(self):\n",
        "        return self.__age\n",
        "student = Student(\"Kunal\", 19)\n",
        "print(student.get_name())\n",
        "print(student.get_age())\n",
        "student.set_age(20)\n",
        "print(student.get_age())"
      ],
      "metadata": {
        "colab": {
          "base_uri": "https://localhost:8080/"
        },
        "id": "59OfbjCWHvS3",
        "outputId": "9298393c-3023-4894-bd66-e8934386f941"
      },
      "execution_count": null,
      "outputs": [
        {
          "output_type": "stream",
          "name": "stdout",
          "text": [
            "Kunal\n",
            "19\n",
            "20\n"
          ]
        }
      ]
    },
    {
      "cell_type": "markdown",
      "source": [
        "## Program to show working of inheritance"
      ],
      "metadata": {
        "id": "dSlH3mYvIUHZ"
      }
    },
    {
      "cell_type": "code",
      "source": [
        "class Person(object):\n",
        "    def __init__(self, name, id):\n",
        "        self.name = name\n",
        "        self.id = id\n",
        "    def Display(self):\n",
        "        print(self.name, self.id)\n",
        "class Emp(Person):\n",
        "    def Print(self):\n",
        "        print(\"Emp class called\")\n",
        "Emp_details = Emp(\"Mayank\", 103)\n",
        "Emp_details.Display()\n",
        "Emp_details.Print()"
      ],
      "metadata": {
        "id": "_YYlYGFbIWxX",
        "outputId": "879b0be2-13b0-472d-c08e-66ee2b244fd1",
        "colab": {
          "base_uri": "https://localhost:8080/"
        }
      },
      "execution_count": null,
      "outputs": [
        {
          "output_type": "stream",
          "name": "stdout",
          "text": [
            "Mayank 103\n",
            "Emp class called\n"
          ]
        }
      ]
    },
    {
      "cell_type": "markdown",
      "source": [
        "# Unit 3"
      ],
      "metadata": {
        "id": "nUqWgXa-OQ0p"
      }
    },
    {
      "cell_type": "markdown",
      "source": [
        "# 27-02-2025"
      ],
      "metadata": {
        "id": "hL2hmQvVFV21"
      }
    },
    {
      "cell_type": "markdown",
      "source": [
        "## Write a program to sort elements in ascending order of the integer value given to them"
      ],
      "metadata": {
        "id": "dvIDTyYhFwDs"
      }
    },
    {
      "cell_type": "code",
      "source": [
        "class sorting:\n",
        "  def __init__(self, a, b):\n",
        "    self.a = a\n",
        "    self.b = b\n",
        "  def __repr__(self):\n",
        "    return str((self.a, self.b))\n",
        "sort = [sorting(\"geeks\", 1),\n",
        "        sorting(\"computer\", 3),\n",
        "        sorting(\"for\", 2),\n",
        "        sorting(\"geeks\", 4),\n",
        "        sorting(\"science\", 3)]\n",
        "print(sorted(sort, key = lambda x: x.b))"
      ],
      "metadata": {
        "colab": {
          "base_uri": "https://localhost:8080/"
        },
        "id": "3mke_YeNFfh9",
        "outputId": "0e9c3794-1a30-46ed-8993-95289449e172"
      },
      "execution_count": null,
      "outputs": [
        {
          "output_type": "stream",
          "name": "stdout",
          "text": [
            "[('geeks', 1), ('for', 2), ('computer', 3), ('science', 3), ('geeks', 4)]\n"
          ]
        }
      ]
    },
    {
      "cell_type": "markdown",
      "source": [
        "## Write a program to sort objects on the basis of the string value a variable holds"
      ],
      "metadata": {
        "id": "X5d1R1zHF19L"
      }
    },
    {
      "cell_type": "code",
      "source": [
        "class sorting:\n",
        "  def __init__(self, a, b):\n",
        "    self.a = a\n",
        "    self.b = b\n",
        "  def __repr__(self):\n",
        "    return str((self.a, self.b))\n",
        "sort = [sorting(\"geeks\", 1),\n",
        "        sorting(\"computer\", 3),\n",
        "        sorting(\"for\", 2),\n",
        "        sorting(\"geeks\", 4),\n",
        "        sorting(\"science\", 3)]\n",
        "print(sorted(sort, key = lambda x: x.a.lower()))"
      ],
      "metadata": {
        "colab": {
          "base_uri": "https://localhost:8080/"
        },
        "id": "P83C8YAlGBjG",
        "outputId": "3c4322cf-0f35-4d16-a54e-af485f820c9b"
      },
      "execution_count": null,
      "outputs": [
        {
          "output_type": "stream",
          "name": "stdout",
          "text": [
            "[('computer', 3), ('for', 2), ('geeks', 1), ('geeks', 4), ('science', 3)]\n"
          ]
        }
      ]
    },
    {
      "cell_type": "markdown",
      "source": [
        "## Write a program to print pyramid pattern with *"
      ],
      "metadata": {
        "id": "xKWVWqYXGEKN"
      }
    },
    {
      "cell_type": "code",
      "source": [
        "def full_pyramid(n):\n",
        "  for i in range(1, n + 1):\n",
        "    for j in range(n - i):\n",
        "      print(\" \", end=\"\")\n",
        "    for k in range(1, 2*i):\n",
        "      print(\"*\", end=\"\")\n",
        "    print()\n",
        "full_pyramid(5)"
      ],
      "metadata": {
        "colab": {
          "base_uri": "https://localhost:8080/"
        },
        "id": "kLKm2k4dGDkd",
        "outputId": "50d48bbd-a4b8-45a6-ca85-52c1f7d7237a"
      },
      "execution_count": null,
      "outputs": [
        {
          "output_type": "stream",
          "name": "stdout",
          "text": [
            "    *\n",
            "   ***\n",
            "  *****\n",
            " *******\n",
            "*********\n"
          ]
        }
      ]
    },
    {
      "cell_type": "markdown",
      "source": [
        "## Write a program to pyramid pattern with alphabets"
      ],
      "metadata": {
        "id": "6CAN8iabGKi1"
      }
    },
    {
      "cell_type": "code",
      "source": [
        "n = 5\n",
        "alph = 65\n",
        "for i in range(0, n):\n",
        "  print(\" \" * (n-i), end=\" \")\n",
        "  for j in range(0, i+1):\n",
        "    print(chr(alph), end=\" \")\n",
        "    alph += 1\n",
        "  alph = 65\n",
        "  print()"
      ],
      "metadata": {
        "colab": {
          "base_uri": "https://localhost:8080/"
        },
        "id": "zlB9WXZlGLbO",
        "outputId": "cdd194f3-e6dd-49ab-d91d-f876094fa8f0"
      },
      "execution_count": null,
      "outputs": [
        {
          "output_type": "stream",
          "name": "stdout",
          "text": [
            "      A \n",
            "     A B \n",
            "    A B C \n",
            "   A B C D \n",
            "  A B C D E \n"
          ]
        }
      ]
    },
    {
      "cell_type": "markdown",
      "source": [
        "## Write a program to pyramid pattern with numbers"
      ],
      "metadata": {
        "id": "co5eTVKJGNoM"
      }
    },
    {
      "cell_type": "code",
      "source": [
        "def print_number_pyramid(rows):\n",
        "  for i in range(1, rows + 1):\n",
        "    for j in range(rows - i):\n",
        "      print(\" \", end=\"\")\n",
        "    for j in range(2 * i - 1):\n",
        "      print(j + 1, end=\"\")\n",
        "    print()\n",
        "num_rows = 5\n",
        "print_number_pyramid(num_rows)"
      ],
      "metadata": {
        "colab": {
          "base_uri": "https://localhost:8080/"
        },
        "id": "_DDEwsgxGNH9",
        "outputId": "ed06a574-5946-46e3-bd25-77b609595f91"
      },
      "execution_count": null,
      "outputs": [
        {
          "output_type": "stream",
          "name": "stdout",
          "text": [
            "    1\n",
            "   123\n",
            "  12345\n",
            " 1234567\n",
            "123456789\n"
          ]
        }
      ]
    },
    {
      "cell_type": "markdown",
      "source": [
        "## Write a program to print multiplication table of 5"
      ],
      "metadata": {
        "id": "sgdC_4x-GSKc"
      }
    },
    {
      "cell_type": "code",
      "source": [
        "multiplicand = 5\n",
        "for i in range(1, 11):\n",
        "  result = multiplicand * i\n",
        "  print(f\"{multiplicand} x {i} = {result}\")"
      ],
      "metadata": {
        "colab": {
          "base_uri": "https://localhost:8080/"
        },
        "id": "M6pLHmvxGRpG",
        "outputId": "d1f0fc23-21c3-4195-9815-405a154a8311"
      },
      "execution_count": null,
      "outputs": [
        {
          "output_type": "stream",
          "name": "stdout",
          "text": [
            "5 x 1 = 5\n",
            "5 x 2 = 10\n",
            "5 x 3 = 15\n",
            "5 x 4 = 20\n",
            "5 x 5 = 25\n",
            "5 x 6 = 30\n",
            "5 x 7 = 35\n",
            "5 x 8 = 40\n",
            "5 x 9 = 45\n",
            "5 x 10 = 50\n"
          ]
        }
      ]
    },
    {
      "cell_type": "markdown",
      "source": [
        "## Write a program to print multiplication table of any number entered by user"
      ],
      "metadata": {
        "id": "Al5Lpf00GW48"
      }
    },
    {
      "cell_type": "code",
      "source": [
        "n=int(input(\"Enter the number to print the multiplication table:\"))\n",
        "for i in range(1,11):\n",
        "  print(n,\"x\",i,\"=\",n*i)"
      ],
      "metadata": {
        "colab": {
          "base_uri": "https://localhost:8080/"
        },
        "id": "-uRQeISYGYEl",
        "outputId": "b8068325-b482-454b-a311-4930cd303de7"
      },
      "execution_count": null,
      "outputs": [
        {
          "output_type": "stream",
          "name": "stdout",
          "text": [
            "Enter the number to print the multiplication table:20\n",
            "20 x 1 = 20\n",
            "20 x 2 = 40\n",
            "20 x 3 = 60\n",
            "20 x 4 = 80\n",
            "20 x 5 = 100\n",
            "20 x 6 = 120\n",
            "20 x 7 = 140\n",
            "20 x 8 = 160\n",
            "20 x 9 = 180\n",
            "20 x 10 = 200\n"
          ]
        }
      ]
    },
    {
      "cell_type": "markdown",
      "source": [
        "## Write a program to read a number n and print an identity matrix of the desired size."
      ],
      "metadata": {
        "id": "HZJfROQtGdkF"
      }
    },
    {
      "cell_type": "code",
      "source": [
        "n=int(input(\"Enter a number: \"))\n",
        "for i in range(0,n):\n",
        "  for j in range(0,n):\n",
        "    if(i==j):\n",
        "      print(\"1\",sep=\" \",end=\" \")\n",
        "    else:\n",
        "      print(\"0\",sep=\" \",end=\" \")\n",
        "  print()"
      ],
      "metadata": {
        "colab": {
          "base_uri": "https://localhost:8080/"
        },
        "id": "y9MAj-pUGeZu",
        "outputId": "6dd07616-7221-45e1-ec67-c283587402e0"
      },
      "execution_count": null,
      "outputs": [
        {
          "output_type": "stream",
          "name": "stdout",
          "text": [
            "Enter a number: 4\n",
            "1 0 0 0 \n",
            "0 1 0 0 \n",
            "0 0 1 0 \n",
            "0 0 0 1 \n"
          ]
        }
      ]
    },
    {
      "cell_type": "markdown",
      "source": [
        "# 03-03-2025"
      ],
      "metadata": {
        "id": "8wEl_dG3GiAF"
      }
    },
    {
      "cell_type": "markdown",
      "source": [
        "## Write a program to show single inheritance"
      ],
      "metadata": {
        "id": "GxiRK21pGlqE"
      }
    },
    {
      "cell_type": "code",
      "source": [
        "class Parent:\n",
        "  def func1(self):\n",
        "    print(\"This function is in parent class.\")\n",
        "class Child(Parent):\n",
        "  def func2(self):\n",
        "    print(\"This function is in child class.\")\n",
        "object = Child()\n",
        "object.func1()\n",
        "object.func2()"
      ],
      "metadata": {
        "colab": {
          "base_uri": "https://localhost:8080/"
        },
        "id": "W3nawwrZGkHE",
        "outputId": "5e5cda6c-2420-40e1-f928-99545c47919f"
      },
      "execution_count": null,
      "outputs": [
        {
          "output_type": "stream",
          "name": "stdout",
          "text": [
            "This function is in parent class.\n",
            "This function is in child class.\n"
          ]
        }
      ]
    },
    {
      "cell_type": "markdown",
      "source": [
        "## Write a program to show multiple inheritance"
      ],
      "metadata": {
        "id": "cBWknbfgGoHN"
      }
    },
    {
      "cell_type": "code",
      "source": [
        "class Mother:\n",
        "  mothername = \"\"\n",
        "  def mother(self):\n",
        "    print(self.mothername)\n",
        "class Father:\n",
        "  fathername = \"\"\n",
        "  def father(self):\n",
        "    print(self.fathername)\n",
        "class Son(Mother, Father):\n",
        "  def parents(self):\n",
        "    print(\"Father :\", self.fathername)\n",
        "    print(\"Mother :\", self.mothername)\n",
        "s1 = Son()\n",
        "s1.fathername = \"Ram\"\n",
        "s1.mothername = \"Sita\"\n",
        "s1.parents()"
      ],
      "metadata": {
        "colab": {
          "base_uri": "https://localhost:8080/"
        },
        "id": "mQf3mCuoGqQO",
        "outputId": "d457b0f1-7924-46c4-af33-94ace2ab03de"
      },
      "execution_count": null,
      "outputs": [
        {
          "output_type": "stream",
          "name": "stdout",
          "text": [
            "Father : Ram\n",
            "Mother : Sita\n"
          ]
        }
      ]
    },
    {
      "cell_type": "markdown",
      "source": [
        "## Write a program to show multilevel inheritance"
      ],
      "metadata": {
        "id": "KsHcJbraGshT"
      }
    },
    {
      "cell_type": "code",
      "source": [
        "class Grandfather:\n",
        "  def __init__(self, grandfathername):\n",
        "    self.grandfathername = grandfathername\n",
        "class Father(Grandfather):\n",
        "  def __init__(self, fathername, grandfathername):\n",
        "    self.fathername = fathername\n",
        "    Grandfather.__init__(self, grandfathername)\n",
        "class Son(Father):\n",
        "  def __init__(self, sonname, fathername, grandfathername):\n",
        "    self.sonname = sonname\n",
        "    Father.__init__(self, fathername, grandfathername)\n",
        "  def print_name(self):\n",
        "    print('Grandfather name :', self.grandfathername)\n",
        "    print(\"Father name :\", self.fathername)\n",
        "    print(\"Son name :\", self.sonname)\n",
        "s1 = Son('Prince', 'Rampal', 'Lal mani')\n",
        "print(s1.grandfathername)\n",
        "s1.print_name()"
      ],
      "metadata": {
        "colab": {
          "base_uri": "https://localhost:8080/"
        },
        "id": "6DYQNuRoGtMN",
        "outputId": "2be8357a-4de8-48b0-cbc4-3cfb8ecd3a73"
      },
      "execution_count": null,
      "outputs": [
        {
          "output_type": "stream",
          "name": "stdout",
          "text": [
            "Lal mani\n",
            "Grandfather name : Lal mani\n",
            "Father name : Rampal\n",
            "Son name : Prince\n"
          ]
        }
      ]
    },
    {
      "cell_type": "markdown",
      "source": [
        "# Unit 4"
      ],
      "metadata": {
        "id": "1JTd-3nsGvfv"
      }
    },
    {
      "cell_type": "markdown",
      "source": [
        "## 03-03-2025"
      ],
      "metadata": {
        "id": "ICUUZ_YNGyc2"
      }
    },
    {
      "cell_type": "markdown",
      "source": [
        "## Write a program to create a numpy array"
      ],
      "metadata": {
        "id": "l4q_K__sG4RE"
      }
    },
    {
      "cell_type": "code",
      "source": [
        "import numpy as np\n",
        "arr = np.array([1, 2, 3, 4, 5])\n",
        "print(arr)"
      ],
      "metadata": {
        "colab": {
          "base_uri": "https://localhost:8080/"
        },
        "id": "wTj3H4YRGwlm",
        "outputId": "e1d432f6-bd9b-49f6-d156-2daed0639b70"
      },
      "execution_count": null,
      "outputs": [
        {
          "output_type": "stream",
          "name": "stdout",
          "text": [
            "[1 2 3 4 5]\n"
          ]
        }
      ]
    },
    {
      "cell_type": "markdown",
      "source": [
        "## Write a program to show numpy built in functions"
      ],
      "metadata": {
        "id": "NMY3xuU5G7d8"
      }
    },
    {
      "cell_type": "code",
      "source": [
        "import numpy as np\n",
        "\n",
        "# Creates a 3x3 array filled with zeros\n",
        "arr1 = np.zeros((3, 3))\n",
        "print(arr1)\n",
        "\n",
        "# Creates a 2x2 array filled with ones\n",
        "arr2 = np.ones((2, 2))\n",
        "print(arr2)\n",
        "\n",
        "# Creates an array: [0, 2, 4, 6, 8]\n",
        "arr3 = np.arange(0, 10, 2)\n",
        "print(arr3)\n",
        "\n",
        "# Creates an array with 5 equally spaced numbers\n",
        "arr4 = np.linspace(0, 1, 5)\n",
        "print(arr4)\n",
        "\n",
        "# 3x3 matrix of random values between 0 and 1\n",
        "arr5 = np.random.rand(3, 3)\n",
        "print(arr5)\n",
        "\n",
        "# Random integers from 0 to 9 in a 2x3 shape\n",
        "arr6 = np.random.randint(0, 10, (2, 3))\n",
        "print(arr6)"
      ],
      "metadata": {
        "colab": {
          "base_uri": "https://localhost:8080/"
        },
        "id": "Co65Krn7G6Dt",
        "outputId": "5c6de69b-815f-444a-b1d0-fc3f33bbcf83"
      },
      "execution_count": null,
      "outputs": [
        {
          "output_type": "stream",
          "name": "stdout",
          "text": [
            "[[0. 0. 0.]\n",
            " [0. 0. 0.]\n",
            " [0. 0. 0.]]\n",
            "[[1. 1.]\n",
            " [1. 1.]]\n",
            "[0 2 4 6 8]\n",
            "[0.   0.25 0.5  0.75 1.  ]\n",
            "[[0.22510233 0.58083376 0.67447105]\n",
            " [0.96246204 0.1040123  0.64045211]\n",
            " [0.82341129 0.53561599 0.38672353]]\n",
            "[[5 8 2]\n",
            " [7 7 1]]\n"
          ]
        }
      ]
    },
    {
      "cell_type": "markdown",
      "source": [
        "# 04-03-2025"
      ],
      "metadata": {
        "id": "ZhvKSAhGG-i0"
      }
    },
    {
      "cell_type": "markdown",
      "source": [
        "## Write a program to show datatypes in NumPy"
      ],
      "metadata": {
        "id": "at7vUX1_HD3N"
      }
    },
    {
      "cell_type": "code",
      "source": [
        "import numpy as np\n",
        "\n",
        "# Checking the Data Type of an Array\n",
        "arr = np.array([1, 2, 3, 4])\n",
        "print(arr.dtype)\n",
        "\n",
        "# Specifying a Data Type\n",
        "arr = np.array([1, 2, 3], dtype=np.float64)\n",
        "print(arr)\n",
        "print(arr.dtype)\n",
        "\n",
        "# Converting Data Types (astype)\n",
        "arr = np.array([1.2, 2.5, 3.8])\n",
        "int_arr = arr.astype(np.int32)\n",
        "print(int_arr)\n",
        "print(int_arr.dtype)\n",
        "\n",
        "# Boolean Data Type\n",
        "arr = np.array([0, 1, 3, -2], dtype=bool)\n",
        "print(arr)"
      ],
      "metadata": {
        "colab": {
          "base_uri": "https://localhost:8080/"
        },
        "id": "9PyAYj-mHCA8",
        "outputId": "274d49b4-8fad-4560-eb49-e2f920bd934f"
      },
      "execution_count": null,
      "outputs": [
        {
          "output_type": "stream",
          "name": "stdout",
          "text": [
            "int64\n",
            "[1. 2. 3.]\n",
            "float64\n",
            "[1 2 3]\n",
            "int32\n",
            "[False  True  True  True]\n"
          ]
        }
      ]
    },
    {
      "cell_type": "markdown",
      "source": [
        "# 05-03-2025"
      ],
      "metadata": {
        "id": "WVUbEnGKHGts"
      }
    },
    {
      "cell_type": "markdown",
      "source": [
        "## Write a program to perform arithmetic operations"
      ],
      "metadata": {
        "id": "Meyc7GF3HFr9"
      }
    },
    {
      "cell_type": "code",
      "source": [
        "import numpy as np\n",
        "arr1 = np.array([1, 2, 3, 4])\n",
        "arr2 = np.array([5, 6, 7, 8])\n",
        "print(\"Addition:\", arr1 + arr2)\n",
        "print(\"Subtraction:\", arr1 - arr2)\n",
        "print(\"Multiplication:\", arr1 * arr2)\n",
        "print(\"Division:\", arr1 / arr2)"
      ],
      "metadata": {
        "colab": {
          "base_uri": "https://localhost:8080/"
        },
        "id": "A_p0fTRUHMYe",
        "outputId": "86e703ff-6216-4b81-f33f-99a8ec41d043"
      },
      "execution_count": null,
      "outputs": [
        {
          "output_type": "stream",
          "name": "stdout",
          "text": [
            "Addition: [ 6  8 10 12]\n",
            "Subtraction: [-4 -4 -4 -4]\n",
            "Multiplication: [ 5 12 21 32]\n",
            "Division: [0.2        0.33333333 0.42857143 0.5       ]\n"
          ]
        }
      ]
    },
    {
      "cell_type": "markdown",
      "source": [
        "## Write a program to perform scalar operations"
      ],
      "metadata": {
        "id": "X5wXDLohHQBF"
      }
    },
    {
      "cell_type": "code",
      "source": [
        "import numpy as np\n",
        "arr = np.array([1, 2, 3, 4])\n",
        "print(\"Multiply by 2:\", arr * 2)\n",
        "print(\"Add 5:\", arr + 5)\n",
        "print(\"Divide by 2:\", arr / 2)"
      ],
      "metadata": {
        "id": "tSOIINkFHQ-M"
      },
      "execution_count": null,
      "outputs": []
    },
    {
      "cell_type": "markdown",
      "source": [
        "## Write a program to perform mathematical operations"
      ],
      "metadata": {
        "id": "IXPR07JtHXEl"
      }
    },
    {
      "cell_type": "code",
      "source": [
        "import numpy as np\n",
        "arr = np.array([1, 4, 9, 16])\n",
        "print(\"Square Root:\", np.sqrt(arr))\n",
        "print(\"Exponential:\", np.exp(arr))\n",
        "print(\"Log:\", np.log(arr))"
      ],
      "metadata": {
        "colab": {
          "base_uri": "https://localhost:8080/"
        },
        "id": "Xj5nOmPtHYWE",
        "outputId": "3b1b0993-dc88-4d60-94ce-819cf1109135"
      },
      "execution_count": null,
      "outputs": [
        {
          "output_type": "stream",
          "name": "stdout",
          "text": [
            "Square Root: [1. 2. 3. 4.]\n",
            "Exponential: [2.71828183e+00 5.45981500e+01 8.10308393e+03 8.88611052e+06]\n",
            "Log: [0.         1.38629436 2.19722458 2.77258872]\n"
          ]
        }
      ]
    },
    {
      "cell_type": "markdown",
      "source": [
        "## Write a program to show indexing and slicing"
      ],
      "metadata": {
        "id": "HwOK5CyIHaXM"
      }
    },
    {
      "cell_type": "code",
      "source": [
        "import numpy as np\n",
        "arr = np.array([10, 20, 30, 40, 50])\n",
        "print(arr[0])\n",
        "print(arr[2])\n",
        "print(arr[-1])\n",
        "\n",
        "arr2 = np.array([[1, 2, 3], [4, 5, 6], [7, 8, 9]])\n",
        "print(arr2[1, 2])\n",
        "print(arr2[0, -1])\n",
        "\n",
        "arr = np.array([10, 20, 30, 40, 50, 60, 70])\n",
        "print(arr[1:5])\n",
        "print(arr[:4])\n",
        "print(arr[2:])\n",
        "print(arr[::2])\n",
        "\n",
        "arr = np.array([[1, 2, 3, 4], [5, 6, 7, 8], [9, 10, 11, 12]])\n",
        "print(arr[1:, 2:3])\n",
        "print(arr[1:, :-2])\n",
        "print(arr[:, 2])\n",
        "print(arr[:, 1])"
      ],
      "metadata": {
        "colab": {
          "base_uri": "https://localhost:8080/"
        },
        "id": "ZXDsJZ3zHZbV",
        "outputId": "b14363af-a602-45b2-a87a-0627a8f8c953"
      },
      "execution_count": null,
      "outputs": [
        {
          "output_type": "stream",
          "name": "stdout",
          "text": [
            "10\n",
            "30\n",
            "50\n",
            "6\n",
            "3\n",
            "[20 30 40 50]\n",
            "[10 20 30 40]\n",
            "[30 40 50 60 70]\n",
            "[10 30 50 70]\n",
            "[[ 7]\n",
            " [11]]\n",
            "[[ 5  6]\n",
            " [ 9 10]]\n",
            "[ 3  7 11]\n",
            "[ 2  6 10]\n"
          ]
        }
      ]
    },
    {
      "cell_type": "markdown",
      "source": [
        "## Write a program to modify elements using indexing and slicing"
      ],
      "metadata": {
        "id": "VaWaRs_2HfFc"
      }
    },
    {
      "cell_type": "code",
      "source": [
        "import numpy as np\n",
        "arr = np.array([10, 20, 30, 40, 50])\n",
        "arr[2] = 100\n",
        "print(arr)\n",
        "\n",
        "arr[1:4] = [200, 300, 400]\n",
        "print(arr)"
      ],
      "metadata": {
        "colab": {
          "base_uri": "https://localhost:8080/"
        },
        "id": "AmBIvqCZHgHU",
        "outputId": "9e379ddb-6d37-488b-e1f6-8309024a9d20"
      },
      "execution_count": null,
      "outputs": [
        {
          "output_type": "stream",
          "name": "stdout",
          "text": [
            "[ 10  20 100  40  50]\n",
            "[ 10 200 300 400  50]\n"
          ]
        }
      ]
    },
    {
      "cell_type": "markdown",
      "source": [
        "## Write a program to show boolean indexing in NumPy"
      ],
      "metadata": {
        "id": "QjJ2LTqSHiaV"
      }
    },
    {
      "cell_type": "code",
      "source": [
        "import numpy as np\n",
        "\n",
        "arr = np.array([10, 20, 30, 40, 50])\n",
        "mask = arr > 25\n",
        "print(mask)\n",
        "print(arr[mask])\n",
        "\n",
        "arr = np.array([5, 15, 20, 35, 45])\n",
        "print(arr[arr < 30])\n",
        "print(arr[arr % 2 == 0])\n",
        "\n",
        "arr2D = np.array([[1, 2, 3],\n",
        "                  [4, 5, 6],\n",
        "                  [7, 8, 9]])\n",
        "print(arr2D[arr2D > 4])"
      ],
      "metadata": {
        "colab": {
          "base_uri": "https://localhost:8080/"
        },
        "id": "RVcdpOMpHhKl",
        "outputId": "8b573b9e-ffa4-45d4-82c7-33afe7611e48"
      },
      "execution_count": null,
      "outputs": [
        {
          "output_type": "stream",
          "name": "stdout",
          "text": [
            "[False False  True  True  True]\n",
            "[30 40 50]\n",
            "[ 5 15 20]\n",
            "[20]\n",
            "[5 6 7 8 9]\n"
          ]
        }
      ]
    },
    {
      "cell_type": "markdown",
      "source": [
        "# 06-03-2025"
      ],
      "metadata": {
        "id": "X-J4pCxbHkos"
      }
    },
    {
      "cell_type": "markdown",
      "source": [
        "## Write a program to transpose array"
      ],
      "metadata": {
        "id": "AA7Nd3WcHolF"
      }
    },
    {
      "cell_type": "code",
      "source": [
        "import numpy as np\n",
        "\n",
        "arr = np.array([[1, 2, 3, 4], [5, 6, 7, 8]])\n",
        "print(\"Transposed using .T: \\n\", arr.T)\n",
        "print(\"Transposed using np.transpose: \\n\", np.transpose(arr))"
      ],
      "metadata": {
        "colab": {
          "base_uri": "https://localhost:8080/"
        },
        "id": "Gn3jdhcTHm82",
        "outputId": "3e06096c-c313-4de3-bd50-b729a3bb270c"
      },
      "execution_count": null,
      "outputs": [
        {
          "output_type": "stream",
          "name": "stdout",
          "text": [
            "Transposed using .T: \n",
            " [[1 5]\n",
            " [2 6]\n",
            " [3 7]\n",
            " [4 8]]\n",
            "Transposed using np.transpose: \n",
            " [[1 5]\n",
            " [2 6]\n",
            " [3 7]\n",
            " [4 8]]\n"
          ]
        }
      ]
    },
    {
      "cell_type": "markdown",
      "source": [
        "## Write a program to swap arrays"
      ],
      "metadata": {
        "id": "muDSBxtTHr0L"
      }
    },
    {
      "cell_type": "code",
      "source": [
        "import numpy as np\n",
        "\n",
        "arr = np.array([[10, 20, 30],\n",
        "                [40, 50, 60]])\n",
        "swapped = np.swapaxes(arr, 0, 1)\n",
        "print(\"Original Array:\\n\", arr)\n",
        "print(\"Array after swapping axes:\\n\", swapped)"
      ],
      "metadata": {
        "colab": {
          "base_uri": "https://localhost:8080/"
        },
        "id": "3mQ7DZtKHqct",
        "outputId": "4ddeb385-1838-4563-d1ca-f3741591b6f1"
      },
      "execution_count": null,
      "outputs": [
        {
          "output_type": "stream",
          "name": "stdout",
          "text": [
            "Original Array:\n",
            " [[10 20 30]\n",
            " [40 50 60]]\n",
            "Array after swapping axes:\n",
            " [[10 40]\n",
            " [20 50]\n",
            " [30 60]]\n"
          ]
        }
      ]
    },
    {
      "cell_type": "markdown",
      "source": [
        "# 10-03-2025"
      ],
      "metadata": {
        "id": "gOzDkvsQHukk"
      }
    },
    {
      "cell_type": "markdown",
      "source": [
        "## Write a program to create series"
      ],
      "metadata": {
        "id": "X-k1FfbaHy_e"
      }
    },
    {
      "cell_type": "code",
      "source": [
        "import pandas as pd\n",
        "\n",
        "# Creating a Series from a List\n",
        "data = [10, 20, 30, 40]\n",
        "s = pd.Series(data)\n",
        "print(s)\n",
        "\n",
        "# Creating a Series with a Custom Index\n",
        "s = pd.Series([10, 20, 30], index=['a', 'b', 'c'])\n",
        "print(s)\n",
        "\n",
        "# Creating a Series from a Dictionary\n",
        "data = {'Alice': 50000, 'Bob': 60000, 'Charlie': 70000}\n",
        "s = pd.Series(data)\n",
        "print(s)"
      ],
      "metadata": {
        "colab": {
          "base_uri": "https://localhost:8080/"
        },
        "id": "qc2Lg5bVHxDm",
        "outputId": "98f36be8-fccc-4ee7-b729-427d8d01dbbc"
      },
      "execution_count": null,
      "outputs": [
        {
          "output_type": "stream",
          "name": "stdout",
          "text": [
            "0    10\n",
            "1    20\n",
            "2    30\n",
            "3    40\n",
            "dtype: int64\n",
            "a    10\n",
            "b    20\n",
            "c    30\n",
            "dtype: int64\n",
            "Alice      50000\n",
            "Bob        60000\n",
            "Charlie    70000\n",
            "dtype: int64\n"
          ]
        }
      ]
    },
    {
      "cell_type": "markdown",
      "source": [
        "## Write a program to access data in series"
      ],
      "metadata": {
        "id": "GUyALU3-H461"
      }
    },
    {
      "cell_type": "code",
      "source": [
        "import pandas as pd\n",
        "data = {'Alice': 50000, 'Bob': 60000, 'Charlie': 70000}\n",
        "s = pd.Series(data)\n",
        "print(s['Alice'])\n",
        "print(s[['Alice', 'Charlie']])\n",
        "print(s.iloc[1])"
      ],
      "metadata": {
        "colab": {
          "base_uri": "https://localhost:8080/"
        },
        "id": "fOo-cYP9H5-0",
        "outputId": "95e89829-de33-447a-c99d-2bef79c59fd9"
      },
      "execution_count": null,
      "outputs": [
        {
          "output_type": "stream",
          "name": "stdout",
          "text": [
            "50000\n",
            "Alice      50000\n",
            "Charlie    70000\n",
            "dtype: int64\n",
            "60000\n"
          ]
        }
      ]
    },
    {
      "cell_type": "markdown",
      "source": [
        "## Write a program to perform mathematical operations"
      ],
      "metadata": {
        "id": "GsdYyxIaH9G8"
      }
    },
    {
      "cell_type": "code",
      "source": [
        "import pandas as pd\n",
        "s = pd.Series([10, 20, 30, 40])\n",
        "print(s)\n",
        "print(s + 5)\n",
        "print(s * 2)"
      ],
      "metadata": {
        "colab": {
          "base_uri": "https://localhost:8080/"
        },
        "id": "u1EQuUStH91F",
        "outputId": "78d66e65-dc56-4322-c9ac-80dc836e894b"
      },
      "execution_count": null,
      "outputs": [
        {
          "output_type": "stream",
          "name": "stdout",
          "text": [
            "0    10\n",
            "1    20\n",
            "2    30\n",
            "3    40\n",
            "dtype: int64\n",
            "0    15\n",
            "1    25\n",
            "2    35\n",
            "3    45\n",
            "dtype: int64\n",
            "0    20\n",
            "1    40\n",
            "2    60\n",
            "3    80\n",
            "dtype: int64\n"
          ]
        }
      ]
    },
    {
      "cell_type": "markdown",
      "source": [
        "## Write a program to filter data"
      ],
      "metadata": {
        "id": "ExDcFl-2IADV"
      }
    },
    {
      "cell_type": "code",
      "source": [
        "import pandas as pd\n",
        "s = pd.Series([10, 20, 30, 40])\n",
        "print(s[s > 20])"
      ],
      "metadata": {
        "colab": {
          "base_uri": "https://localhost:8080/"
        },
        "id": "ZcI2gY1eIA02",
        "outputId": "1ae2e69e-36d3-41b8-f592-582f6b4729c8"
      },
      "execution_count": null,
      "outputs": [
        {
          "output_type": "stream",
          "name": "stdout",
          "text": [
            "2    30\n",
            "3    40\n",
            "dtype: int64\n"
          ]
        }
      ]
    },
    {
      "cell_type": "markdown",
      "source": [
        "## Write a program to show descriptive statistics"
      ],
      "metadata": {
        "id": "yZx2EO1fIDOs"
      }
    },
    {
      "cell_type": "code",
      "source": [
        "import pandas as pd\n",
        "s = pd.Series([10, 20, 30, 40])\n",
        "print(\"mean is \", s.mean())\n",
        "print(\"median is \", s.median())\n",
        "print(\"Standard deviation is \", s.std())\n",
        "print(s.describe())"
      ],
      "metadata": {
        "colab": {
          "base_uri": "https://localhost:8080/"
        },
        "id": "yHPVz25fIF7V",
        "outputId": "87db5ccc-5827-45fc-b4cd-3581652145dc"
      },
      "execution_count": null,
      "outputs": [
        {
          "output_type": "stream",
          "name": "stdout",
          "text": [
            "mean is  25.0\n",
            "median is  25.0\n",
            "Standard deviation is  12.909944487358056\n",
            "count     4.000000\n",
            "mean     25.000000\n",
            "std      12.909944\n",
            "min      10.000000\n",
            "25%      17.500000\n",
            "50%      25.000000\n",
            "75%      32.500000\n",
            "max      40.000000\n",
            "dtype: float64\n"
          ]
        }
      ]
    },
    {
      "cell_type": "markdown",
      "source": [
        "## Write a program to convert a series to list or to dictionary"
      ],
      "metadata": {
        "id": "yAcxIdtTIDIt"
      }
    },
    {
      "cell_type": "code",
      "source": [
        "import pandas as pd\n",
        "s = pd.Series([10, 20, 30, 40])\n",
        "print(s.tolist())\n",
        "print(s.to_dict())"
      ],
      "metadata": {
        "colab": {
          "base_uri": "https://localhost:8080/"
        },
        "id": "8MoQVp1pIKXF",
        "outputId": "65d7be12-9b85-4ee6-a2cc-60811971e1d8"
      },
      "execution_count": null,
      "outputs": [
        {
          "output_type": "stream",
          "name": "stdout",
          "text": [
            "[10, 20, 30, 40]\n",
            "{0: 10, 1: 20, 2: 30, 3: 40}\n"
          ]
        }
      ]
    },
    {
      "cell_type": "markdown",
      "source": [
        "## Write a program to create dataframe from dictionary"
      ],
      "metadata": {
        "id": "Nc38pzTwJHVl"
      }
    },
    {
      "cell_type": "code",
      "source": [
        "import pandas as pd\n",
        "data = {\n",
        "    'Name': ['Alice', 'Bob', 'Charlie'],\n",
        "    'Age': [25, 30, 35],\n",
        "    'Salary': [50000, 60000, 70000]\n",
        "}\n",
        "df = pd.DataFrame(data)\n",
        "print(df)"
      ],
      "metadata": {
        "colab": {
          "base_uri": "https://localhost:8080/"
        },
        "id": "t8-_fklDJI8G",
        "outputId": "1e37501d-7a49-4e3a-97af-30ac708d083b"
      },
      "execution_count": null,
      "outputs": [
        {
          "output_type": "stream",
          "name": "stdout",
          "text": [
            "      Name  Age  Salary\n",
            "0    Alice   25   50000\n",
            "1      Bob   30   60000\n",
            "2  Charlie   35   70000\n"
          ]
        }
      ]
    },
    {
      "cell_type": "markdown",
      "source": [
        "# 12-03-2025"
      ],
      "metadata": {
        "id": "BbmamodFJMf1"
      }
    },
    {
      "cell_type": "markdown",
      "source": [
        "## Write a program to read a file"
      ],
      "metadata": {
        "id": "lRYiHl49JQdt"
      }
    },
    {
      "cell_type": "code",
      "source": [
        "f = open(\"my text file.txt\", \"r\")\n",
        "t = f.read()\n",
        "print(t)\n",
        "f.close()"
      ],
      "metadata": {
        "colab": {
          "base_uri": "https://localhost:8080/"
        },
        "id": "RpysJBaNJJ6_",
        "outputId": "858af55c-7c60-440e-db61-004a74ba4bda"
      },
      "execution_count": null,
      "outputs": [
        {
          "output_type": "stream",
          "name": "stdout",
          "text": [
            "\n"
          ]
        }
      ]
    },
    {
      "cell_type": "markdown",
      "source": [
        "## Write a program to write into a file"
      ],
      "metadata": {
        "id": "LCA5CHf0Jdx3"
      }
    },
    {
      "cell_type": "code",
      "source": [
        "a = open(\"my text file.txt\", \"a\")\n",
        "f = a.write(\"Now the file has more content!\")\n",
        "print(f)\n",
        "a.close()"
      ],
      "metadata": {
        "colab": {
          "base_uri": "https://localhost:8080/"
        },
        "id": "3xO3p3bmJf1e",
        "outputId": "d72fef87-e19f-4df9-b41a-e61c609d3318"
      },
      "execution_count": null,
      "outputs": [
        {
          "output_type": "stream",
          "name": "stdout",
          "text": [
            "30\n"
          ]
        }
      ]
    },
    {
      "cell_type": "markdown",
      "source": [
        "## Write a program to append a file"
      ],
      "metadata": {
        "id": "3K8VujR2JjAV"
      }
    },
    {
      "cell_type": "code",
      "source": [
        "f = open(\"my text file.txt\", \"a\")\n",
        "f.write(\"See you soon!\")\n",
        "f.close()\n",
        "f = open(\"my text file.txt\", \"r\")\n",
        "print(f.read())"
      ],
      "metadata": {
        "colab": {
          "base_uri": "https://localhost:8080/"
        },
        "id": "ofEjIScrJhdG",
        "outputId": "f7ee2b09-d461-4bc8-cb9e-ec2d1e6694c7"
      },
      "execution_count": null,
      "outputs": [
        {
          "output_type": "stream",
          "name": "stdout",
          "text": [
            "Now the file has more content!See you soon!\n"
          ]
        }
      ]
    },
    {
      "cell_type": "markdown",
      "source": [
        "# 13-03-2025"
      ],
      "metadata": {
        "id": "boDibyE2Jna9"
      }
    },
    {
      "cell_type": "markdown",
      "source": [
        "## Write a program to draw a line diagram"
      ],
      "metadata": {
        "id": "gtscq-oXJpwd"
      }
    },
    {
      "cell_type": "code",
      "source": [
        "import matplotlib.pyplot as plt\n",
        "import numpy as np\n",
        "xpoints = np.array([0, 6])\n",
        "ypoints = np.array([0, 250])\n",
        "plt.plot(xpoints, ypoints)\n",
        "plt.show()"
      ],
      "metadata": {
        "colab": {
          "base_uri": "https://localhost:8080/",
          "height": 430
        },
        "id": "a97l8w1YJk8-",
        "outputId": "96d168fd-2b2f-4e70-c29e-c7d41e0019d2"
      },
      "execution_count": null,
      "outputs": [
        {
          "output_type": "display_data",
          "data": {
            "text/plain": [
              "<Figure size 640x480 with 1 Axes>"
            ],
            "image/png": "[encoded data removed]"
          },
          "metadata": {}
        }
      ]
    },
    {
      "cell_type": "markdown",
      "source": [
        "## Write a program to draw line diagram reducing intervals"
      ],
      "metadata": {
        "id": "KJbXTKixJt0s"
      }
    },
    {
      "cell_type": "code",
      "source": [
        "import matplotlib.pyplot as plt\n",
        "import numpy as np\n",
        "xpoints = np.array([1, 8])\n",
        "ypoints = np.array([3, 10])\n",
        "plt.plot(xpoints, ypoints)\n",
        "plt.show()"
      ],
      "metadata": {
        "colab": {
          "base_uri": "https://localhost:8080/",
          "height": 430
        },
        "id": "_8Aed_z4Jr2W",
        "outputId": "dd3727ae-5646-4b20-a204-f75808f63079"
      },
      "execution_count": null,
      "outputs": [
        {
          "output_type": "display_data",
          "data": {
            "text/plain": [
              "<Figure size 640x480 with 1 Axes>"
            ],
            "image/png": "[encoded data removed]"
          },
          "metadata": {}
        }
      ]
    },
    {
      "cell_type": "markdown",
      "source": [
        "## Write a program to draw a line diagram with labels and grid"
      ],
      "metadata": {
        "id": "sW4oAgT3JzbV"
      }
    },
    {
      "cell_type": "code",
      "source": [
        "import numpy as np\n",
        "import matplotlib.pyplot as plt\n",
        "x = np.array([80, 85, 90, 95, 100, 105, 110, 115, 120, 125])\n",
        "y = np.array([240, 250, 260, 270, 280, 290, 300, 310, 320, 330])\n",
        "plt.title(\"Sports Watch Data\")\n",
        "plt.xlabel(\"Average Pulse\")\n",
        "plt.ylabel(\"Calorie Burnage\")\n",
        "plt.plot(x, y)\n",
        "plt.grid()\n",
        "plt.show()"
      ],
      "metadata": {
        "colab": {
          "base_uri": "https://localhost:8080/",
          "height": 472
        },
        "id": "bDKBRjlRJwS8",
        "outputId": "28d69083-e70b-47b2-c235-0d86bc7d6db8"
      },
      "execution_count": null,
      "outputs": [
        {
          "output_type": "display_data",
          "data": {
            "text/plain": [
              "<Figure size 640x480 with 1 Axes>"
            ],
            "image/png": "[encoded data removed]"
          },
          "metadata": {}
        }
      ]
    },
    {
      "cell_type": "markdown",
      "source": [
        "## Write a program to draw a scatter plot"
      ],
      "metadata": {
        "id": "e_g2LB4TJ2_N"
      }
    },
    {
      "cell_type": "code",
      "source": [
        "import matplotlib.pyplot as plt\n",
        "import numpy as np\n",
        "x = np.array([5,7,8,7,2,17,2,9,4,11,12,9,6])\n",
        "y = np.array([99,86,87,88,111,86,103,87,94,78,77,85,86])\n",
        "plt.scatter(x, y)\n",
        "plt.show()"
      ],
      "metadata": {
        "colab": {
          "base_uri": "https://localhost:8080/",
          "height": 430
        },
        "id": "udpXqTHqJ1e0",
        "outputId": "87a45445-12b5-4577-eee2-290899f70efa"
      },
      "execution_count": null,
      "outputs": [
        {
          "output_type": "display_data",
          "data": {
            "text/plain": [
              "<Figure size 640x480 with 1 Axes>"
            ],
            "image/png": "[encoded data removed]"
          },
          "metadata": {}
        }
      ]
    },
    {
      "cell_type": "markdown",
      "source": [
        "## Write a program to draw a bar plot"
      ],
      "metadata": {
        "id": "w_xdeLxGJ6Ik"
      }
    },
    {
      "cell_type": "code",
      "source": [
        "import matplotlib.pyplot as plt\n",
        "import numpy as np\n",
        "x = np.array([\"A\", \"B\", \"C\", \"D\"])\n",
        "y = np.array([3, 8, 1, 10])\n",
        "plt.bar(x,y)\n",
        "plt.show()"
      ],
      "metadata": {
        "colab": {
          "base_uri": "https://localhost:8080/",
          "height": 430
        },
        "id": "8JOodT0cJ6os",
        "outputId": "6dbc9230-05da-4a80-cd6a-05d03da612e1"
      },
      "execution_count": null,
      "outputs": [
        {
          "output_type": "display_data",
          "data": {
            "text/plain": [
              "<Figure size 640x480 with 1 Axes>"
            ],
            "image/png": "[encoded data removed]"
          },
          "metadata": {}
        }
      ]
    },
    {
      "cell_type": "markdown",
      "source": [
        "## Write a program to show normal distribution"
      ],
      "metadata": {
        "id": "nAVdhc3QJ9Oe"
      }
    },
    {
      "cell_type": "code",
      "source": [
        "import numpy as np\n",
        "x = np.random.normal(170, 10, 250)\n",
        "print(x)"
      ],
      "metadata": {
        "colab": {
          "base_uri": "https://localhost:8080/"
        },
        "id": "bI_87yJiJ7nN",
        "outputId": "3abbb188-12a0-4e41-e8c8-7a4d9e92b0cf"
      },
      "execution_count": null,
      "outputs": [
        {
          "output_type": "stream",
          "name": "stdout",
          "text": [
            "[174.68713179 171.62781199 159.75059802 187.52258346 166.72638067\n",
            " 185.42071205 166.59879469 164.99136486 171.98274398 163.96411984\n",
            " 166.76402396 194.82614331 196.67195457 165.53758693 164.43810151\n",
            " 169.99075733 177.52201922 176.9454273  156.51477616 180.24495938\n",
            " 170.45292773 161.28505282 179.956978   176.09198208 151.45712446\n",
            " 142.18164496 178.74565596 160.48117955 167.79379044 174.68119576\n",
            " 169.91614088 177.47505324 179.51059282 167.18121476 166.03500223\n",
            " 165.09090122 173.58961161 177.73908323 166.25272855 187.56874527\n",
            " 173.92630605 159.51497527 162.86836482 164.82405512 170.59412022\n",
            " 167.16212731 159.45120016 171.27983152 156.37348219 177.87487245\n",
            " 164.97963579 141.83031306 164.77217741 166.87713228 154.50790113\n",
            " 165.58116824 175.82049049 175.97210548 161.22924117 169.03232337\n",
            " 160.83431399 161.69674579 159.43375442 166.46397777 159.68956323\n",
            " 166.8282561  192.59443677 169.8046045  166.90642905 179.73596981\n",
            " 150.18624092 186.65675671 159.84445299 177.60869228 173.10690188\n",
            " 171.23480836 165.42086828 172.42578259 143.30539984 180.20652617\n",
            " 153.16819066 168.17162903 171.15325546 174.01978611 168.30185907\n",
            " 176.25329912 166.29119172 181.13874017 179.4956685  161.70987534\n",
            " 175.08668437 163.49152243 162.37714825 174.70164494 180.15940053\n",
            " 157.64185112 172.62550607 159.17126534 167.34114531 169.7385334\n",
            " 170.2799818  172.61558059 178.77115359 163.54468831 175.79860665\n",
            " 165.1917811  187.53236517 179.65594    153.18166223 153.14818678\n",
            " 165.27619754 153.95554364 166.66349583 162.18413885 161.38424523\n",
            " 174.9480912  192.74462133 181.230114   170.38185881 164.19732523\n",
            " 161.61837537 173.06890696 183.16012269 152.14882764 174.57810121\n",
            " 162.52435703 183.46988585 184.6847081  178.74148677 175.19213529\n",
            " 185.24125502 182.68505216 171.10187435 172.87926644 154.00528086\n",
            " 164.76061196 173.69649374 157.21665154 168.63749753 174.82497697\n",
            " 171.6027293  154.15922327 166.54721539 144.74559239 162.42801626\n",
            " 176.365542   175.15279836 156.47137698 174.53780036 152.73042896\n",
            " 183.87756883 177.2641774  173.36222481 169.600102   172.33877568\n",
            " 160.63772254 167.09082133 164.88672574 185.90623619 183.5519359\n",
            " 178.22906183 177.96323146 153.36140854 187.48296976 164.79705662\n",
            " 185.5135699  176.25404467 177.14848384 156.49095587 181.73353073\n",
            " 174.48386246 172.26944803 138.90842757 175.40891411 163.92265993\n",
            " 174.73312005 160.87708375 174.08348057 169.90746646 171.64715326\n",
            " 178.67414242 162.9012183  176.89130384 160.5718948  175.5761983\n",
            " 173.11210246 167.52136229 160.38083205 182.6281932  160.3618375\n",
            " 187.78852596 166.12962919 148.52651807 175.2719274  163.00770423\n",
            " 173.65083272 164.698634   185.13047555 182.05827435 155.55036753\n",
            " 165.80727012 170.16568417 176.0541618  184.54633813 178.02832965\n",
            " 158.73797139 170.87226289 169.79870888 169.8979138  172.74348276\n",
            " 176.52484768 166.22743373 165.32301376 178.96869324 158.17783923\n",
            " 176.12511054 157.61835113 176.56968227 171.1901656  171.69857106\n",
            " 164.25590525 179.36421566 185.44932605 188.18687384 157.19071511\n",
            " 164.90884832 174.39778149 145.86032582 173.91530321 175.1593033\n",
            " 152.69060298 169.15968813 182.25203696 168.58057608 174.11939115\n",
            " 169.51085933 172.64900707 172.5438142  187.36073559 176.21414307\n",
            " 178.52738788 167.65628509 160.82943652 177.49707918 183.32468855\n",
            " 172.83188948 178.02174959 171.74215242 180.92570221 152.47128523]\n"
          ]
        }
      ]
    },
    {
      "cell_type": "markdown",
      "source": [
        "## Write a program to show histogram"
      ],
      "metadata": {
        "id": "kduunlrIKA7t"
      }
    },
    {
      "cell_type": "code",
      "source": [
        "import matplotlib.pyplot as plt\n",
        "import numpy as np\n",
        "x = np.random.normal(170, 10, 250)\n",
        "plt.hist(x)\n",
        "plt.show()"
      ],
      "metadata": {
        "colab": {
          "base_uri": "https://localhost:8080/",
          "height": 430
        },
        "id": "ByMhIU96J_YU",
        "outputId": "bb3d68cd-d9bb-4ec3-9e00-231cb9d38ba5"
      },
      "execution_count": null,
      "outputs": [
        {
          "output_type": "display_data",
          "data": {
            "text/plain": [
              "<Figure size 640x480 with 1 Axes>"
            ],
            "image/png": "[encoded data removed]"
          },
          "metadata": {}
        }
      ]
    },
    {
      "cell_type": "markdown",
      "source": [
        "## Write a program to show pie chart"
      ],
      "metadata": {
        "id": "zNUFCe4MKECs"
      }
    },
    {
      "cell_type": "code",
      "source": [
        "import matplotlib.pyplot as plt\n",
        "import numpy as np\n",
        "y = np.array([35, 25, 25, 15])\n",
        "plt.pie(y)\n",
        "plt.show()"
      ],
      "metadata": {
        "colab": {
          "base_uri": "https://localhost:8080/",
          "height": 406
        },
        "id": "jrGC1MOeKCeN",
        "outputId": "6dd9ffe6-22b3-49d8-ba91-c677b9e83314"
      },
      "execution_count": null,
      "outputs": [
        {
          "output_type": "display_data",
          "data": {
            "text/plain": [
              "<Figure size 640x480 with 1 Axes>"
            ],
            "image/png": "[encoded data removed]"
          },
          "metadata": {}
        }
      ]
    }
  ],
  "metadata": {
    "colab": {
      "collapsed_sections": [
        "YTmrocV4t4yz",
        "usv2IR9zwAxG",
        "rLWRW3IDwp1d",
        "J_3H5kBzw2Bx",
        "WMXgm0izxinG",
        "1YaskDe8z1CF",
        "YXGZO6LX2MqM"
      ],
      "toc_visible": true,
      "provenance": []
    },
    "kernelspec": {
      "display_name": "Python 3",
      "name": "python3"
    },
    "language_info": {
      "name": "python"
    }
  },
  "nbformat": 4,
  "nbformat_minor": 0
}